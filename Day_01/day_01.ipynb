{
 "cells": [
  {
   "cell_type": "markdown",
   "metadata": {},
   "source": [
    "# Computational Workflows for biomedical data"
   ]
  },
  {
   "cell_type": "markdown",
   "metadata": {},
   "source": [
    "Welcome to the course Computational Workflows for Biomedical Data. Over the next two weeks, you will learn how to leverage nf-core pipelines to analyze biomedical data and gain hands-on experience in creating your own pipelines, with a strong emphasis on Nextflow and nf-core.\n",
    "\n",
    "Course Structure:\n",
    "\n",
    "- Week 1: You will use a variety of nf-core pipelines to analyze a publicly available biomedical study.\n",
    "- Week 2: We will shift focus to learning the basics of Nextflow, enabling you to design and implement your own computational workflows.<br>\n",
    "- Final Project: The last couple of days, you will apply your knowledge to create a custom pipeline for analyzing biomedical data using Nextflow and the nf-core template."
   ]
  },
  {
   "cell_type": "markdown",
   "metadata": {},
   "source": [
    "## Basics\n",
    "\n",
    "If you have not installed all required software, please do so now asap!\n",
    "\n",
    "\n",
    "If you already installed all software, please go on and start answering the questions in this notebook. If you have any questions, don't hesitate to approach us."
   ]
  },
  {
   "cell_type": "markdown",
   "metadata": {},
   "source": [
    "1. What is nf-core?"
   ]
  },
  {
   "cell_type": "markdown",
   "metadata": {
    "vscode": {
     "languageId": "plaintext"
    }
   },
   "source": [
    "- Nf-core is a community-driven tool that provides analysis pipelines built with Nextflow, which is a workflow management tool mainly used in the field of bioinformatics. Nf-core has a wide field of users: Facilities, developers and single users. "
   ]
  },
  {
   "cell_type": "markdown",
   "metadata": {},
   "source": [
    "2. How many pipelines are there currently in nf-core?"
   ]
  },
  {
   "cell_type": "markdown",
   "metadata": {},
   "source": [
    "- Currently, there are 112 pipelines available as part of nf-core."
   ]
  },
  {
   "cell_type": "markdown",
   "metadata": {},
   "source": [
    "3. Are there any non-bioinformatic pipelines in nf-core?"
   ]
  },
  {
   "cell_type": "markdown",
   "metadata": {},
   "source": [
    "- When you look through the catalogue of pipelines on the nf-core website, you can mainly see bioinformatics pipelines. But there is one economic and one astrology pipeline. \n",
    "\n",
    "Examples: \n",
    "- meerpipe:Astronomy pipeline that processes MeerKAT pulsar data to produce images and data products for pulsar timing analysis\n",
    "- rangeland: Pipeline for remotely sensed imagery"
   ]
  },
  {
   "cell_type": "markdown",
   "metadata": {},
   "source": [
    "4. Let's go back a couple of steps. What is a pipeline and what do we use it for?"
   ]
  },
  {
   "cell_type": "markdown",
   "metadata": {},
   "source": [
    "- A pipeline is a workflow of data processing steps connected in a serie. So the output of one step is the input for the next step and so on. The main goal is to automate common series of steps."
   ]
  },
  {
   "cell_type": "markdown",
   "metadata": {},
   "source": [
    "5. Why do you think nf-core adheres to strict guidelines?"
   ]
  },
  {
   "cell_type": "markdown",
   "metadata": {},
   "source": [
    "- Because nf-core wants the pipelines to work well for a range of different users. Therefore, it includes well-structured pipelines and extensive documentation for each pipeline including installation and usage guides and description of the output files."
   ]
  },
  {
   "cell_type": "markdown",
   "metadata": {},
   "source": [
    "- It is easier to follow if we have the same structure in all pipelines."
   ]
  },
  {
   "cell_type": "markdown",
   "metadata": {
    "vscode": {
     "languageId": "plaintext"
    }
   },
   "source": [
    "6. What are the main features of nf-core pipelines?"
   ]
  },
  {
   "cell_type": "markdown",
   "metadata": {},
   "source": [
    "- First of all, the each pipeline should be reusable. As I said, each pipeline has its own strict documentation to allow this reusability and standardization. Also, it is built with Nextflow. Furthermore, nf-core pipelines have stable releases and are open-source. The pipelines can be run anywhere and the dependencies are automatically installed using Docker. We have packages, so it is easy to install and we get the same results, even when running it from different laptops."
   ]
  },
  {
   "cell_type": "markdown",
   "metadata": {
    "vscode": {
     "languageId": "plaintext"
    }
   },
   "source": [
    "## Let's start using the pipelines"
   ]
  },
  {
   "cell_type": "markdown",
   "metadata": {},
   "source": [
    "1. Find the nf-core pipeline used to measure differential abundance of genes"
   ]
  },
  {
   "cell_type": "markdown",
   "metadata": {},
   "source": [
    "It is called nf-core/differentialabundance."
   ]
  },
  {
   "cell_type": "code",
   "execution_count": 6,
   "metadata": {},
   "outputs": [
    {
     "name": "stdout",
     "output_type": "stream",
     "text": [
      "/home/tabea/ComputationalWorkflows/Tag1\n"
     ]
    }
   ],
   "source": [
    "# run the pipeline in a cell \n",
    "# we need docker to run the pipeline, else we would need to install all packages from the pipeline in our environment\n",
    "\n",
    "\n",
    "# to run bash in jupyter notebooks, simply use ! before the command\n",
    "# e.g.\n",
    "\n",
    "!pwd\n",
    "\n",
    "# For the tasks in the first week, please use the command line to run your commands and simply paste the commands you used in the respective cells!\n"
   ]
  },
  {
   "cell_type": "code",
   "execution_count": 18,
   "metadata": {},
   "outputs": [
    {
     "name": "stdout",
     "output_type": "stream",
     "text": [
      "\u001b[33mNextflow 24.04.4 is available - Please consider updating your version to it\u001b[m\n",
      "N E X T F L O W  ~  version 23.10.0\n",
      "Launching `https://github.com/nf-core/differentialabundance` [distraught_edison] DSL2 - revision: 3dd360fed0 [1.5.0]\n",
      "\u001b[33mWARN: Access to undefined parameter `monochromeLogs` -- Initialise it to a default value eg. `params.monochromeLogs = some_value`\u001b[39m\u001b[K\n",
      "\n",
      "\n",
      "-\u001b[2m----------------------------------------------------\u001b[0m-\n",
      "                                        \u001b[0;32m,--.\u001b[0;30m/\u001b[0;32m,-.\u001b[0m\n",
      "\u001b[0;34m        ___     __   __   __   ___     \u001b[0;32m/,-._.--~'\u001b[0m\n",
      "\u001b[0;34m  |\\ | |__  __ /  ` /  \\ |__) |__         \u001b[0;33m}  {\u001b[0m\n",
      "\u001b[0;34m  | \\| |       \\__, \\__/ |  \\ |___     \u001b[0;32m\\`-._,-`-,\u001b[0m\n",
      "                                        \u001b[0;32m`._,._,'\u001b[0m\n",
      "\u001b[0;35m  nf-core/differentialabundance v1.5.0-g3dd360f\u001b[0m\n",
      "-\u001b[2m----------------------------------------------------\u001b[0m-\n",
      "\u001b[1mCore Nextflow options\u001b[0m\n",
      "  \u001b[0;34mrevision                    : \u001b[0;32m1.5.0\u001b[0m\n",
      "  \u001b[0;34mrunName                     : \u001b[0;32mdistraught_edison\u001b[0m\n",
      "  \u001b[0;34mcontainerEngine             : \u001b[0;32mdocker\u001b[0m\n",
      "  \u001b[0;34mcontainer                   : \u001b[0;32m[RMARKDOWNNOTEBOOK:biocontainers/r-shinyngs:1.8.8--r43hdfd78af_0]\u001b[0m\n",
      "  \u001b[0;34mlaunchDir                   : \u001b[0;32m/home/tabea/ComputationalWorkflows/Tag1\u001b[0m\n",
      "  \u001b[0;34mworkDir                     : \u001b[0;32m/home/tabea/ComputationalWorkflows/Tag1/work\u001b[0m\n",
      "  \u001b[0;34mprojectDir                  : \u001b[0;32m/home/tabea/.nextflow/assets/nf-core/differentialabundance\u001b[0m\n",
      "  \u001b[0;34muserName                    : \u001b[0;32mtabea\u001b[0m\n",
      "  \u001b[0;34mprofile                     : \u001b[0;32mtest,docker\u001b[0m\n",
      "  \u001b[0;34mconfigFiles                 : \u001b[0;32m\u001b[0m\n",
      "\n",
      "\u001b[1mInput/output options\u001b[0m\n",
      "  \u001b[0;34mstudy_name                  : \u001b[0;32mSRP254919\u001b[0m\n",
      "  \u001b[0;34minput                       : \u001b[0;32mhttps://raw.githubusercontent.com/nf-core/test-datasets/modules/data/genomics/mus_musculus/rnaseq_expression/SRP254919.samplesheet.csv\u001b[0m\n",
      "  \u001b[0;34mcontrasts                   : \u001b[0;32mhttps://raw.githubusercontent.com/nf-core/test-datasets/modules/data/genomics/mus_musculus/rnaseq_expression/SRP254919.contrasts.csv\u001b[0m\n",
      "  \u001b[0;34moutdir                      : \u001b[0;32m/home/tabea/ComputationalWorkflows/Tag1/test\u001b[0m\n",
      "\n",
      "\u001b[1mAbundance values\u001b[0m\n",
      "  \u001b[0;34mmatrix                      : \u001b[0;32mhttps://raw.githubusercontent.com/nf-core/test-datasets/modules/data/genomics/mus_musculus/rnaseq_expression/SRP254919.salmon.merged.gene_counts.top1000cov.tsv\u001b[0m\n",
      "  \u001b[0;34mtranscript_length_matrix    : \u001b[0;32mhttps://raw.githubusercontent.com/nf-core/test-datasets/modules/data/genomics/mus_musculus/rnaseq_expression/SRP254919.spoofed_lengths.tsv\u001b[0m\n",
      "  \u001b[0;34maffy_cel_files_archive      : \u001b[0;32mnull\u001b[0m\n",
      "  \u001b[0;34mquerygse                    : \u001b[0;32mnull\u001b[0m\n",
      "\n",
      "\u001b[1mObservations (e.g. samples) options\u001b[0m\n",
      "  \u001b[0;34mobservations_name_col       : \u001b[0;32msample\u001b[0m\n",
      "\n",
      "\u001b[1mAffy input options\u001b[0m\n",
      "  \u001b[0;34maffy_cdfname                : \u001b[0;32mnull\u001b[0m\n",
      "\n",
      "\u001b[1mFiltering\u001b[0m\n",
      "  \u001b[0;34mfiltering_min_abundance     : \u001b[0;32m10\u001b[0m\n",
      "\n",
      "\u001b[1mExploratory analysis\u001b[0m\n",
      "  \u001b[0;34mexploratory_main_variable   : \u001b[0;32mcontrasts\u001b[0m\n",
      "  \u001b[0;34mexploratory_log2_assays     : \u001b[0;32mraw,normalised\u001b[0m\n",
      "\n",
      "\u001b[1mDifferential analysis\u001b[0m\n",
      "  \u001b[0;34mdifferential_file_suffix    : \u001b[0;32m.deseq2.results.tsv\u001b[0m\n",
      "\n",
      "\u001b[1mDESeq2 specific options (RNA-seq only)\u001b[0m\n",
      "  \u001b[0;34mdeseq2_vst_nsub             : \u001b[0;32m500\u001b[0m\n",
      "\n",
      "\u001b[1mLimma specific options (microarray only)\u001b[0m\n",
      "  \u001b[0;34mlimma_spacing               : \u001b[0;32mnull\u001b[0m\n",
      "  \u001b[0;34mlimma_block                 : \u001b[0;32mnull\u001b[0m\n",
      "  \u001b[0;34mlimma_correlation           : \u001b[0;32mnull\u001b[0m\n",
      "\n",
      "\u001b[1mGSEA\u001b[0m\n",
      "  \u001b[0;34mgsea_run                    : \u001b[0;32mtrue\u001b[0m\n",
      "\n",
      "\u001b[1mgprofiler2\u001b[0m\n",
      "  \u001b[0;34mgprofiler2_correction_method: \u001b[0;32mgSCS\u001b[0m\n",
      "  \u001b[0;34mgprofiler2_background_file  : \u001b[0;32mauto\u001b[0m\n",
      "\n",
      "\u001b[1mShiny app settings\u001b[0m\n",
      "  \u001b[0;34mshinyngs_shinyapps_account  : \u001b[0;32mnull\u001b[0m\n",
      "  \u001b[0;34mshinyngs_shinyapps_app_name : \u001b[0;32mnull\u001b[0m\n",
      "\n",
      "\u001b[1mOptions related to gene set analysis\u001b[0m\n",
      "  \u001b[0;34mgene_sets_files             : \u001b[0;32mhttps://raw.githubusercontent.com/nf-core/test-datasets/modules/data/genomics/mus_musculus/gene_set_analysis/mh.all.v2022.1.Mm.symbols.gmt\u001b[0m\n",
      "\n",
      "\u001b[1mReporting options\u001b[0m\n",
      "  \u001b[0;34mreport_title                : \u001b[0;32mnull\u001b[0m\n",
      "  \u001b[0;34mreport_author               : \u001b[0;32mnull\u001b[0m\n",
      "  \u001b[0;34mreport_contributors         : \u001b[0;32mJane Doe\n",
      "Director of Institute of Microbiology\n",
      "University of Smallville;John Smith\n",
      "PhD student\n",
      "Institute of Microbiology\n",
      "University of Smallville\u001b[0m\n",
      "  \u001b[0;34mreport_description          : \u001b[0;32mnull\u001b[0m\n",
      "  \u001b[0;34mreport_round_digits         : \u001b[0;32m3\u001b[0m\n",
      "\n",
      "\u001b[1mReference genome options\u001b[0m\n",
      "  \u001b[0;34mgtf                         : \u001b[0;32mhttps://ftp.ensembl.org/pub/release-81/gtf/mus_musculus/Mus_musculus.GRCm38.81.gtf.gz\u001b[0m\n",
      "\n",
      "\u001b[1mInstitutional config options\u001b[0m\n",
      "  \u001b[0;34mconfig_profile_name         : \u001b[0;32mTest profile\u001b[0m\n",
      "  \u001b[0;34mconfig_profile_description  : \u001b[0;32mMinimal test dataset to check pipeline function\u001b[0m\n",
      "\n",
      "\u001b[1mMax job request options\u001b[0m\n",
      "  \u001b[0;34mmax_cpus                    : \u001b[0;32m2\u001b[0m\n",
      "  \u001b[0;34mmax_memory                  : \u001b[0;32m6.GB\u001b[0m\n",
      "  \u001b[0;34mmax_time                    : \u001b[0;32m6.h\u001b[0m\n",
      "\n",
      "!! Only displaying parameters that differ from the pipeline defaults !!\n",
      "-\u001b[2m----------------------------------------------------\u001b[0m-\n",
      "If you use nf-core/differentialabundance for your analysis please cite:\n",
      "\n",
      "* The pipeline\n",
      "  https://doi.org/10.5281/zenodo.7568000\n",
      "\n",
      "* The nf-core framework\n",
      "  https://doi.org/10.1038/s41587-020-0439-x\n",
      "\n",
      "* Software dependencies\n",
      "  https://github.com/nf-core/differentialabundance/blob/master/CITATIONS.md\n",
      "-\u001b[2m----------------------------------------------------\u001b[0m-\n",
      "[-        ] process > NFCORE_DIFFERENTIALABUNDANC... -\u001b[K\n",
      "[-        ] process > NFCORE_DIFFERENTIALABUNDANC... -\u001b[K\n",
      "[-        ] process > NFCORE_DIFFERENTIALABUNDANC... -\u001b[K\n",
      "[-        ] process > NFCORE_DIFFERENTIALABUNDANC... -\u001b[K\n",
      "[-        ] process > NFCORE_DIFFERENTIALABUNDANC... -\u001b[K\n",
      "[-        ] process > NFCORE_DIFFERENTIALABUNDANC... -\u001b[K\n",
      "[-        ] process > NFCORE_DIFFERENTIALABUNDANC... -\u001b[K\n",
      "[-        ] process > NFCORE_DIFFERENTIALABUNDANC... -\u001b[K\n",
      "[-        ] process > NFCORE_DIFFERENTIALABUNDANC... -\u001b[K\n",
      "[-        ] process > NFCORE_DIFFERENTIALABUNDANC... -\u001b[K\n",
      "\u001b[11A\n",
      "[-        ] process > NFCORE_DIFFERENTIALABUNDANC... -\u001b[K\n",
      "[-        ] process > NFCORE_DIFFERENTIALABUNDANC... -\u001b[K\n",
      "[-        ] process > NFCORE_DIFFERENTIALABUNDANC... -\u001b[K\n",
      "[-        ] process > NFCORE_DIFFERENTIALABUNDANC... -\u001b[K\n",
      "[-        ] process > NFCORE_DIFFERENTIALABUNDANC... -\u001b[K\n",
      "[-        ] process > NFCORE_DIFFERENTIALABUNDANC... -\u001b[K\n",
      "[-        ] process > NFCORE_DIFFERENTIALABUNDANC... -\u001b[K\n",
      "[-        ] process > NFCORE_DIFFERENTIALABUNDANC... -\u001b[K\n",
      "[-        ] process > NFCORE_DIFFERENTIALABUNDANC... -\u001b[K\n",
      "[-        ] process > NFCORE_DIFFERENTIALABUNDANC... -\u001b[K\n",
      "[-        ] process > NFCORE_DIFFERENTIALABUNDANC... -\u001b[K\n",
      "[-        ] process > NFCORE_DIFFERENTIALABUNDANC... -\u001b[K\n",
      "[-        ] process > NFCORE_DIFFERENTIALABUNDANC... -\u001b[K\n",
      "[-        ] process > NFCORE_DIFFERENTIALABUNDANC... -\u001b[K\n",
      "[-        ] process > NFCORE_DIFFERENTIALABUNDANC... -\u001b[K\n",
      "[-        ] process > NFCORE_DIFFERENTIALABUNDANC... -\u001b[K\n",
      "\u001b[17A\n",
      "[-        ] process > NFCORE_DIFFERENTIALABUNDANC... -\u001b[K\n",
      "[-        ] process > NFCORE_DIFFERENTIALABUNDANC... -\u001b[K\n",
      "[-        ] process > NFCORE_DIFFERENTIALABUNDANC... -\u001b[K\n",
      "[-        ] process > NFCORE_DIFFERENTIALABUNDANC... -\u001b[K\n",
      "[-        ] process > NFCORE_DIFFERENTIALABUNDANC... -\u001b[K\n",
      "[-        ] process > NFCORE_DIFFERENTIALABUNDANC... -\u001b[K\n",
      "[-        ] process > NFCORE_DIFFERENTIALABUNDANC... -\u001b[K\n",
      "[-        ] process > NFCORE_DIFFERENTIALABUNDANC... -\u001b[K\n",
      "[-        ] process > NFCORE_DIFFERENTIALABUNDANC... -\u001b[K\n",
      "[-        ] process > NFCORE_DIFFERENTIALABUNDANC... -\u001b[K\n",
      "[-        ] process > NFCORE_DIFFERENTIALABUNDANC... -\u001b[K\n",
      "[-        ] process > NFCORE_DIFFERENTIALABUNDANC... -\u001b[K\n",
      "[-        ] process > NFCORE_DIFFERENTIALABUNDANC... -\u001b[K\n",
      "[-        ] process > NFCORE_DIFFERENTIALABUNDANC... -\u001b[K\n",
      "[-        ] process > NFCORE_DIFFERENTIALABUNDANC... -\u001b[K\n",
      "[-        ] process > NFCORE_DIFFERENTIALABUNDANC... -\u001b[K\n",
      "Staging foreign file: https://ftp.ensembl.org/pub/release-81/gtf/mus_musculus/Mus_musculus.GRCm38.81.gtf.gz\u001b[K\n",
      "\u001b[18A\n",
      "[-        ] process > NFCORE_DIFFERENTIALABUNDANC... [  0%] 0 of 1\u001b[K\n",
      "[-        ] process > NFCORE_DIFFERENTIALABUNDANC... -\u001b[K\n",
      "[-        ] process > NFCORE_DIFFERENTIALABUNDANC... -\u001b[K\n",
      "[-        ] process > NFCORE_DIFFERENTIALABUNDANC... -\u001b[K\n",
      "[-        ] process > NFCORE_DIFFERENTIALABUNDANC... -\u001b[K\n",
      "[-        ] process > NFCORE_DIFFERENTIALABUNDANC... -\u001b[K\n",
      "[-        ] process > NFCORE_DIFFERENTIALABUNDANC... -\u001b[K\n",
      "[-        ] process > NFCORE_DIFFERENTIALABUNDANC... -\u001b[K\n",
      "[-        ] process > NFCORE_DIFFERENTIALABUNDANC... -\u001b[K\n",
      "[-        ] process > NFCORE_DIFFERENTIALABUNDANC... -\u001b[K\n",
      "[-        ] process > NFCORE_DIFFERENTIALABUNDANC... -\u001b[K\n",
      "[-        ] process > NFCORE_DIFFERENTIALABUNDANC... -\u001b[K\n",
      "[-        ] process > NFCORE_DIFFERENTIALABUNDANC... -\u001b[K\n",
      "[-        ] process > NFCORE_DIFFERENTIALABUNDANC... -\u001b[K\n",
      "[-        ] process > NFCORE_DIFFERENTIALABUNDANC... -\u001b[K\n",
      "[-        ] process > NFCORE_DIFFERENTIALABUNDANC... -\u001b[K\n",
      "Staging foreign file: https://ftp.ensembl.org/pub/release-81/gtf/mus_musculus/Mus_musculus.GRCm38.81.gtf.gz\u001b[K\n",
      "\u001b[18A\n",
      "executor >  local (1)\u001b[K\n",
      "[9b/a8fa41] process > NFCORE_DIFFERENTIALABUNDANC... [  0%] 0 of 1\u001b[K\n",
      "[-        ] process > NFCORE_DIFFERENTIALABUNDANC... -\u001b[K\n",
      "[-        ] process > NFCORE_DIFFERENTIALABUNDANC... -\u001b[K\n",
      "[-        ] process > NFCORE_DIFFERENTIALABUNDANC... -\u001b[K\n",
      "[-        ] process > NFCORE_DIFFERENTIALABUNDANC... -\u001b[K\n",
      "[-        ] process > NFCORE_DIFFERENTIALABUNDANC... -\u001b[K\n",
      "[-        ] process > NFCORE_DIFFERENTIALABUNDANC... -\u001b[K\n",
      "[-        ] process > NFCORE_DIFFERENTIALABUNDANC... -\u001b[K\n",
      "[-        ] process > NFCORE_DIFFERENTIALABUNDANC... -\u001b[K\n",
      "[-        ] process > NFCORE_DIFFERENTIALABUNDANC... -\u001b[K\n",
      "[-        ] process > NFCORE_DIFFERENTIALABUNDANC... -\u001b[K\n",
      "[-        ] process > NFCORE_DIFFERENTIALABUNDANC... -\u001b[K\n",
      "[-        ] process > NFCORE_DIFFERENTIALABUNDANC... -\u001b[K\n",
      "[-        ] process > NFCORE_DIFFERENTIALABUNDANC... -\u001b[K\n",
      "[-        ] process > NFCORE_DIFFERENTIALABUNDANC... -\u001b[K\n",
      "[-        ] process > NFCORE_DIFFERENTIALABUNDANC... -\u001b[K\n",
      "Staging foreign file: https://ftp.ensembl.org/pub/release-81/gtf/mus_musculus/Mus_musculus.GRCm38.81.gtf.gz\u001b[K\n",
      "\u001b[31mERROR ~ Error executing process > 'NFCORE_DIFFERENTIALABUNDANCE:DIFFERENTIALABUNDANCE:GUNZIP_GTF (Mus_musculus.GRCm38.81.gtf.gz)'\u001b[K\n",
      "\u001b[K\n",
      "Caused by:\u001b[K\n",
      "  Process `NFCORE_DIFFERENTIALABUNDANCE:DIFFERENTIALABUNDANCE:GUNZIP_GTF (Mus_musculus.GRCm38.81.gtf.gz)` terminated with an error exit status (126)\u001b[K\n",
      "\u001b[K\n",
      "Command executed:\u001b[K\n",
      "\u001b[K\n",
      "  # Not calling gunzip itself because it creates files\u001b[K\n",
      "  # with the original group ownership rather than the\u001b[K\n",
      "  # default one for that user / the work directory\u001b[K\n",
      "  gzip \\\u001b[K\n",
      "      -cd \\\u001b[K\n",
      "       \\\u001b[K\n",
      "      Mus_musculus.GRCm38.81.gtf.gz \\\u001b[K\n",
      "      > Mus_musculus.GRCm38.81.gtf\u001b[K\n",
      "  \u001b[K\n",
      "  cat <<-END_VERSIONS > versions.yml\u001b[K\n",
      "  \"NFCORE_DIFFERENTIALABUNDANCE:DIFFERENTIALABUNDANCE:GUNZIP_GTF\":\u001b[K\n",
      "      gunzip: $(echo $(gunzip --version 2>&1) | sed 's/^.*(gzip) //; s/ Copyright.*$//')\u001b[K\n",
      "  END_VERSIONS\u001b[K\n",
      "\u001b[K\n",
      "Command exit status:\u001b[K\n",
      "  126\u001b[K\n",
      "\u001b[K\n",
      "Command output:\u001b[K\n",
      "  (empty)\u001b[K\n",
      "\u001b[K\n",
      "Command error:\u001b[K\n",
      "  docker: permission denied while trying to connect to the Docker daemon socket at unix:///var/run/docker.sock: Head \"http://%2Fvar%2Frun%2Fdocker.sock/_ping\": dial unix /var/run/docker.sock: connect: permission denied.\u001b[K\n",
      "  See 'docker run --help'.\u001b[K\n",
      "\u001b[K\n",
      "Work dir:\u001b[K\n",
      "  /home/tabea/ComputationalWorkflows/Tag1/work/9b/a8fa41493ac6d3e38cb351dcd78c0b\u001b[K\n",
      "\u001b[K\n",
      "Tip: when you have fixed the problem you can continue the execution adding the option `-resume` to the run command line\u001b[K\n",
      "\u001b[K\n",
      " -- Check '.nextflow.log' file for details\u001b[39m\u001b[K\n",
      "\u001b[56A\n",
      "executor >  local (1)\u001b[K\n",
      "[9b/a8fa41] process > NFCORE_DIFFERENTIALABUNDANC... [100%] 1 of 1, failed: 1 ✘\u001b[K\n",
      "[-        ] process > NFCORE_DIFFERENTIALABUNDANC... -\u001b[K\n",
      "[-        ] process > NFCORE_DIFFERENTIALABUNDANC... -\u001b[K\n",
      "[-        ] process > NFCORE_DIFFERENTIALABUNDANC... -\u001b[K\n",
      "[-        ] process > NFCORE_DIFFERENTIALABUNDANC... -\u001b[K\n",
      "[-        ] process > NFCORE_DIFFERENTIALABUNDANC... -\u001b[K\n",
      "[-        ] process > NFCORE_DIFFERENTIALABUNDANC... -\u001b[K\n",
      "[-        ] process > NFCORE_DIFFERENTIALABUNDANC... -\u001b[K\n",
      "[-        ] process > NFCORE_DIFFERENTIALABUNDANC... -\u001b[K\n",
      "[-        ] process > NFCORE_DIFFERENTIALABUNDANC... -\u001b[K\n",
      "[-        ] process > NFCORE_DIFFERENTIALABUNDANC... -\u001b[K\n",
      "[-        ] process > NFCORE_DIFFERENTIALABUNDANC... -\u001b[K\n",
      "[-        ] process > NFCORE_DIFFERENTIALABUNDANC... -\u001b[K\n",
      "[-        ] process > NFCORE_DIFFERENTIALABUNDANC... -\u001b[K\n",
      "[-        ] process > NFCORE_DIFFERENTIALABUNDANC... -\u001b[K\n",
      "[-        ] process > NFCORE_DIFFERENTIALABUNDANC... -\u001b[K\n",
      "Staging foreign file: https://ftp.ensembl.org/pub/release-81/gtf/mus_musculus/Mus_musculus.GRCm38.81.gtf.gz\u001b[K\n",
      "Execution cancelled -- Finishing pending tasks before exit\u001b[K\n",
      "\u001b[31mERROR ~ Error executing process > 'NFCORE_DIFFERENTIALABUNDANCE:DIFFERENTIALABUNDANCE:GUNZIP_GTF (Mus_musculus.GRCm38.81.gtf.gz)'\u001b[K\n",
      "\u001b[K\n",
      "Caused by:\u001b[K\n",
      "  Process `NFCORE_DIFFERENTIALABUNDANCE:DIFFERENTIALABUNDANCE:GUNZIP_GTF (Mus_musculus.GRCm38.81.gtf.gz)` terminated with an error exit status (126)\u001b[K\n",
      "\u001b[K\n",
      "Command executed:\u001b[K\n",
      "\u001b[K\n",
      "  # Not calling gunzip itself because it creates files\u001b[K\n",
      "  # with the original group ownership rather than the\u001b[K\n",
      "  # default one for that user / the work directory\u001b[K\n",
      "  gzip \\\u001b[K\n",
      "      -cd \\\u001b[K\n",
      "       \\\u001b[K\n",
      "      Mus_musculus.GRCm38.81.gtf.gz \\\u001b[K\n",
      "      > Mus_musculus.GRCm38.81.gtf\u001b[K\n",
      "  \u001b[K\n",
      "  cat <<-END_VERSIONS > versions.yml\u001b[K\n",
      "  \"NFCORE_DIFFERENTIALABUNDANCE:DIFFERENTIALABUNDANCE:GUNZIP_GTF\":\u001b[K\n",
      "      gunzip: $(echo $(gunzip --version 2>&1) | sed 's/^.*(gzip) //; s/ Copyright.*$//')\u001b[K\n",
      "  END_VERSIONS\u001b[K\n",
      "\u001b[K\n",
      "Command exit status:\u001b[K\n",
      "  126\u001b[K\n",
      "\u001b[K\n",
      "Command output:\u001b[K\n",
      "  (empty)\u001b[K\n",
      "\u001b[K\n",
      "Command error:\u001b[K\n",
      "  docker: permission denied while trying to connect to the Docker daemon socket at unix:///var/run/docker.sock: Head \"http://%2Fvar%2Frun%2Fdocker.sock/_ping\": dial unix /var/run/docker.sock: connect: permission denied.\u001b[K\n",
      "  See 'docker run --help'.\u001b[K\n",
      "\u001b[K\n",
      "Work dir:\u001b[K\n",
      "  /home/tabea/ComputationalWorkflows/Tag1/work/9b/a8fa41493ac6d3e38cb351dcd78c0b\u001b[K\n",
      "\u001b[K\n",
      "Tip: when you have fixed the problem you can continue the execution adding the option `-resume` to the run command line\u001b[K\n",
      "\u001b[K\n",
      " -- Check '.nextflow.log' file for details\u001b[39m\u001b[K\n",
      "\u001b[57A\n",
      "executor >  local (1)\u001b[K\n",
      "[9b/a8fa41] process > NFCORE_DIFFERENTIALABUNDANC... [100%] 1 of 1, failed: 1 ✘\u001b[K\n",
      "[-        ] process > NFCORE_DIFFERENTIALABUNDANC... -\u001b[K\n",
      "[-        ] process > NFCORE_DIFFERENTIALABUNDANC... -\u001b[K\n",
      "[-        ] process > NFCORE_DIFFERENTIALABUNDANC... -\u001b[K\n",
      "[-        ] process > NFCORE_DIFFERENTIALABUNDANC... -\u001b[K\n",
      "[-        ] process > NFCORE_DIFFERENTIALABUNDANC... -\u001b[K\n",
      "[-        ] process > NFCORE_DIFFERENTIALABUNDANC... -\u001b[K\n",
      "[-        ] process > NFCORE_DIFFERENTIALABUNDANC... -\u001b[K\n",
      "[-        ] process > NFCORE_DIFFERENTIALABUNDANC... -\u001b[K\n",
      "[-        ] process > NFCORE_DIFFERENTIALABUNDANC... -\u001b[K\n",
      "[-        ] process > NFCORE_DIFFERENTIALABUNDANC... -\u001b[K\n",
      "[-        ] process > NFCORE_DIFFERENTIALABUNDANC... -\u001b[K\n",
      "[-        ] process > NFCORE_DIFFERENTIALABUNDANC... -\u001b[K\n",
      "[-        ] process > NFCORE_DIFFERENTIALABUNDANC... -\u001b[K\n",
      "[-        ] process > NFCORE_DIFFERENTIALABUNDANC... -\u001b[K\n",
      "[-        ] process > NFCORE_DIFFERENTIALABUNDANC... -\u001b[K\n",
      "Staging foreign file: https://ftp.ensembl.org/pub/release-81/gtf/mus_musculus/Mus_musculus.GRCm38.81.gtf.gz\u001b[K\n",
      "Execution cancelled -- Finishing pending tasks before exit\u001b[K\n",
      "\u001b[31mERROR ~ Error executing process > 'NFCORE_DIFFERENTIALABUNDANCE:DIFFERENTIALABUNDANCE:GUNZIP_GTF (Mus_musculus.GRCm38.81.gtf.gz)'\u001b[K\n",
      "\u001b[K\n",
      "Caused by:\u001b[K\n",
      "  Process `NFCORE_DIFFERENTIALABUNDANCE:DIFFERENTIALABUNDANCE:GUNZIP_GTF (Mus_musculus.GRCm38.81.gtf.gz)` terminated with an error exit status (126)\u001b[K\n",
      "\u001b[K\n",
      "Command executed:\u001b[K\n",
      "\u001b[K\n",
      "  # Not calling gunzip itself because it creates files\u001b[K\n",
      "  # with the original group ownership rather than the\u001b[K\n",
      "  # default one for that user / the work directory\u001b[K\n",
      "  gzip \\\u001b[K\n",
      "      -cd \\\u001b[K\n",
      "       \\\u001b[K\n",
      "      Mus_musculus.GRCm38.81.gtf.gz \\\u001b[K\n",
      "      > Mus_musculus.GRCm38.81.gtf\u001b[K\n",
      "  \u001b[K\n",
      "  cat <<-END_VERSIONS > versions.yml\u001b[K\n",
      "  \"NFCORE_DIFFERENTIALABUNDANCE:DIFFERENTIALABUNDANCE:GUNZIP_GTF\":\u001b[K\n",
      "      gunzip: $(echo $(gunzip --version 2>&1) | sed 's/^.*(gzip) //; s/ Copyright.*$//')\u001b[K\n",
      "  END_VERSIONS\u001b[K\n",
      "\u001b[K\n",
      "Command exit status:\u001b[K\n",
      "  126\u001b[K\n",
      "\u001b[K\n",
      "Command output:\u001b[K\n",
      "  (empty)\u001b[K\n",
      "\u001b[K\n",
      "Command error:\u001b[K\n",
      "  docker: permission denied while trying to connect to the Docker daemon socket at unix:///var/run/docker.sock: Head \"http://%2Fvar%2Frun%2Fdocker.sock/_ping\": dial unix /var/run/docker.sock: connect: permission denied.\u001b[K\n",
      "  See 'docker run --help'.\u001b[K\n",
      "\u001b[K\n",
      "Work dir:\u001b[K\n",
      "  /home/tabea/ComputationalWorkflows/Tag1/work/9b/a8fa41493ac6d3e38cb351dcd78c0b\u001b[K\n",
      "\u001b[K\n",
      "Tip: when you have fixed the problem you can continue the execution adding the option `-resume` to the run command line\u001b[K\n",
      "\u001b[K\n",
      " -- Check '.nextflow.log' file for details\u001b[39m\u001b[K\n",
      "\n"
     ]
    }
   ],
   "source": [
    "# run the pipeline in the test profile using docker containers\n",
    "# make sure to specify the version you want to use (use the latest one)\n",
    "\n",
    "!nextflow run nf-core/differentialabundance -r 1.5.0 -profile test,docker --outdir /home/tabea/ComputationalWorkflows/Tag1/test\n",
    "# this command was run in ubuntu because of an error: Command error:\n",
    "# docker: permission denied while trying to connect to the Docker daemon socket at unix:///var/run/docker.sock: Head \"http://%2Fvar%2Frun%2Fdocker.sock/_ping\": dial unix /var/run/docker.sock: connect: permission denied.\n",
    "# There it run sucessfully. I saved the output in the \"test\" folder.\n",
    "\n",
    "# Duration: 5 min 14 sec\n",
    "# 21 succeeded\n"
   ]
  },
  {
   "cell_type": "code",
   "execution_count": 16,
   "metadata": {},
   "outputs": [
    {
     "name": "stdout",
     "output_type": "stream",
     "text": [
      "Docker version 27.2.0, build 3ab4256\n"
     ]
    }
   ],
   "source": [
    "!docker --version"
   ]
  },
  {
   "cell_type": "code",
   "execution_count": null,
   "metadata": {},
   "outputs": [],
   "source": [
    "# repeat the run. What did change?\n",
    "!nextflow run nf-core/differentialabundance -r 1.5.0 -profile test,docker --outdir /home/tabea/ComputationalWorkflows/Tag1/test2\n",
    "\n",
    "# it run through much faster, the first run: 5 min 14 sec, the second run: 1 min 29 sec\n",
    "# 21 succeeded, which is equal to the first run"
   ]
  },
  {
   "cell_type": "code",
   "execution_count": null,
   "metadata": {},
   "outputs": [],
   "source": [
    "# now set -resume to the command. What did change?\n",
    "!nextflow run nf-core/differentialabundance -r 1.5.0 -profile test,docker -resume --outdir /home/tabea/ComputationalWorkflows/Tag1/test3\n",
    "\n",
    "# The run was even faster than the other ones (17.3s)\n",
    "# But only 3 succeeded and 18 cached\n"
   ]
  },
  {
   "cell_type": "markdown",
   "metadata": {},
   "source": [
    "Check out the current directory. Next to the outdir you specified, what else has changed?"
   ]
  },
  {
   "cell_type": "markdown",
   "metadata": {},
   "source": []
  },
  {
   "cell_type": "code",
   "execution_count": null,
   "metadata": {},
   "outputs": [],
   "source": [
    "# delete the work directory and run the pipeline again using -resume. What did change?\n",
    "\n",
    "!nextflow run nf-core/differentialabundance -r 1.5.0 -profile test,docker -resume --outdir /home/tabea/ComputationalWorkflows/Tag1/test4\n"
   ]
  },
  {
   "cell_type": "markdown",
   "metadata": {},
   "source": [
    "What changed?\n",
    "- now, the run took 1 min 34 sec, equal to test2. \n",
    "- Also, we get 21 succeeded"
   ]
  },
  {
   "cell_type": "markdown",
   "metadata": {},
   "source": [
    "## Lets look at the results"
   ]
  },
  {
   "cell_type": "markdown",
   "metadata": {},
   "source": [
    "### What is differential abundance analysis?"
   ]
  },
  {
   "cell_type": "markdown",
   "metadata": {},
   "source": [
    "Differential abundance analysis (DAA) is a statistical data analysis method which calculates the abundance of specific taxa in the context of microbiome data. There are different DAA tools available that sometimes can produce different output.\n",
    "\n",
    "(Quellen: https://microbiomejournal.biomedcentral.com/articles/10.1186/s40168-022-01320-0, https://genomebiology.biomedcentral.com/articles/10.1186/s13059-022-02655-5)"
   ]
  },
  {
   "cell_type": "markdown",
   "metadata": {},
   "source": [
    "Give the most important plots from the report:"
   ]
  },
  {
   "cell_type": "markdown",
   "metadata": {},
   "source": [
    "- the plots look equal in the different runs"
   ]
  },
  {
   "cell_type": "markdown",
   "metadata": {},
   "source": [
    "![alt text](test/plots/exploratory/treatment/png/boxplot.png \"Title\")"
   ]
  },
  {
   "cell_type": "markdown",
   "metadata": {},
   "source": [
    "![alt text](test/plots/exploratory/treatment/png/density.png \"Title\")"
   ]
  },
  {
   "cell_type": "markdown",
   "metadata": {},
   "source": [
    "![alt text](test/plots/qc/treatment_mCherry_hND6_sample_number.deseq2.dispersion.png \"Title\")"
   ]
  },
  {
   "cell_type": "markdown",
   "metadata": {},
   "source": [
    "![alt text](test/plots/exploratory/treatment/png/sample_dendrogram.png \"Title\")"
   ]
  }
 ],
 "metadata": {
  "kernelspec": {
   "display_name": "work",
   "language": "python",
   "name": "python3"
  },
  "language_info": {
   "codemirror_mode": {
    "name": "ipython",
    "version": 3
   },
   "file_extension": ".py",
   "mimetype": "text/x-python",
   "name": "python",
   "nbconvert_exporter": "python",
   "pygments_lexer": "ipython3",
   "version": "3.10.14"
  }
 },
 "nbformat": 4,
 "nbformat_minor": 2
}
