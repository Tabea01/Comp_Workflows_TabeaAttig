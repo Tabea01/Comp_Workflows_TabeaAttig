{
 "cells": [
  {
   "cell_type": "markdown",
   "metadata": {},
   "source": [
    "# Day 6 - Nextflow Basics: Introduction to channels and operators"
   ]
  },
  {
   "cell_type": "markdown",
   "metadata": {},
   "source": [
    "Today, we will begin exploring Nextflow, the programming language that powers the advanced nf-core pipelines you worked with last week. Your task is to dive into the core concepts and syntax of Nextflow, understanding how this language enables the development of scalable and reproducible workflows.\n",
    "\n",
    "Nextflow works quite differently from traditional programming languages like Python or Java that you may already be familiar with. To get started, it is essential to understand the foundational concepts that set Nextflow apart."
   ]
  },
  {
   "cell_type": "markdown",
   "metadata": {},
   "source": [
    "### 1. Describe the concept of Workflows, Processes and Channels we deal with in Nextflow"
   ]
  },
  {
   "cell_type": "markdown",
   "metadata": {},
   "source": [
    "Workflows: Workflows define the overall sequence of tasks in a Nextflow pipeline and how different processes are connected with each other. \n",
    "\n",
    "\n",
    "Processes: In nextfow, a process includes individual tasks occuring in the pipeline. Processes are idependently executed and isolated from each other. They take some input, execute the command, and produce an output.\n",
    "\n",
    "\n",
    "Channels: Channels are used to pass the data between different processes, allowing to exchange information (interaction between processes). We can either have one or multiple channels as input and output of a process."
   ]
  },
  {
   "cell_type": "markdown",
   "metadata": {},
   "source": [
    "## Introduction to channels\n",
    "\n",
    "Please refer to the file  $\\texttt{channels\\_intro.nf}$ for the next exercises. Then run the code with the respective flag here below. "
   ]
  },
  {
   "cell_type": "code",
   "execution_count": 153,
   "metadata": {},
   "outputs": [
    {
     "name": "stdout",
     "output_type": "stream",
     "text": [
      "\u001b[33mNextflow 24.04.4 is available - Please consider updating your version to it\u001b[m\n",
      "N E X T F L O W  ~  version 23.10.0\n",
      "Launching `channels_intro.nf` [pensive_lorenz] DSL2 - revision: c44a8e6a38\n",
      "1\n",
      "2\n",
      "3\n",
      "4\n",
      "5\n",
      "6\n",
      "7\n",
      "8\n",
      "9\n",
      "10\n"
     ]
    }
   ],
   "source": [
    "# Task 1 - Create a channel that enumerates the numbers from 1 to 10\n",
    "!nextflow run channels_intro.nf --step 1"
   ]
  },
  {
   "cell_type": "code",
   "execution_count": 154,
   "metadata": {},
   "outputs": [
    {
     "name": "stdout",
     "output_type": "stream",
     "text": [
      "\u001b[33mNextflow 24.04.4 is available - Please consider updating your version to it\u001b[m\n",
      "N E X T F L O W  ~  version 23.10.0\n",
      "Launching `channels_intro.nf` [magical_bhabha] DSL2 - revision: c44a8e6a38\n",
      "A\n",
      "B\n",
      "C\n",
      "D\n",
      "E\n",
      "F\n",
      "G\n",
      "H\n",
      "I\n",
      "J\n",
      "K\n",
      "L\n",
      "M\n",
      "N\n",
      "O\n",
      "P\n",
      "Q\n",
      "R\n",
      "S\n",
      "T\n",
      "U\n",
      "V\n",
      "W\n",
      "X\n",
      "Y\n",
      "Z\n"
     ]
    }
   ],
   "source": [
    "# Task 2 - Create a channel that gives out the entire alphabet\n",
    "!nextflow run channels_intro.nf --step 2"
   ]
  },
  {
   "cell_type": "code",
   "execution_count": 155,
   "metadata": {},
   "outputs": [
    {
     "name": "stdout",
     "output_type": "stream",
     "text": [
      "\u001b[33mNextflow 24.04.4 is available - Please consider updating your version to it\u001b[m\n",
      "N E X T F L O W  ~  version 23.10.0\n",
      "Launching `channels_intro.nf` [agitated_snyder] DSL2 - revision: c44a8e6a38\n",
      "/home/tabea/ComputationalWorkflows/Tag6/day_6/day_6/files_dir/fastq1_2.fq:Zone.Identifier\n",
      "/home/tabea/ComputationalWorkflows/Tag6/day_6/day_6/files_dir/fastq5_2.fq\n",
      "/home/tabea/ComputationalWorkflows/Tag6/day_6/day_6/files_dir/fastq_1.fq\n",
      "/home/tabea/ComputationalWorkflows/Tag6/day_6/day_6/files_dir/SRR5_1.fq\n",
      "/home/tabea/ComputationalWorkflows/Tag6/day_6/day_6/files_dir/fastq4_2.fq\n",
      "/home/tabea/ComputationalWorkflows/Tag6/day_6/day_6/files_dir/fastq.fq\n",
      "/home/tabea/ComputationalWorkflows/Tag6/day_6/day_6/files_dir/SRR1_2.fq:Zone.Identifier\n",
      "/home/tabea/ComputationalWorkflows/Tag6/day_6/day_6/files_dir/SRR3_2.fq\n",
      "/home/tabea/ComputationalWorkflows/Tag6/day_6/day_6/files_dir/SRR4_2.fq\n",
      "/home/tabea/ComputationalWorkflows/Tag6/day_6/day_6/files_dir/SRR3_1.fq:Zone.Identifier\n",
      "/home/tabea/ComputationalWorkflows/Tag6/day_6/day_6/files_dir/fastq3_1.fq\n",
      "/home/tabea/ComputationalWorkflows/Tag6/day_6/day_6/files_dir/fastq_1.fq:Zone.Identifier\n",
      "/home/tabea/ComputationalWorkflows/Tag6/day_6/day_6/files_dir/fastq4_1.fq\n",
      "/home/tabea/ComputationalWorkflows/Tag6/day_6/day_6/files_dir/file_4.txt:Zone.Identifier\n",
      "/home/tabea/ComputationalWorkflows/Tag6/day_6/day_6/files_dir/SRR2_2.fq\n",
      "/home/tabea/ComputationalWorkflows/Tag6/day_6/day_6/files_dir/fastq_2.fq\n",
      "/home/tabea/ComputationalWorkflows/Tag6/day_6/day_6/files_dir/SRR2_2.fq:Zone.Identifier\n",
      "/home/tabea/ComputationalWorkflows/Tag6/day_6/day_6/files_dir/fastq1_1.fq:Zone.Identifier\n",
      "/home/tabea/ComputationalWorkflows/Tag6/day_6/day_6/files_dir/SRR1_1.fq:Zone.Identifier\n",
      "/home/tabea/ComputationalWorkflows/Tag6/day_6/day_6/files_dir/fastq3_2.fq\n",
      "/home/tabea/ComputationalWorkflows/Tag6/day_6/day_6/files_dir/SRR2_1.fq:Zone.Identifier\n",
      "/home/tabea/ComputationalWorkflows/Tag6/day_6/day_6/files_dir/SRR5_1.fq:Zone.Identifier\n",
      "/home/tabea/ComputationalWorkflows/Tag6/day_6/day_6/files_dir/file_2.txt:Zone.Identifier\n",
      "/home/tabea/ComputationalWorkflows/Tag6/day_6/day_6/files_dir/fastq2_2.fq\n",
      "/home/tabea/ComputationalWorkflows/Tag6/day_6/day_6/files_dir/fastq.fq:Zone.Identifier\n",
      "/home/tabea/ComputationalWorkflows/Tag6/day_6/day_6/files_dir/fastq_2.fq:Zone.Identifier\n",
      "/home/tabea/ComputationalWorkflows/Tag6/day_6/day_6/files_dir/fastq1_2.fq\n",
      "/home/tabea/ComputationalWorkflows/Tag6/day_6/day_6/files_dir/fastq4_1.fq:Zone.Identifier\n",
      "/home/tabea/ComputationalWorkflows/Tag6/day_6/day_6/files_dir/file_1.txt:Zone.Identifier\n",
      "/home/tabea/ComputationalWorkflows/Tag6/day_6/day_6/files_dir/fastq1_1.fq\n",
      "/home/tabea/ComputationalWorkflows/Tag6/day_6/day_6/files_dir/file_2.txt\n",
      "/home/tabea/ComputationalWorkflows/Tag6/day_6/day_6/files_dir/file_5.txt:Zone.Identifier\n",
      "/home/tabea/ComputationalWorkflows/Tag6/day_6/day_6/files_dir/file_4.txt\n",
      "/home/tabea/ComputationalWorkflows/Tag6/day_6/day_6/files_dir/SRR.fq\n",
      "/home/tabea/ComputationalWorkflows/Tag6/day_6/day_6/files_dir/SRR5_2.fq\n",
      "/home/tabea/ComputationalWorkflows/Tag6/day_6/day_6/files_dir/fastq3_2.fq:Zone.Identifier\n",
      "/home/tabea/ComputationalWorkflows/Tag6/day_6/day_6/files_dir/file_1.txt\n",
      "/home/tabea/ComputationalWorkflows/Tag6/day_6/day_6/files_dir/SRR1_1.fq\n",
      "/home/tabea/ComputationalWorkflows/Tag6/day_6/day_6/files_dir/fastq5_1.fq:Zone.Identifier\n",
      "/home/tabea/ComputationalWorkflows/Tag6/day_6/day_6/files_dir/SRR5_2.fq:Zone.Identifier\n",
      "/home/tabea/ComputationalWorkflows/Tag6/day_6/day_6/files_dir/fastq5_2.fq:Zone.Identifier\n",
      "/home/tabea/ComputationalWorkflows/Tag6/day_6/day_6/files_dir/SRR1_2.fq\n",
      "/home/tabea/ComputationalWorkflows/Tag6/day_6/day_6/files_dir/fastq3_1.fq:Zone.Identifier\n",
      "/home/tabea/ComputationalWorkflows/Tag6/day_6/day_6/files_dir/SRR3_2.fq:Zone.Identifier\n",
      "/home/tabea/ComputationalWorkflows/Tag6/day_6/day_6/files_dir/file_3.txt\n",
      "/home/tabea/ComputationalWorkflows/Tag6/day_6/day_6/files_dir/SRR3_1.fq\n",
      "/home/tabea/ComputationalWorkflows/Tag6/day_6/day_6/files_dir/file_3.txt:Zone.Identifier\n",
      "/home/tabea/ComputationalWorkflows/Tag6/day_6/day_6/files_dir/fastq5_1.fq\n",
      "/home/tabea/ComputationalWorkflows/Tag6/day_6/day_6/files_dir/SRR4_1.fq\n",
      "/home/tabea/ComputationalWorkflows/Tag6/day_6/day_6/files_dir/SRR2_1.fq\n",
      "/home/tabea/ComputationalWorkflows/Tag6/day_6/day_6/files_dir/fastq2_2.fq:Zone.Identifier\n",
      "/home/tabea/ComputationalWorkflows/Tag6/day_6/day_6/files_dir/SRR4_1.fq:Zone.Identifier\n",
      "/home/tabea/ComputationalWorkflows/Tag6/day_6/day_6/files_dir/fastq2_1.fq:Zone.Identifier\n",
      "/home/tabea/ComputationalWorkflows/Tag6/day_6/day_6/files_dir/fastq2_1.fq\n",
      "/home/tabea/ComputationalWorkflows/Tag6/day_6/day_6/files_dir/file_5.txt\n",
      "/home/tabea/ComputationalWorkflows/Tag6/day_6/day_6/files_dir/SRR.fq:Zone.Identifier\n",
      "/home/tabea/ComputationalWorkflows/Tag6/day_6/day_6/files_dir/fastq4_2.fq:Zone.Identifier\n",
      "/home/tabea/ComputationalWorkflows/Tag6/day_6/day_6/files_dir/SRR4_2.fq:Zone.Identifier\n"
     ]
    }
   ],
   "source": [
    "# Task 3 - Create a channel that includes all files in the \"files_dir\" directory\n",
    "!nextflow run channels_intro.nf --step 3"
   ]
  },
  {
   "cell_type": "code",
   "execution_count": 156,
   "metadata": {},
   "outputs": [
    {
     "name": "stdout",
     "output_type": "stream",
     "text": [
      "\u001b[33mNextflow 24.04.4 is available - Please consider updating your version to it\u001b[m\n",
      "N E X T F L O W  ~  version 23.10.0\n",
      "Launching `channels_intro.nf` [golden_cantor] DSL2 - revision: c44a8e6a38\n",
      "/home/tabea/ComputationalWorkflows/Tag6/day_6/day_6/files_dir/file_2.txt\n",
      "/home/tabea/ComputationalWorkflows/Tag6/day_6/day_6/files_dir/file_4.txt\n",
      "/home/tabea/ComputationalWorkflows/Tag6/day_6/day_6/files_dir/file_1.txt\n",
      "/home/tabea/ComputationalWorkflows/Tag6/day_6/day_6/files_dir/file_3.txt\n",
      "/home/tabea/ComputationalWorkflows/Tag6/day_6/day_6/files_dir/file_5.txt\n"
     ]
    }
   ],
   "source": [
    "# Task 4 - Create a channel that includes all TXT files in the \"files_dir\" directory\n",
    "!nextflow run channels_intro.nf --step 4"
   ]
  },
  {
   "cell_type": "code",
   "execution_count": 157,
   "metadata": {},
   "outputs": [
    {
     "name": "stdout",
     "output_type": "stream",
     "text": [
      "\u001b[33mNextflow 24.04.4 is available - Please consider updating your version to it\u001b[m\n",
      "N E X T F L O W  ~  version 23.10.0\n",
      "Launching `channels_intro.nf` [distraught_magritte] DSL2 - revision: c44a8e6a38\n",
      "^C\n",
      "\n"
     ]
    }
   ],
   "source": [
    "# Task 5 - Create a channel that includes the files \"fastq_1.fq\" and \"fastq_2.fq\" in the \"files_dir\" directory\n",
    "!nextflow run channels_intro.nf --step 5"
   ]
  },
  {
   "cell_type": "code",
   "execution_count": 20,
   "metadata": {},
   "outputs": [
    {
     "name": "stdout",
     "output_type": "stream",
     "text": [
      "\u001b[33mNextflow 24.04.4 is available - Please consider updating your version to it\u001b[m\n",
      "N E X T F L O W  ~  version 23.10.0\n",
      "Launching `channels_intro.nf` [silly_heisenberg] DSL2 - revision: c44a8e6a38\n",
      "/home/tabea/ComputationalWorkflows/Tag6/day_6/day_6/files_dir\n"
     ]
    }
   ],
   "source": [
    "# Task 6 - go back to the time when you included all files. Are you sure that really ALL files are included? If not, how can you include them?\n",
    "!nextflow run channels_intro.nf --step 6\n",
    "\n",
    "# not all files are included. \".hidden_1.txt\", \".hidden_2.txt\""
   ]
  },
  {
   "cell_type": "code",
   "execution_count": 15,
   "metadata": {},
   "outputs": [
    {
     "name": "stdout",
     "output_type": "stream",
     "text": [
      "\u001b[33mNextflow 24.04.4 is available - Please consider updating your version to it\u001b[m\n",
      "N E X T F L O W  ~  version 23.10.0\n",
      "Launching `channels_intro.nf` [astonishing_poitras] DSL2 - revision: 612a3d57c2\n",
      "/home/tabea/ComputationalWorkflows/Tag6/day_6/day_6/files_dir/fastq5_2.fq\n",
      "/home/tabea/ComputationalWorkflows/Tag6/day_6/day_6/files_dir/fastq_1.fq\n",
      "/home/tabea/ComputationalWorkflows/Tag6/day_6/day_6/files_dir/SRR5_1.fq\n",
      "/home/tabea/ComputationalWorkflows/Tag6/day_6/day_6/files_dir/fastq4_2.fq\n",
      "/home/tabea/ComputationalWorkflows/Tag6/day_6/day_6/files_dir/SRR3_2.fq\n",
      "/home/tabea/ComputationalWorkflows/Tag6/day_6/day_6/files_dir/SRR4_2.fq\n",
      "/home/tabea/ComputationalWorkflows/Tag6/day_6/day_6/files_dir/fastq3_1.fq\n",
      "/home/tabea/ComputationalWorkflows/Tag6/day_6/day_6/files_dir/fastq4_1.fq\n",
      "/home/tabea/ComputationalWorkflows/Tag6/day_6/day_6/files_dir/SRR2_2.fq\n",
      "/home/tabea/ComputationalWorkflows/Tag6/day_6/day_6/files_dir/fastq_2.fq\n",
      "/home/tabea/ComputationalWorkflows/Tag6/day_6/day_6/files_dir/fastq3_2.fq\n",
      "/home/tabea/ComputationalWorkflows/Tag6/day_6/day_6/files_dir/fastq2_2.fq\n",
      "/home/tabea/ComputationalWorkflows/Tag6/day_6/day_6/files_dir/fastq1_2.fq\n",
      "/home/tabea/ComputationalWorkflows/Tag6/day_6/day_6/files_dir/fastq1_1.fq\n",
      "/home/tabea/ComputationalWorkflows/Tag6/day_6/day_6/files_dir/SRR5_2.fq\n",
      "/home/tabea/ComputationalWorkflows/Tag6/day_6/day_6/files_dir/SRR1_1.fq\n",
      "/home/tabea/ComputationalWorkflows/Tag6/day_6/day_6/files_dir/SRR1_2.fq\n",
      "/home/tabea/ComputationalWorkflows/Tag6/day_6/day_6/files_dir/SRR3_1.fq\n",
      "/home/tabea/ComputationalWorkflows/Tag6/day_6/day_6/files_dir/fastq5_1.fq\n",
      "/home/tabea/ComputationalWorkflows/Tag6/day_6/day_6/files_dir/SRR4_1.fq\n",
      "/home/tabea/ComputationalWorkflows/Tag6/day_6/day_6/files_dir/SRR2_1.fq\n",
      "/home/tabea/ComputationalWorkflows/Tag6/day_6/day_6/files_dir/fastq2_1.fq\n"
     ]
    }
   ],
   "source": [
    "# Task 7 - get all filepairs in the \"files_dir\" directory\n",
    "!nextflow run channels_intro.nf --step 7"
   ]
  },
  {
   "cell_type": "markdown",
   "metadata": {},
   "source": [
    "## Now that you have a solid understanding of the basic concepts of channels in Nextflow, it’s time to experiment and see how they work in practice."
   ]
  },
  {
   "cell_type": "markdown",
   "metadata": {},
   "source": [
    "To do so, Nextflow has the concept of Operators to give and pass information inbetween channels.\n",
    "\n",
    "Please answer the questions in $\\texttt{basic\\_channel\\_operations.nf}$ and run the code here. "
   ]
  },
  {
   "cell_type": "code",
   "execution_count": 22,
   "metadata": {},
   "outputs": [
    {
     "name": "stdout",
     "output_type": "stream",
     "text": [
      "\u001b[33mNextflow 24.04.4 is available - Please consider updating your version to it\u001b[m\n",
      "N E X T F L O W  ~  version 23.10.0\n",
      "Launching `basic_channel_operations.nf` [grave_celsius] DSL2 - revision: 3ed95cad4d\n",
      "1\n"
     ]
    }
   ],
   "source": [
    "# Task 1 - Extract the first item from the channel\n",
    "!nextflow run basic_channel_operations.nf --step 1"
   ]
  },
  {
   "cell_type": "code",
   "execution_count": 23,
   "metadata": {},
   "outputs": [
    {
     "name": "stdout",
     "output_type": "stream",
     "text": [
      "\u001b[33mNextflow 24.04.4 is available - Please consider updating your version to it\u001b[m\n",
      "N E X T F L O W  ~  version 23.10.0\n",
      "Launching `basic_channel_operations.nf` [boring_stonebraker] DSL2 - revision: 6cb51d5903\n",
      "3\n"
     ]
    }
   ],
   "source": [
    "# Task 2 - Extract the last item from the channel\n",
    "!nextflow run basic_channel_operations.nf --step 2"
   ]
  },
  {
   "cell_type": "code",
   "execution_count": 24,
   "metadata": {},
   "outputs": [
    {
     "name": "stdout",
     "output_type": "stream",
     "text": [
      "\u001b[33mNextflow 24.04.4 is available - Please consider updating your version to it\u001b[m\n",
      "N E X T F L O W  ~  version 23.10.0\n",
      "Launching `basic_channel_operations.nf` [lonely_lamarr] DSL2 - revision: 91e04951b2\n",
      "1\n",
      "2\n"
     ]
    }
   ],
   "source": [
    "# Task 3 - Use an operator to extract the first two items from the channel\n",
    "!nextflow run basic_channel_operations.nf --step 3"
   ]
  },
  {
   "cell_type": "code",
   "execution_count": 25,
   "metadata": {},
   "outputs": [
    {
     "name": "stdout",
     "output_type": "stream",
     "text": [
      "\u001b[33mNextflow 24.04.4 is available - Please consider updating your version to it\u001b[m\n",
      "N E X T F L O W  ~  version 23.10.0\n",
      "Launching `basic_channel_operations.nf` [distraught_wright] DSL2 - revision: 2385b9e340\n",
      "4\n",
      "9\n",
      "16\n"
     ]
    }
   ],
   "source": [
    "# Task 4 - Return the squared values of the channel\n",
    "!nextflow run basic_channel_operations.nf --step 4"
   ]
  },
  {
   "cell_type": "code",
   "execution_count": 26,
   "metadata": {},
   "outputs": [
    {
     "name": "stdout",
     "output_type": "stream",
     "text": [
      "\u001b[33mNextflow 24.04.4 is available - Please consider updating your version to it\u001b[m\n",
      "N E X T F L O W  ~  version 23.10.0\n",
      "Launching `basic_channel_operations.nf` [wise_lamarck] DSL2 - revision: 2385b9e340\n",
      "4\n",
      "9\n"
     ]
    }
   ],
   "source": [
    "# Task 5 - Remember the previous task where you squared the values of the channel. Now, extract the first two items from the squared channel\n",
    "!nextflow run basic_channel_operations.nf --step 5"
   ]
  },
  {
   "cell_type": "code",
   "execution_count": 27,
   "metadata": {},
   "outputs": [
    {
     "name": "stdout",
     "output_type": "stream",
     "text": [
      "\u001b[33mNextflow 24.04.4 is available - Please consider updating your version to it\u001b[m\n",
      "N E X T F L O W  ~  version 23.10.0\n",
      "Launching `basic_channel_operations.nf` [stupefied_ritchie] DSL2 - revision: 1c4907c827\n",
      "rolyaT\n",
      "tfiwS\n"
     ]
    }
   ],
   "source": [
    "# Task 6 - Remember when you used bash to reverse the output? Try to use map and Groovy to reverse the output\n",
    "!nextflow run basic_channel_operations.nf --step 6"
   ]
  },
  {
   "cell_type": "code",
   "execution_count": 45,
   "metadata": {},
   "outputs": [
    {
     "name": "stdout",
     "output_type": "stream",
     "text": [
      "\u001b[33mNextflow 24.04.4 is available - Please consider updating your version to it\u001b[m\n",
      "N E X T F L O W  ~  version 23.10.0\n",
      "Launching `basic_channel_operations.nf` [naughty_kare] DSL2 - revision: 741d651a80\n",
      "[fastq5_2.fq, /home/tabea/ComputationalWorkflows/Tag6/day_6/day_6/files_dir/fastq5_2.fq]\n",
      "[fastq_1.fq, /home/tabea/ComputationalWorkflows/Tag6/day_6/day_6/files_dir/fastq_1.fq]\n",
      "[SRR5_1.fq, /home/tabea/ComputationalWorkflows/Tag6/day_6/day_6/files_dir/SRR5_1.fq]\n",
      "[fastq4_2.fq, /home/tabea/ComputationalWorkflows/Tag6/day_6/day_6/files_dir/fastq4_2.fq]\n",
      "[fastq.fq, /home/tabea/ComputationalWorkflows/Tag6/day_6/day_6/files_dir/fastq.fq]\n",
      "[SRR3_2.fq, /home/tabea/ComputationalWorkflows/Tag6/day_6/day_6/files_dir/SRR3_2.fq]\n",
      "[SRR4_2.fq, /home/tabea/ComputationalWorkflows/Tag6/day_6/day_6/files_dir/SRR4_2.fq]\n",
      "[fastq3_1.fq, /home/tabea/ComputationalWorkflows/Tag6/day_6/day_6/files_dir/fastq3_1.fq]\n",
      "[fastq4_1.fq, /home/tabea/ComputationalWorkflows/Tag6/day_6/day_6/files_dir/fastq4_1.fq]\n",
      "[SRR2_2.fq, /home/tabea/ComputationalWorkflows/Tag6/day_6/day_6/files_dir/SRR2_2.fq]\n",
      "[fastq_2.fq, /home/tabea/ComputationalWorkflows/Tag6/day_6/day_6/files_dir/fastq_2.fq]\n",
      "[fastq3_2.fq, /home/tabea/ComputationalWorkflows/Tag6/day_6/day_6/files_dir/fastq3_2.fq]\n",
      "[fastq2_2.fq, /home/tabea/ComputationalWorkflows/Tag6/day_6/day_6/files_dir/fastq2_2.fq]\n",
      "[fastq1_2.fq, /home/tabea/ComputationalWorkflows/Tag6/day_6/day_6/files_dir/fastq1_2.fq]\n",
      "[fastq1_1.fq, /home/tabea/ComputationalWorkflows/Tag6/day_6/day_6/files_dir/fastq1_1.fq]\n",
      "[SRR.fq, /home/tabea/ComputationalWorkflows/Tag6/day_6/day_6/files_dir/SRR.fq]\n",
      "[SRR5_2.fq, /home/tabea/ComputationalWorkflows/Tag6/day_6/day_6/files_dir/SRR5_2.fq]\n",
      "[SRR1_1.fq, /home/tabea/ComputationalWorkflows/Tag6/day_6/day_6/files_dir/SRR1_1.fq]\n",
      "[SRR1_2.fq, /home/tabea/ComputationalWorkflows/Tag6/day_6/day_6/files_dir/SRR1_2.fq]\n",
      "[SRR3_1.fq, /home/tabea/ComputationalWorkflows/Tag6/day_6/day_6/files_dir/SRR3_1.fq]\n",
      "[fastq5_1.fq, /home/tabea/ComputationalWorkflows/Tag6/day_6/day_6/files_dir/fastq5_1.fq]\n",
      "[SRR4_1.fq, /home/tabea/ComputationalWorkflows/Tag6/day_6/day_6/files_dir/SRR4_1.fq]\n",
      "[SRR2_1.fq, /home/tabea/ComputationalWorkflows/Tag6/day_6/day_6/files_dir/SRR2_1.fq]\n",
      "[fastq2_1.fq, /home/tabea/ComputationalWorkflows/Tag6/day_6/day_6/files_dir/fastq2_1.fq]\n"
     ]
    }
   ],
   "source": [
    "# Task 7 - Use fromPath to include all fastq files in the \"files_dir\" directory, then use map to return a pair containing the file name and the file path (Hint: include groovy code)\n",
    "!nextflow run basic_channel_operations.nf --step 7"
   ]
  },
  {
   "cell_type": "code",
   "execution_count": 30,
   "metadata": {},
   "outputs": [
    {
     "name": "stdout",
     "output_type": "stream",
     "text": [
      "\u001b[33mNextflow 24.04.4 is available - Please consider updating your version to it\u001b[m\n",
      "N E X T F L O W  ~  version 23.10.0\n",
      "Launching `basic_channel_operations.nf` [modest_pare] DSL2 - revision: cebfab9ef8\n"
     ]
    }
   ],
   "source": [
    "# Task 8 - Combine the items from the two channels into a single channel\n",
    "!nextflow run basic_channel_operations.nf --step 8"
   ]
  },
  {
   "cell_type": "code",
   "execution_count": 33,
   "metadata": {},
   "outputs": [
    {
     "name": "stdout",
     "output_type": "stream",
     "text": [
      "\u001b[33mNextflow 24.04.4 is available - Please consider updating your version to it\u001b[m\n",
      "N E X T F L O W  ~  version 23.10.0\n",
      "Launching `basic_channel_operations.nf` [intergalactic_heyrovsky] DSL2 - revision: a653043064\n",
      "1\n",
      "2\n",
      "3\n",
      "4\n",
      "5\n",
      "6\n"
     ]
    }
   ],
   "source": [
    "# Task 9 - Flatten the list in the channel\n",
    "!nextflow run basic_channel_operations.nf --step 9"
   ]
  },
  {
   "cell_type": "code",
   "execution_count": 34,
   "metadata": {},
   "outputs": [
    {
     "name": "stdout",
     "output_type": "stream",
     "text": [
      "\u001b[33mNextflow 24.04.4 is available - Please consider updating your version to it\u001b[m\n",
      "N E X T F L O W  ~  version 23.10.0\n",
      "Launching `basic_channel_operations.nf` [distracted_morse] DSL2 - revision: a653043064\n",
      "[1, 2, 3]\n"
     ]
    }
   ],
   "source": [
    "# Task 10 - Collect the items of a channel into a list. What kind of channel is the output channel?\n",
    "!nextflow run basic_channel_operations.nf --step 10"
   ]
  },
  {
   "cell_type": "markdown",
   "metadata": {},
   "source": [
    "What kind of channel is the output channel?"
   ]
  },
  {
   "cell_type": "markdown",
   "metadata": {},
   "source": [
    "- value channel"
   ]
  },
  {
   "cell_type": "code",
   "execution_count": 35,
   "metadata": {},
   "outputs": [
    {
     "name": "stdout",
     "output_type": "stream",
     "text": [
      "\u001b[33mNextflow 24.04.4 is available - Please consider updating your version to it\u001b[m\n",
      "N E X T F L O W  ~  version 23.10.0\n",
      "Launching `basic_channel_operations.nf` [chaotic_mercator] DSL2 - revision: b308da675f\n",
      "[1, [V, f, B]]\n",
      "[3, [M, G, 33]]\n",
      "[2, [O, L, E]]\n"
     ]
    }
   ],
   "source": [
    "# Task 11 -  From the input channel, create lists where each first item in the list of lists is the first item in the output channel, followed by a list of all the items its paired with\n",
    "!nextflow run basic_channel_operations.nf --step 11"
   ]
  },
  {
   "cell_type": "code",
   "execution_count": 36,
   "metadata": {},
   "outputs": [
    {
     "name": "stdout",
     "output_type": "stream",
     "text": [
      "\u001b[33mNextflow 24.04.4 is available - Please consider updating your version to it\u001b[m\n",
      "N E X T F L O W  ~  version 23.10.0\n",
      "Launching `basic_channel_operations.nf` [crazy_saha] DSL2 - revision: a0f40cd19c\n",
      "[1, V, f]\n",
      "[3, M, G]\n",
      "[2, O, L]\n"
     ]
    }
   ],
   "source": [
    "# Task 12 - Create a channel that joins the input to the output channel. What do you notice?\n",
    "!nextflow run basic_channel_operations.nf --step 12"
   ]
  },
  {
   "cell_type": "markdown",
   "metadata": {},
   "source": [
    "Task 12 - What do you notice compared to Task 11?"
   ]
  },
  {
   "cell_type": "markdown",
   "metadata": {},
   "source": [
    "- We don't get a list of list, but a single list.\n",
    "- The join operation only pairs the first matching element from both channels, so that means we don't see all values for a given key."
   ]
  },
  {
   "cell_type": "code",
   "execution_count": 50,
   "metadata": {},
   "outputs": [
    {
     "name": "stdout",
     "output_type": "stream",
     "text": [
      "\u001b[33mNextflow 24.04.4 is available - Please consider updating your version to it\u001b[m\n",
      "N E X T F L O W  ~  version 23.10.0\n",
      "Launching `basic_channel_operations.nf` [festering_rubens] DSL2 - revision: a6c1edc43b\n",
      "Odd Numbers: [1, 3, 5, 7, 9]\n",
      "Even Numbers: [2, 4, 6, 8, 10]\n"
     ]
    }
   ],
   "source": [
    "# Task 13 - Split the input channel into two channels, one of all the even numbers and the other of all the odd numbers.\n",
    "#           Write them to stdout including information about which is which\n",
    "!nextflow run basic_channel_operations.nf --step 13 -dump-channels"
   ]
  },
  {
   "cell_type": "code",
   "execution_count": 67,
   "metadata": {},
   "outputs": [
    {
     "name": "stdout",
     "output_type": "stream",
     "text": [
      "\u001b[33mNextflow 24.04.4 is available - Please consider updating your version to it\u001b[m\n",
      "N E X T F L O W  ~  version 23.10.0\n",
      "Launching `basic_channel_operations.nf` [big_venter] DSL2 - revision: 303ff84076\n",
      "Harry\n",
      "Ron\n",
      "Hermione\n",
      "Albus\n",
      "Snape\n",
      "Hagrid\n",
      "Dobby\n"
     ]
    }
   ],
   "source": [
    "# Task 14 - Nextflow has the concept of maps. Write the names in the maps in this channel to a file called \"names.txt\". Each name should be on a new line. \n",
    "#           Store the file in the \"results\" directory under the name \"names.txt\"\n",
    "\n",
    "!nextflow run basic_channel_operations.nf --step 14\n",
    "\n",
    "!cat results/names.txt\n"
   ]
  },
  {
   "cell_type": "markdown",
   "metadata": {},
   "source": [
    "## Now that we learned about Channels and Operators to deal with them, let's focus on Processes that make use of these channels."
   ]
  },
  {
   "cell_type": "markdown",
   "metadata": {},
   "source": [
    "Please answer the questions in $\\texttt{basics\\_processes.nf}$ and run the code here. "
   ]
  },
  {
   "cell_type": "code",
   "execution_count": 79,
   "metadata": {},
   "outputs": [
    {
     "name": "stdout",
     "output_type": "stream",
     "text": [
      "\u001b[33mNextflow 24.04.4 is available - Please consider updating your version to it\u001b[m\n",
      "N E X T F L O W  ~  version 23.10.0\n",
      "Launching `basics_processes.nf` [romantic_mandelbrot] DSL2 - revision: fb9c61be66\n",
      "[-        ] process > SAYHELLO -\u001b[K\n",
      "\u001b[2A\n",
      "executor >  local (1)\u001b[K\n",
      "[76/b4a017] process > SAYHELLO [100%] 1 of 1 ✔\u001b[K\n",
      "Hello World!\u001b[K\n",
      "\u001b[K\n",
      "\n"
     ]
    }
   ],
   "source": [
    "# Task 1 - create a process that says Hello World! (add debug true to the process right after initializing to be sable to print the output to the console)\n",
    "!nextflow run basics_processes.nf --step 1"
   ]
  },
  {
   "cell_type": "code",
   "execution_count": 81,
   "metadata": {},
   "outputs": [
    {
     "name": "stdout",
     "output_type": "stream",
     "text": [
      "\u001b[33mNextflow 24.04.4 is available - Please consider updating your version to it\u001b[m\n",
      "N E X T F L O W  ~  version 23.10.0\n",
      "Launching `basics_processes.nf` [cheeky_roentgen] DSL2 - revision: b235c7c784\n",
      "executor >  local (1)\u001b[K\n",
      "[44/64f754] process > SAYHELLO_PYTHON [100%] 1 of 1 ✔\u001b[K\n",
      "Hello World!\u001b[K\n",
      "\u001b[K\n",
      "\n"
     ]
    }
   ],
   "source": [
    "# Task 2 - create a process that says Hello World! using Python\n",
    "!nextflow run basics_processes.nf --step 2"
   ]
  },
  {
   "cell_type": "code",
   "execution_count": 136,
   "metadata": {},
   "outputs": [
    {
     "name": "stdout",
     "output_type": "stream",
     "text": [
      "\u001b[33mNextflow 24.04.4 is available - Please consider updating your version to it\u001b[m\n",
      "N E X T F L O W  ~  version 23.10.0\n",
      "Launching `basics_processes.nf` [romantic_kalam] DSL2 - revision: 9a9735fe6c\n",
      "[-        ] process > SAYHELLO_PARAM -\u001b[K\n",
      "\u001b[2A\n",
      "executor >  local (1)\u001b[K\n",
      "[7a/366b0c] process > SAYHELLO_PARAM (1) [100%] 1 of 1 ✔\u001b[K\n",
      "\n"
     ]
    }
   ],
   "source": [
    "# Task 3 - create a process that reads in the string \"Hello world!\" from a channel and write it to command line\n",
    "!nextflow run basics_processes.nf --step 3"
   ]
  },
  {
   "cell_type": "code",
   "execution_count": 101,
   "metadata": {},
   "outputs": [
    {
     "name": "stdout",
     "output_type": "stream",
     "text": [
      "\u001b[33mNextflow 24.04.4 is available - Please consider updating your version to it\u001b[m\n",
      "N E X T F L O W  ~  version 23.10.0\n",
      "Launching `basics_processes.nf` [admiring_baekeland] DSL2 - revision: 1e27a00ab3\n",
      "[-        ] process > SAYHELLO_FILE -\u001b[K\n",
      "\u001b[2A\n",
      "executor >  local (1)\u001b[K\n",
      "[a9/af3078] process > SAYHELLO_FILE (1) [100%] 1 of 1 ✔\u001b[K\n",
      "\u001b[3A\n",
      "executor >  local (1)\u001b[K\n",
      "[a9/af3078] process > SAYHELLO_FILE (1) [100%] 1 of 1 ✔\u001b[K\n",
      "\n"
     ]
    }
   ],
   "source": [
    "# Task 4 - create a process that reads in the string \"Hello world!\" from a channel and write it to a file. \n",
    "!nextflow run basics_processes.nf --step 4"
   ]
  },
  {
   "cell_type": "markdown",
   "metadata": {},
   "source": [
    "It might be that you created the file but it doesnt appear in the directory. Use the work folder and the output on the command line to find the file."
   ]
  },
  {
   "cell_type": "code",
   "execution_count": 102,
   "metadata": {},
   "outputs": [
    {
     "name": "stdout",
     "output_type": "stream",
     "text": [
      "\u001b[33mNextflow 24.04.4 is available - Please consider updating your version to it\u001b[m\n",
      "N E X T F L O W  ~  version 23.10.0\n",
      "Launching `basics_processes.nf` [wise_ramanujan] DSL2 - revision: 1e27a00ab3\n",
      "[-        ] process > UPPERCASE -\u001b[K\n",
      "\u001b[2A\n",
      "executor >  local (1)\u001b[K\n",
      "[94/1750e1] process > UPPERCASE (1) [  0%] 0 of 1 ✔\u001b[K\n",
      "/home/tabea/ComputationalWorkflows/Tag6/day_6/day_6/work/94/1750e136834921f65de0bb6cde49bb/greeting_uppercase.txt\u001b[K\n",
      "\u001b[4A\n",
      "executor >  local (1)\u001b[K\n",
      "[94/1750e1] process > UPPERCASE (1) [100%] 1 of 1 ✔\u001b[K\n",
      "/home/tabea/ComputationalWorkflows/Tag6/day_6/day_6/work/94/1750e136834921f65de0bb6cde49bb/greeting_uppercase.txt\u001b[K\n",
      "\n"
     ]
    }
   ],
   "source": [
    "# Task 5 - create a process that reads in a string and converts it to uppercase and saves it to a file as output. View the path to the file in the console\n",
    "!nextflow run basics_processes.nf --step 5\n",
    "\n",
    "# path to the file: /home/tabea/ComputationalWorkflows/Tag6/day_6/day_6/work/94/1750e136834921f65de0bb6cde49bb/greeting_uppercase.txt\n"
   ]
  },
  {
   "cell_type": "code",
   "execution_count": 111,
   "metadata": {},
   "outputs": [
    {
     "name": "stdout",
     "output_type": "stream",
     "text": [
      "\u001b[33mNextflow 24.04.4 is available - Please consider updating your version to it\u001b[m\n",
      "N E X T F L O W  ~  version 23.10.0\n",
      "Launching `basics_processes.nf` [naughty_mandelbrot] DSL2 - revision: 3b08437454\n",
      "[-        ] process > UPPERCASE  -\u001b[K\n",
      "[-        ] process > PRINTUPPER -\u001b[K\n",
      "\u001b[3A\n",
      "[-        ] process > UPPERCASE  [  0%] 0 of 1\u001b[K\n",
      "[-        ] process > PRINTUPPER -\u001b[K\n",
      "\u001b[3A\n",
      "executor >  local (2)\u001b[K\n",
      "[05/fb994a] process > UPPERCASE (1)  [100%] 1 of 1 ✔\u001b[K\n",
      "[20/da2d95] process > PRINTUPPER (1) [  0%] 0 of 1\u001b[K\n",
      "HELLO WORLD!\u001b[K\n",
      "\u001b[K\n",
      "\u001b[6A\n",
      "executor >  local (2)\u001b[K\n",
      "[05/fb994a] process > UPPERCASE (1)  [100%] 1 of 1 ✔\u001b[K\n",
      "[20/da2d95] process > PRINTUPPER (1) [100%] 1 of 1 ✔\u001b[K\n",
      "HELLO WORLD!\u001b[K\n",
      "\u001b[K\n",
      "\n"
     ]
    }
   ],
   "source": [
    "# Task 6 - add another process that reads in the resulting file from UPPERCASE and print the content to the console (debug true).\n",
    "!nextflow run basics_processes.nf --step 6"
   ]
  },
  {
   "cell_type": "markdown",
   "metadata": {},
   "source": [
    "Compared to all the other runs. What changed in the output here and why?"
   ]
  },
  {
   "cell_type": "code",
   "execution_count": 132,
   "metadata": {},
   "outputs": [
    {
     "name": "stdout",
     "output_type": "stream",
     "text": [
      "\u001b[33mNextflow 24.04.4 is available - Please consider updating your version to it\u001b[m\n",
      "N E X T F L O W  ~  version 23.10.0\n",
      "Launching `basics_processes.nf` [fabulous_brahmagupta] DSL2 - revision: 77df5da677\n",
      "[-        ] process > UPPERCASE -\u001b[K\n",
      "[-        ] process > ZIP_FILE  -\u001b[K\n",
      "\u001b[3A\n",
      "[-        ] process > UPPERCASE [  0%] 0 of 1\u001b[K\n",
      "[-        ] process > ZIP_FILE  -\u001b[K\n",
      "\u001b[3A\n",
      "executor >  local (1)\u001b[K\n",
      "[51/7f916b] process > UPPERCASE (1) [100%] 1 of 1 ✔\u001b[K\n",
      "[-        ] process > ZIP_FILE      -\u001b[K\n",
      "\u001b[4A\n",
      "executor >  local (2)\u001b[K\n",
      "[51/7f916b] process > UPPERCASE (1) [100%] 1 of 1 ✔\u001b[K\n",
      "[44/5b0755] process > ZIP_FILE (1)  [100%] 1 of 1 ✔\u001b[K\n",
      "/home/tabea/ComputationalWorkflows/Tag6/day_6/day_6/work/44/5b07558b2cd5747572eab465ac010d/greeting_uppercase.zip\u001b[K\n",
      "\n"
     ]
    }
   ],
   "source": [
    "# Task 7 - based on the paramater \"zip\" (see at the head of the file), create a process that zips the file created in the UPPERCASE process either in \"zip\", \"gzip\" OR \"bzip2\" format.\n",
    "#          Print out the path to the zipped file in the console\n",
    "!nextflow run basics_processes.nf --step 7\n",
    "\n",
    "# saved in /home/tabea/ComputationalWorkflows/Tag6/day_6/day_6/work/14/2fc09c57f4617cbd62b575f3192106/greeting_uppercase.zip"
   ]
  },
  {
   "cell_type": "code",
   "execution_count": 134,
   "metadata": {},
   "outputs": [
    {
     "name": "stdout",
     "output_type": "stream",
     "text": [
      "\u001b[33mNextflow 24.04.4 is available - Please consider updating your version to it\u001b[m\n",
      "N E X T F L O W  ~  version 23.10.0\n",
      "Launching `basics_processes.nf` [hungry_shirley] DSL2 - revision: f4a3c18006\n",
      "[-        ] process > UPPERCASE            -\u001b[K\n",
      "[-        ] process > ZIP_FILE_ALL_FORMATS -\u001b[K\n",
      "\u001b[3A\n",
      "executor >  local (1)\u001b[K\n",
      "[f0/2d6a78] process > UPPERCASE (1)        [  0%] 0 of 1\u001b[K\n",
      "[-        ] process > ZIP_FILE_ALL_FORMATS -\u001b[K\n",
      "\u001b[4A\n",
      "executor >  local (2)\u001b[K\n",
      "[f0/2d6a78] process > UPPERCASE (1)            [100%] 1 of 1 ✔\u001b[K\n",
      "[5d/3f07bf] process > ZIP_FILE_ALL_FORMATS (1) [100%] 1 of 1 ✔\u001b[K\n",
      "[/home/tabea/ComputationalWorkflows/Tag6/day_6/day_6/work/5d/3f07bf4d644848ad277644dcf6aa6f/greeting_uppercase.bz2, /home/tabea/ComputationalWorkflows/Tag6/day_6/day_6/work/5d/3f07bf4d644848ad277644dcf6aa6f/greeting_uppercase.gz, /home/tabea/ComputationalWorkflows/Tag6/day_6/day_6/work/5d/3f07bf4d644848ad277644dcf6aa6f/greeting_uppercase.zip]\u001b[K\n",
      "\n"
     ]
    }
   ],
   "source": [
    "# Task 8 - Create a process that zips the file created in the UPPERCASE process in \"zip\", \"gzip\" AND \"bzip2\" format. Print out the paths to the zipped files in the console\n",
    "!nextflow run basics_processes.nf --step 8\n",
    "\n",
    "# [/home/tabea/ComputationalWorkflows/Tag6/day_6/day_6/work/da/c1988aec0ba9cbe774b2288c5f8373/greeting_uppercase.bz2, /home/tabea/ComputationalWorkflows/Tag6/day_6/day_6/work/da/c1988aec0ba9cbe774b2288c5f8373/greeting_uppercase.gz, /home/tabea/ComputationalWorkflows/Tag6/day_6/day_6/work/da/c1988aec0ba9cbe774b2288c5f8373/greeting_uppercase.zip]"
   ]
  },
  {
   "cell_type": "code",
   "execution_count": 142,
   "metadata": {},
   "outputs": [
    {
     "name": "stdout",
     "output_type": "stream",
     "text": [
      "\u001b[33mNextflow 24.04.4 is available - Please consider updating your version to it\u001b[m\n",
      "N E X T F L O W  ~  version 23.10.0\n",
      "Launching `basics_processes.nf` [mighty_wright] DSL2 - revision: 97f9082c61\n",
      "[-        ] process > WRITETOFILE -\u001b[K\n",
      "\u001b[2A\n",
      "[-        ] process > WRITETOFILE [  0%] 0 of 7\u001b[K\n",
      "\u001b[2A\n",
      "executor >  local (7)\u001b[K\n",
      "[07/08b81b] process > WRITETOFILE (4) [100%] 7 of 7 ✔\u001b[K\n",
      "\u001b[3A\n",
      "executor >  local (7)\u001b[K\n",
      "[07/08b81b] process > WRITETOFILE (4) [100%] 7 of 7 ✔\u001b[K\n",
      "results/names.tsv\u001b[K\n",
      "\n"
     ]
    }
   ],
   "source": [
    " # Task 9 - Create a process that reads in a list of names and titles from a channel and writes them to a file.\n",
    "#           Store the file in the \"results\" directory under the name \"names.tsv\"\n",
    "!nextflow run basics_processes.nf --step 9"
   ]
  },
  {
   "cell_type": "code",
   "execution_count": 143,
   "metadata": {},
   "outputs": [
    {
     "data": {
      "text/html": [
       "<div>\n",
       "<style scoped>\n",
       "    .dataframe tbody tr th:only-of-type {\n",
       "        vertical-align: middle;\n",
       "    }\n",
       "\n",
       "    .dataframe tbody tr th {\n",
       "        vertical-align: top;\n",
       "    }\n",
       "\n",
       "    .dataframe thead th {\n",
       "        text-align: right;\n",
       "    }\n",
       "</style>\n",
       "<table border=\"1\" class=\"dataframe\">\n",
       "  <thead>\n",
       "    <tr style=\"text-align: right;\">\n",
       "      <th></th>\n",
       "      <th>name</th>\n",
       "      <th>title</th>\n",
       "    </tr>\n",
       "  </thead>\n",
       "  <tbody>\n",
       "    <tr>\n",
       "      <th>0</th>\n",
       "      <td>Snape</td>\n",
       "      <td>teacher</td>\n",
       "    </tr>\n",
       "    <tr>\n",
       "      <th>1</th>\n",
       "      <td>Ron</td>\n",
       "      <td>student</td>\n",
       "    </tr>\n",
       "    <tr>\n",
       "      <th>2</th>\n",
       "      <td>Albus</td>\n",
       "      <td>headmaster</td>\n",
       "    </tr>\n",
       "    <tr>\n",
       "      <th>3</th>\n",
       "      <td>Hagrid</td>\n",
       "      <td>groundkeeper</td>\n",
       "    </tr>\n",
       "    <tr>\n",
       "      <th>4</th>\n",
       "      <td>Dobby</td>\n",
       "      <td>hero</td>\n",
       "    </tr>\n",
       "    <tr>\n",
       "      <th>5</th>\n",
       "      <td>Hermione</td>\n",
       "      <td>student</td>\n",
       "    </tr>\n",
       "    <tr>\n",
       "      <th>6</th>\n",
       "      <td>Harry</td>\n",
       "      <td>student</td>\n",
       "    </tr>\n",
       "  </tbody>\n",
       "</table>\n",
       "</div>"
      ],
      "text/plain": [
       "       name         title\n",
       "0     Snape       teacher\n",
       "1       Ron       student\n",
       "2     Albus    headmaster\n",
       "3    Hagrid  groundkeeper\n",
       "4     Dobby          hero\n",
       "5  Hermione       student\n",
       "6     Harry       student"
      ]
     },
     "execution_count": 143,
     "metadata": {},
     "output_type": "execute_result"
    }
   ],
   "source": [
    "import pandas as pd\n",
    "\n",
    "df = pd.read_csv(\"results/names.tsv\", sep=\"\\t\")\n",
    "df"
   ]
  },
  {
   "cell_type": "markdown",
   "metadata": {},
   "source": [
    "## Now, let's try some more advanced Operators"
   ]
  },
  {
   "cell_type": "markdown",
   "metadata": {},
   "source": [
    "Please answer the questions in $\\texttt{advanced\\_channel\\_operations.nf}$ and run the code here. "
   ]
  },
  {
   "cell_type": "markdown",
   "metadata": {},
   "source": [
    "To come closer to actual pipelines, we introduce the concept of \"meta-maps\" which you can imagine as dictionaries that are passed with data via channels containing crucial metadata on the sample. \n",
    "\n",
    "Also, we will come back to samplesheets which you should remember from last week."
   ]
  },
  {
   "cell_type": "code",
   "execution_count": 20,
   "metadata": {},
   "outputs": [
    {
     "name": "stdout",
     "output_type": "stream",
     "text": [
      "\u001b[33mNextflow 24.04.4 is available - Please consider updating your version to it\u001b[m\n",
      "N E X T F L O W  ~  version 23.10.0\n",
      "Launching `advanced_channel_operations.nf` [soggy_fourier] DSL2 - revision: 02f04372dd\n",
      "[sample:CONTROL_REP1, fastq_1:fq_1_R1.fastq.gz, fastq_2:fq_1_R2.fastq.gz, strandedness:auto]\n",
      "[sample:CONTROL_REP2, fastq_1:fq_2_R1.fastq.gz, fastq_2:fq_2_R2.fastq.gz, strandedness:forward]\n",
      "[sample:CONTROL_REP3, fastq_1:fq_3_R1.fastq.gz, fastq_2:fq_3_R2.fastq.gz, strandedness:reverse]\n",
      "[sample:CONTROL_REP1, fastq_1:fq_4_R1.fastq.gz, fastq_2:fq_4_R2.fastq.gz, strandedness:auto]\n"
     ]
    }
   ],
   "source": [
    "# Task 1 - Read in the samplesheet.\n",
    "\n",
    "!nextflow run advanced_channel_operations.nf --step 1"
   ]
  },
  {
   "cell_type": "code",
   "execution_count": 22,
   "metadata": {},
   "outputs": [
    {
     "name": "stdout",
     "output_type": "stream",
     "text": [
      "\u001b[33mNextflow 24.04.4 is available - Please consider updating your version to it\u001b[m\n",
      "N E X T F L O W  ~  version 23.10.0\n",
      "Launching `advanced_channel_operations.nf` [pedantic_euclid] DSL2 - revision: 46dc84dbad\n",
      "[[sample:CONTROL_REP1, strandedness:auto], [/home/tabea/ComputationalWorkflows/Tag6/day_6/day_6/fq_1_R1.fastq.gz, /home/tabea/ComputationalWorkflows/Tag6/day_6/day_6/fq_1_R2.fastq.gz]]\n",
      "[[sample:CONTROL_REP2, strandedness:forward], [/home/tabea/ComputationalWorkflows/Tag6/day_6/day_6/fq_2_R1.fastq.gz, /home/tabea/ComputationalWorkflows/Tag6/day_6/day_6/fq_2_R2.fastq.gz]]\n",
      "[[sample:CONTROL_REP3, strandedness:reverse], [/home/tabea/ComputationalWorkflows/Tag6/day_6/day_6/fq_3_R1.fastq.gz, /home/tabea/ComputationalWorkflows/Tag6/day_6/day_6/fq_3_R2.fastq.gz]]\n",
      "[[sample:CONTROL_REP1, strandedness:auto], [/home/tabea/ComputationalWorkflows/Tag6/day_6/day_6/fq_4_R1.fastq.gz, /home/tabea/ComputationalWorkflows/Tag6/day_6/day_6/fq_4_R2.fastq.gz]]\n"
     ]
    }
   ],
   "source": [
    "# Task 2 - Read in the samplesheet and create a meta-map with all metadata and another list with the filenames ([[metadata_1 : metadata_1, ...], [fastq_1, fastq_2]]).\n",
    "#          Set the output to a new channel \"in_ch\" and view the channel. YOU WILL NEED TO COPY AND PASTE THIS CODE INTO SOME OF THE FOLLOWING TASKS (sorry for that).\n",
    "\n",
    "!nextflow run advanced_channel_operations.nf --step 2"
   ]
  },
  {
   "cell_type": "code",
   "execution_count": 24,
   "metadata": {},
   "outputs": [
    {
     "name": "stdout",
     "output_type": "stream",
     "text": [
      "\u001b[33mNextflow 24.04.4 is available - Please consider updating your version to it\u001b[m\n",
      "N E X T F L O W  ~  version 23.10.0\n",
      "Launching `advanced_channel_operations.nf` [determined_colden] DSL2 - revision: 0977bb0b22\n",
      "[DUMP: auto] [['sample':'CONTROL_REP1', 'strandedness':'auto'], [/home/tabea/ComputationalWorkflows/Tag6/day_6/day_6/fq_1_R1.fastq.gz, /home/tabea/ComputationalWorkflows/Tag6/day_6/day_6/fq_1_R2.fastq.gz]]\n",
      "[DUMP: auto] [['sample':'CONTROL_REP2', 'strandedness':'auto'], [/home/tabea/ComputationalWorkflows/Tag6/day_6/day_6/fq_2_R1.fastq.gz, /home/tabea/ComputationalWorkflows/Tag6/day_6/day_6/fq_2_R2.fastq.gz]]\n",
      "[DUMP: auto] [['sample':'CONTROL_REP3', 'strandedness':'auto'], [/home/tabea/ComputationalWorkflows/Tag6/day_6/day_6/fq_3_R1.fastq.gz, /home/tabea/ComputationalWorkflows/Tag6/day_6/day_6/fq_3_R2.fastq.gz]]\n",
      "[DUMP: auto] [['sample':'CONTROL_REP1', 'strandedness':'auto'], [/home/tabea/ComputationalWorkflows/Tag6/day_6/day_6/fq_4_R1.fastq.gz, /home/tabea/ComputationalWorkflows/Tag6/day_6/day_6/fq_4_R2.fastq.gz]]\n"
     ]
    }
   ],
   "source": [
    "# Task 3 - Now we assume that we want to handle different \"strandedness\" values differently. \n",
    "#          Split the channel into the right amount of channels and write them all to stdout so that we can understand which is which.\n",
    "\n",
    "!nextflow run advanced_channel_operations.nf --step 3 -dump-channels"
   ]
  },
  {
   "cell_type": "code",
   "execution_count": 28,
   "metadata": {},
   "outputs": [
    {
     "name": "stdout",
     "output_type": "stream",
     "text": [
      "\u001b[33mNextflow 24.04.4 is available - Please consider updating your version to it\u001b[m\n",
      "N E X T F L O W  ~  version 23.10.0\n",
      "Launching `advanced_channel_operations.nf` [extravagant_faggin] DSL2 - revision: 858ef202ee\n",
      "[[sample:CONTROL_REP1, strandedness:auto], [[/home/tabea/ComputationalWorkflows/Tag6/day_6/day_6/fq_1_R1.fastq.gz, /home/tabea/ComputationalWorkflows/Tag6/day_6/day_6/fq_1_R2.fastq.gz], [/home/tabea/ComputationalWorkflows/Tag6/day_6/day_6/fq_4_R1.fastq.gz, /home/tabea/ComputationalWorkflows/Tag6/day_6/day_6/fq_4_R2.fastq.gz]]]\n",
      "[[sample:CONTROL_REP2, strandedness:forward], [[/home/tabea/ComputationalWorkflows/Tag6/day_6/day_6/fq_2_R1.fastq.gz, /home/tabea/ComputationalWorkflows/Tag6/day_6/day_6/fq_2_R2.fastq.gz]]]\n",
      "[[sample:CONTROL_REP3, strandedness:reverse], [[/home/tabea/ComputationalWorkflows/Tag6/day_6/day_6/fq_3_R1.fastq.gz, /home/tabea/ComputationalWorkflows/Tag6/day_6/day_6/fq_3_R2.fastq.gz]]]\n"
     ]
    }
   ],
   "source": [
    "# Task 4 - Group together all files with the same sample-id and strandedness value.\n",
    "\n",
    "!nextflow run advanced_channel_operations.nf --step 4"
   ]
  },
  {
   "cell_type": "markdown",
   "metadata": {},
   "source": [
    "## It's finally time to link processes and channels with each other"
   ]
  },
  {
   "cell_type": "markdown",
   "metadata": {},
   "source": [
    "Please go to the file $\\texttt{link\\_p\\_c.nf}$"
   ]
  },
  {
   "cell_type": "code",
   "execution_count": 32,
   "metadata": {},
   "outputs": [
    {
     "name": "stdout",
     "output_type": "stream",
     "text": [
      "\u001b[33mNextflow 24.04.4 is available - Please consider updating your version to it\u001b[m\n",
      "N E X T F L O W  ~  version 23.10.0\n",
      "Launching `link_p_c.nf` [elegant_lorenz] DSL2 - revision: f91b7546e8\n",
      "[-        ] process > SPLITLETTERS   -\u001b[K\n",
      "[-        ] process > CONVERTTOUPPER -\u001b[K\n",
      "\u001b[3A\n",
      "executor >  local (13)\u001b[K\n",
      "[d8/77f311] process > SPLITLETTERS (2)   [100%] 2 of 2 ✔\u001b[K\n",
      "[e2/3ffc08] process > CONVERTTOUPPER (3) [100%] 11 of 11 ✔\u001b[K\n",
      "\u001b[K\n",
      "[/home/tabea/ComputationalWorkflows/Tag6/day_6/day_6/work/d7/4949f2a6455349ff53338898875eb9/h_wchunkaa, /home/tabea/ComputationalWorkflows/Tag6/day_6/day_6/work/d7/4949f2a6455349ff53338898875eb9/h_wchunkab, /home/tabea/ComputationalWorkflows/Tag6/day_6/day_6/work/d7/4949f2a6455349ff53338898875eb9/h_wchunkac]\u001b[K\n",
      "\u001b[K\n",
      "[/home/tabea/ComputationalWorkflows/Tag6/day_6/day_6/work/d8/77f3113b3e01f657000dcfbd07ea51/c_wchunkaa, /home/tabea/ComputationalWorkflows/Tag6/day_6/day_6/work/d8/77f3113b3e01f657000dcfbd07ea51/c_wchunkab, /home/tabea/ComputationalWorkflows/Tag6/day_6/day_6/work/d8/77f3113b3e01f657000dcfbd07ea51/c_wchunkac, /home/tabea/ComputationalWorkflows/Tag6/day_6/day_6/work/d8/77f3113b3e01f657000dcfbd07ea51/c_wchunkad, /home/tabea/ComputationalWorkflows/Tag6/day_6/day_6/work/d8/77f3113b3e01f657000dcfbd07ea51/c_wchunkae, /home/tabea/ComputationalWorkflows/Tag6/day_6/day_6/work/d8/77f3113b3e01f657000dcfbd07ea51/c_wchunkaf, /home/tabea/ComputationalWorkflows/Tag6/day_6/day_6/work/d8/77f3113b3e01f657000dcfbd07ea51/c_wchunkag, /home/tabea/ComputationalWorkflows/Tag6/day_6/day_6/work/d8/77f3113b3e01f657000dcfbd07ea51/c_wchunkah]\u001b[K\n",
      "WS\u001b[K\n",
      "L W\u001b[K\n",
      "FLO\u001b[K\n",
      "ONA\u001b[K\n",
      "ATI\u001b[K\n",
      "O WO\u001b[K\n",
      "ORK\u001b[K\n",
      "PUT\u001b[K\n",
      "HELL\u001b[K\n",
      "COM\u001b[K\n",
      "RLD\u001b[K\n",
      "\u001b[19A\n",
      "executor >  local (13)\u001b[K\n",
      "[d8/77f311] process > SPLITLETTERS (2)   [100%] 2 of 2 ✔\u001b[K\n",
      "[e2/3ffc08] process > CONVERTTOUPPER (3) [100%] 11 of 11 ✔\u001b[K\n",
      "\u001b[K\n",
      "[/home/tabea/ComputationalWorkflows/Tag6/day_6/day_6/work/d7/4949f2a6455349ff53338898875eb9/h_wchunkaa, /home/tabea/ComputationalWorkflows/Tag6/day_6/day_6/work/d7/4949f2a6455349ff53338898875eb9/h_wchunkab, /home/tabea/ComputationalWorkflows/Tag6/day_6/day_6/work/d7/4949f2a6455349ff53338898875eb9/h_wchunkac]\u001b[K\n",
      "\u001b[K\n",
      "[/home/tabea/ComputationalWorkflows/Tag6/day_6/day_6/work/d8/77f3113b3e01f657000dcfbd07ea51/c_wchunkaa, /home/tabea/ComputationalWorkflows/Tag6/day_6/day_6/work/d8/77f3113b3e01f657000dcfbd07ea51/c_wchunkab, /home/tabea/ComputationalWorkflows/Tag6/day_6/day_6/work/d8/77f3113b3e01f657000dcfbd07ea51/c_wchunkac, /home/tabea/ComputationalWorkflows/Tag6/day_6/day_6/work/d8/77f3113b3e01f657000dcfbd07ea51/c_wchunkad, /home/tabea/ComputationalWorkflows/Tag6/day_6/day_6/work/d8/77f3113b3e01f657000dcfbd07ea51/c_wchunkae, /home/tabea/ComputationalWorkflows/Tag6/day_6/day_6/work/d8/77f3113b3e01f657000dcfbd07ea51/c_wchunkaf, /home/tabea/ComputationalWorkflows/Tag6/day_6/day_6/work/d8/77f3113b3e01f657000dcfbd07ea51/c_wchunkag, /home/tabea/ComputationalWorkflows/Tag6/day_6/day_6/work/d8/77f3113b3e01f657000dcfbd07ea51/c_wchunkah]\u001b[K\n",
      "WS\u001b[K\n",
      "L W\u001b[K\n",
      "FLO\u001b[K\n",
      "ONA\u001b[K\n",
      "ATI\u001b[K\n",
      "O WO\u001b[K\n",
      "ORK\u001b[K\n",
      "PUT\u001b[K\n",
      "HELL\u001b[K\n",
      "COM\u001b[K\n",
      "RLD\u001b[K\n",
      "\n"
     ]
    }
   ],
   "source": [
    "!nextflow run link_p_c.nf"
   ]
  },
  {
   "cell_type": "markdown",
   "metadata": {},
   "source": []
  },
  {
   "cell_type": "markdown",
   "metadata": {},
   "source": [
    "### Give a list with the paths to the chunk files"
   ]
  },
  {
   "cell_type": "code",
   "execution_count": null,
   "metadata": {},
   "outputs": [],
   "source": []
  },
  {
   "cell_type": "markdown",
   "metadata": {},
   "source": [
    "### Why was CONVERTTOUPPER run so often?"
   ]
  },
  {
   "cell_type": "code",
   "execution_count": null,
   "metadata": {},
   "outputs": [],
   "source": []
  },
  {
   "cell_type": "code",
   "execution_count": null,
   "metadata": {},
   "outputs": [],
   "source": []
  },
  {
   "cell_type": "code",
   "execution_count": null,
   "metadata": {},
   "outputs": [],
   "source": []
  },
  {
   "cell_type": "code",
   "execution_count": null,
   "metadata": {},
   "outputs": [],
   "source": []
  },
  {
   "cell_type": "code",
   "execution_count": null,
   "metadata": {},
   "outputs": [],
   "source": []
  },
  {
   "cell_type": "code",
   "execution_count": null,
   "metadata": {},
   "outputs": [],
   "source": []
  },
  {
   "cell_type": "code",
   "execution_count": null,
   "metadata": {},
   "outputs": [],
   "source": []
  },
  {
   "cell_type": "code",
   "execution_count": null,
   "metadata": {},
   "outputs": [],
   "source": []
  },
  {
   "cell_type": "code",
   "execution_count": null,
   "metadata": {},
   "outputs": [],
   "source": []
  },
  {
   "cell_type": "code",
   "execution_count": null,
   "metadata": {},
   "outputs": [],
   "source": []
  },
  {
   "cell_type": "code",
   "execution_count": null,
   "metadata": {},
   "outputs": [],
   "source": []
  },
  {
   "cell_type": "code",
   "execution_count": null,
   "metadata": {},
   "outputs": [],
   "source": []
  }
 ],
 "metadata": {
  "kernelspec": {
   "display_name": "nextflow",
   "language": "python",
   "name": "python3"
  },
  "language_info": {
   "codemirror_mode": {
    "name": "ipython",
    "version": 3
   },
   "file_extension": ".py",
   "mimetype": "text/x-python",
   "name": "python",
   "nbconvert_exporter": "python",
   "pygments_lexer": "ipython3",
   "version": "3.10.14"
  }
 },
 "nbformat": 4,
 "nbformat_minor": 2
}
