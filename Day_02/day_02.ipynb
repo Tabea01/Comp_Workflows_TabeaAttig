{
 "cells": [
  {
   "cell_type": "markdown",
   "metadata": {},
   "source": [
    "# Day 2\n",
    "\n",
    "Today, we will start using nf-core pipelines to find differentially abundant genes in our dataset. \n",
    "We are using data from the following paper: https://www.nature.com/articles/s41593-023-01350-3#Sec10"
   ]
  },
  {
   "cell_type": "markdown",
   "metadata": {
    "vscode": {
     "languageId": "plaintext"
    }
   },
   "source": [
    "1. Please take some time to read through the paper and understand their approach, hypotheses and goals."
   ]
  },
  {
   "cell_type": "markdown",
   "metadata": {
    "vscode": {
     "languageId": "plaintext"
    }
   },
   "source": [
    "What was the objective of the study?\n",
    "\n",
    "- The goal of this study was to understand how withdrawing from oxycodone affects gene expression in the brain's reward system, especially when there is also chronic pain involved. They used a mouse model with a peripheral nerve injury (SNI) to see how oxycodone withdrawal impacts the brain differently in those with chronic pain versus those without. They also tested whether a drug that inhibits HDAC1/HDAC2 could help lessen the negative effects of withdrawal."
   ]
  },
  {
   "cell_type": "markdown",
   "metadata": {
    "vscode": {
     "languageId": "plaintext"
    }
   },
   "source": [
    "What do the conditions mean?"
   ]
  },
  {
   "cell_type": "markdown",
   "metadata": {},
   "source": [
    "- oxy: group of mice treated with oxycodone\n",
    "\n",
    "\n",
    "- sal: control group which received a saline solution"
   ]
  },
  {
   "cell_type": "markdown",
   "metadata": {},
   "source": [
    "What do the genotypes mean?"
   ]
  },
  {
   "cell_type": "markdown",
   "metadata": {},
   "source": [
    "- SNI: Spared Nerve Injury, which means these mice have nerve damage, simulating chronic pain.\n",
    "\n",
    "\n",
    "- Sham: These mice underwent a fake surgery without nerve damage, so they represent a pain-free state."
   ]
  },
  {
   "cell_type": "markdown",
   "metadata": {},
   "source": [
    "Imagine you are the bioinformatician in the group who conducted this study. They hand you the raw files and ask you to analyze them.\n",
    "\n",
    "What would you do?\n",
    "\n",
    "Which groups would you compare to each other?\n",
    "\n",
    "Please also mention which outcome you would expect to see from each comparison."
   ]
  },
  {
   "cell_type": "markdown",
   "metadata": {},
   "source": [
    "- I would first look at tge data and perform exploratory data analysis as well as data preprocessing. Normalizing the data can also help.\n",
    "\n",
    "- Then I would look for differently expressed genes between the different groups (i.e. comparison of SNI-Oxy and SNI-Sal) to look for genes affected by this oxydone withdrawl.\n",
    "\n",
    "- Afterwards, we could dive deeper into the biological processes, trying to find pathways or molecules (i.e. enzymes) that are impacted leading to these results.\n",
    "\n",
    "- Nice to have are also plots to visualize the data.\n",
    "\n",
    "- At the end, the ideal outcome would be to link the shown changes in the gene expression with changes in behaviour of those mice."
   ]
  },
  {
   "cell_type": "markdown",
   "metadata": {},
   "source": [
    "We can compare the groups SNI-Oxy vs SNI-Sal, Sham-Oxy vs. Sham-Sal SNI-Oxy vs. Sham-Oxy or SNI-Sal vs. Sham-Sal depending on the research question we want to answer. The goal is to detect whether HDAC1/HADAC2 inhibition could be a helpful treatment to handle withdrawal symptoms.\n",
    "\n",
    "SNI-Oxy vs. SNI-Sal: \n",
    "- How does oxycodone withdrawal affects mice with chronic pain?\n",
    "- Expected Outcome: Changes in genes related to stress, dysregulation of the reward system, and inflammation. This should show that withdrawal is particularly tough on mice with chronic pain.\n",
    "\n",
    "Sham-Oxy vs. Sham-Sal:\n",
    "- How does withdrawal affects mice without any pain?\n",
    "- Expected Outcome: No chronic pain but changes in the brain's reward system which reflect the withdrawal symptoms.\n",
    "\n",
    "SNI-Oxy vs. Sham-Oxy:\n",
    "- How does chronic pain alter the effects of oxydone withdrawal?\n",
    "- Expected Outcome: Withdrawal should have more severe effects in the SNI group than in the Sham group.\n",
    "\n",
    "SNI-Sal vs. Sham-Sal:\n",
    "- What is the impact of the nerve injury by itself, without the influence of oxycodone?\n",
    "- Expected Outcome: Changes in genes which are related to the nerve injury"
   ]
  },
  {
   "cell_type": "markdown",
   "metadata": {},
   "source": [
    "Your group gave you a very suboptimal excel sheet (conditions_runs_oxy_project.xlsx) to get the information you need for each run they uploaded to the SRA.<br>\n",
    "So, instead of directly diving into downloading the data and starting the analysis, you first need to sort the lazy table.<br>\n",
    "Use Python and Pandas to get the table into a more sensible order.<br>\n",
    "Then, perform some overview analysis and plot the results\n",
    "1. How many samples do you have per condition?\n",
    "2. How many samples do you have per genotype?\n",
    "3. How often do you have each condition per genotype?"
   ]
  },
  {
   "cell_type": "code",
   "execution_count": 2,
   "metadata": {},
   "outputs": [],
   "source": [
    "import pandas as pd\n",
    "import matplotlib.pyplot as plt\n",
    "import seaborn as sns\n"
   ]
  },
  {
   "cell_type": "code",
   "execution_count": 3,
   "metadata": {},
   "outputs": [],
   "source": [
    "# Load the datasets\n",
    "df1 = pd.read_excel('conditions_runs_oxy_project.xlsx')\n",
    "df2 = pd.read_csv('base_counts.csv')"
   ]
  },
  {
   "cell_type": "code",
   "execution_count": 4,
   "metadata": {},
   "outputs": [
    {
     "data": {
      "text/plain": [
       "<bound method NDFrame.head of    Patient          Run RNA-seq  DNA-seq condition: Sal Condition: Oxy  \\\n",
       "0        ?  SRR23195505       x      NaN              x            NaN   \n",
       "1        ?  SRR23195506       x      NaN            NaN              x   \n",
       "2        ?  SRR23195507       x      NaN              x            NaN   \n",
       "3        ?  SRR23195508       x      NaN            NaN              x   \n",
       "4        ?  SRR23195509       x      NaN            NaN              x   \n",
       "5        ?  SRR23195510       x      NaN              x            NaN   \n",
       "6        ?  SRR23195511       x      NaN            NaN              x   \n",
       "7        ?  SRR23195512       x      NaN              x            NaN   \n",
       "8        ?  SRR23195513       x      NaN              x            NaN   \n",
       "9        ?  SRR23195514       x      NaN            NaN              x   \n",
       "10       ?  SRR23195515       x      NaN              x            NaN   \n",
       "11       ?  SRR23195516       x      NaN            NaN              x   \n",
       "12       ?  SRR23195517       x      NaN            NaN              x   \n",
       "13       ?  SRR23195518       x      NaN              x            NaN   \n",
       "14       ?  SRR23195519       x      NaN            NaN              x   \n",
       "15       ?  SRR23195520       x      NaN              x            NaN   \n",
       "\n",
       "   Genotype: SNI Genotype: Sham  \n",
       "0              x            NaN  \n",
       "1            NaN              x  \n",
       "2            NaN              x  \n",
       "3              x            NaN  \n",
       "4              x            NaN  \n",
       "5              x            NaN  \n",
       "6            NaN              x  \n",
       "7            NaN              x  \n",
       "8              x            NaN  \n",
       "9            NaN              x  \n",
       "10           NaN              x  \n",
       "11             x            NaN  \n",
       "12             x            NaN  \n",
       "13             x            NaN  \n",
       "14           NaN              x  \n",
       "15           NaN              x  >"
      ]
     },
     "execution_count": 4,
     "metadata": {},
     "output_type": "execute_result"
    }
   ],
   "source": [
    "# Show the first few lines of dataframe 1\n",
    "df1.head"
   ]
  },
  {
   "cell_type": "code",
   "execution_count": 5,
   "metadata": {},
   "outputs": [
    {
     "name": "stdout",
     "output_type": "stream",
     "text": [
      "Index(['Patient', 'Run', 'RNA-seq', 'DNA-seq', 'condition: Sal',\n",
      "       'Condition: Oxy', 'Genotype: SNI', 'Genotype: Sham'],\n",
      "      dtype='object')\n"
     ]
    }
   ],
   "source": [
    "print(df1.columns)"
   ]
  },
  {
   "cell_type": "code",
   "execution_count": 6,
   "metadata": {},
   "outputs": [
    {
     "data": {
      "text/plain": [
       "<bound method NDFrame.head of             Run       Bases\n",
       "0   SRR23195505  6922564500\n",
       "1   SRR23195506  7859530800\n",
       "2   SRR23195507  8063298900\n",
       "3   SRR23195508  6927786900\n",
       "4   SRR23195509  7003550100\n",
       "5   SRR23195510  7377388500\n",
       "6   SRR23195511  6456390900\n",
       "7   SRR23195512  7462857900\n",
       "8   SRR23195513  8099181600\n",
       "9   SRR23195514  7226808600\n",
       "10  SRR23195515  8169101700\n",
       "11  SRR23195516  6203117700\n",
       "12  SRR23195517  6863840400\n",
       "13  SRR23195518  7908500400\n",
       "14  SRR23195519  6996050100\n",
       "15  SRR23195520  7858146000>"
      ]
     },
     "execution_count": 6,
     "metadata": {},
     "output_type": "execute_result"
    }
   ],
   "source": [
    "# Show the first few lines of dataframe 2\n",
    "df2.head"
   ]
  },
  {
   "cell_type": "code",
   "execution_count": 7,
   "metadata": {},
   "outputs": [
    {
     "name": "stdout",
     "output_type": "stream",
     "text": [
      "   Patient          Run RNA-seq  DNA-seq Condition Genotype\n",
      "0        ?  SRR23195505       x      NaN       Sal      SNI\n",
      "1        ?  SRR23195506       x      NaN       Oxy     Sham\n",
      "2        ?  SRR23195507       x      NaN       Sal     Sham\n",
      "3        ?  SRR23195508       x      NaN       Oxy      SNI\n",
      "4        ?  SRR23195509       x      NaN       Oxy      SNI\n",
      "5        ?  SRR23195510       x      NaN       Sal      SNI\n",
      "6        ?  SRR23195511       x      NaN       Oxy     Sham\n",
      "7        ?  SRR23195512       x      NaN       Sal     Sham\n",
      "8        ?  SRR23195513       x      NaN       Sal      SNI\n",
      "9        ?  SRR23195514       x      NaN       Oxy     Sham\n",
      "10       ?  SRR23195515       x      NaN       Sal     Sham\n",
      "11       ?  SRR23195516       x      NaN       Oxy      SNI\n",
      "12       ?  SRR23195517       x      NaN       Oxy      SNI\n",
      "13       ?  SRR23195518       x      NaN       Sal      SNI\n",
      "14       ?  SRR23195519       x      NaN       Oxy     Sham\n",
      "15       ?  SRR23195520       x      NaN       Sal     Sham\n"
     ]
    }
   ],
   "source": [
    "# Create new 'Condition' column\n",
    "df1['Condition'] = df1.apply(lambda row: 'Sal' if row['condition: Sal'] == 'x' else 'Oxy', axis=1)\n",
    "\n",
    "# Create new 'Genotype' column\n",
    "df1['Genotype'] = df1.apply(lambda row: 'SNI' if row['Genotype: SNI'] == 'x' else 'Sham', axis=1)\n",
    "\n",
    "# Drop the original columns\n",
    "df1.drop(columns=['condition: Sal', 'Condition: Oxy', 'Genotype: SNI', 'Genotype: Sham'], inplace=True)\n",
    "\n",
    "# Display the updated DataFrame\n",
    "print(df1)\n"
   ]
  },
  {
   "cell_type": "code",
   "execution_count": 8,
   "metadata": {},
   "outputs": [
    {
     "name": "stdout",
     "output_type": "stream",
     "text": [
      "\n",
      "DataFrame sorted by Genotype:\n",
      "   Patient          Run RNA-seq  DNA-seq Condition Genotype\n",
      "0        ?  SRR23195505       x      NaN       Sal      SNI\n",
      "3        ?  SRR23195508       x      NaN       Oxy      SNI\n",
      "4        ?  SRR23195509       x      NaN       Oxy      SNI\n",
      "5        ?  SRR23195510       x      NaN       Sal      SNI\n",
      "8        ?  SRR23195513       x      NaN       Sal      SNI\n",
      "11       ?  SRR23195516       x      NaN       Oxy      SNI\n",
      "12       ?  SRR23195517       x      NaN       Oxy      SNI\n",
      "13       ?  SRR23195518       x      NaN       Sal      SNI\n",
      "1        ?  SRR23195506       x      NaN       Oxy     Sham\n",
      "2        ?  SRR23195507       x      NaN       Sal     Sham\n",
      "6        ?  SRR23195511       x      NaN       Oxy     Sham\n",
      "7        ?  SRR23195512       x      NaN       Sal     Sham\n",
      "9        ?  SRR23195514       x      NaN       Oxy     Sham\n",
      "10       ?  SRR23195515       x      NaN       Sal     Sham\n",
      "14       ?  SRR23195519       x      NaN       Oxy     Sham\n",
      "15       ?  SRR23195520       x      NaN       Sal     Sham\n"
     ]
    }
   ],
   "source": [
    "# Sort the DataFrame by 'Genotype'\n",
    "sorted_by_genotype = df1.sort_values(by='Genotype')\n",
    "\n",
    "print(\"\\nDataFrame sorted by Genotype:\")\n",
    "print(sorted_by_genotype)"
   ]
  },
  {
   "cell_type": "code",
   "execution_count": 9,
   "metadata": {},
   "outputs": [
    {
     "name": "stdout",
     "output_type": "stream",
     "text": [
      "\n",
      "DataFrame sorted by Condition:\n",
      "   Patient          Run RNA-seq  DNA-seq Condition Genotype\n",
      "1        ?  SRR23195506       x      NaN       Oxy     Sham\n",
      "3        ?  SRR23195508       x      NaN       Oxy      SNI\n",
      "4        ?  SRR23195509       x      NaN       Oxy      SNI\n",
      "6        ?  SRR23195511       x      NaN       Oxy     Sham\n",
      "9        ?  SRR23195514       x      NaN       Oxy     Sham\n",
      "11       ?  SRR23195516       x      NaN       Oxy      SNI\n",
      "12       ?  SRR23195517       x      NaN       Oxy      SNI\n",
      "14       ?  SRR23195519       x      NaN       Oxy     Sham\n",
      "0        ?  SRR23195505       x      NaN       Sal      SNI\n",
      "2        ?  SRR23195507       x      NaN       Sal     Sham\n",
      "5        ?  SRR23195510       x      NaN       Sal      SNI\n",
      "7        ?  SRR23195512       x      NaN       Sal     Sham\n",
      "8        ?  SRR23195513       x      NaN       Sal      SNI\n",
      "10       ?  SRR23195515       x      NaN       Sal     Sham\n",
      "13       ?  SRR23195518       x      NaN       Sal      SNI\n",
      "15       ?  SRR23195520       x      NaN       Sal     Sham\n"
     ]
    }
   ],
   "source": [
    "# Sort the DataFrame by 'Condition'\n",
    "sorted_by_condition = df1.sort_values(by='Condition')\n",
    "\n",
    "print(\"\\nDataFrame sorted by Condition:\")\n",
    "print(sorted_by_condition)"
   ]
  },
  {
   "cell_type": "code",
   "execution_count": 10,
   "metadata": {},
   "outputs": [
    {
     "name": "stdout",
     "output_type": "stream",
     "text": [
      "Samples per condition:\n",
      "Sal    8\n",
      "Oxy    8\n",
      "Name: Condition, dtype: int64\n"
     ]
    }
   ],
   "source": [
    "# How many samples do you have per condition?\n",
    "condition_counts = df1['Condition'].value_counts()\n",
    "print(\"Samples per condition:\")\n",
    "print(condition_counts)"
   ]
  },
  {
   "cell_type": "code",
   "execution_count": 16,
   "metadata": {},
   "outputs": [
    {
     "name": "stderr",
     "output_type": "stream",
     "text": [
      "/tmp/ipykernel_1129/1047194094.py:3: FutureWarning: \n",
      "\n",
      "Passing `palette` without assigning `hue` is deprecated and will be removed in v0.14.0. Assign the `x` variable to `hue` and set `legend=False` for the same effect.\n",
      "\n",
      "  sns.barplot(x=condition_counts.index, y=condition_counts.values, palette='viridis')\n"
     ]
    },
    {
     "data": {
      "image/png": "[encoded data removed]",
      "text/plain": [
       "<Figure size 1000x600 with 1 Axes>"
      ]
     },
     "metadata": {},
     "output_type": "display_data"
    }
   ],
   "source": [
    "# Bar plot for number of samples per condition\n",
    "plt.figure(figsize=(10, 6))\n",
    "sns.barplot(x=condition_counts.index, y=condition_counts.values, palette='viridis')\n",
    "plt.title('Number of Samples per Condition')\n",
    "plt.xlabel('Condition')\n",
    "plt.ylabel('Number of Samples')\n",
    "plt.xticks(rotation=45)\n",
    "plt.show()"
   ]
  },
  {
   "cell_type": "code",
   "execution_count": 11,
   "metadata": {},
   "outputs": [
    {
     "name": "stdout",
     "output_type": "stream",
     "text": [
      "\n",
      "Samples per genotype:\n",
      "SNI     8\n",
      "Sham    8\n",
      "Name: Genotype, dtype: int64\n"
     ]
    }
   ],
   "source": [
    "# How many samples do you have per genotype?\n",
    "genotype_counts = df1['Genotype'].value_counts()\n",
    "print(\"\\nSamples per genotype:\")\n",
    "print(genotype_counts)"
   ]
  },
  {
   "cell_type": "code",
   "execution_count": 17,
   "metadata": {},
   "outputs": [
    {
     "name": "stderr",
     "output_type": "stream",
     "text": [
      "/tmp/ipykernel_1129/143000047.py:3: FutureWarning: \n",
      "\n",
      "Passing `palette` without assigning `hue` is deprecated and will be removed in v0.14.0. Assign the `x` variable to `hue` and set `legend=False` for the same effect.\n",
      "\n",
      "  sns.barplot(x=genotype_counts.index, y=genotype_counts.values, palette='magma')\n"
     ]
    },
    {
     "data": {
      "image/png": "[encoded data removed]",
      "text/plain": [
       "<Figure size 1000x600 with 1 Axes>"
      ]
     },
     "metadata": {},
     "output_type": "display_data"
    }
   ],
   "source": [
    "# Bar plot for number of samples per genotype\n",
    "plt.figure(figsize=(10, 6))\n",
    "sns.barplot(x=genotype_counts.index, y=genotype_counts.values, palette='magma')\n",
    "plt.title('Number of Samples per Genotype')\n",
    "plt.xlabel('Genotype')\n",
    "plt.ylabel('Number of Samples')\n",
    "plt.xticks(rotation=45)\n",
    "plt.show()"
   ]
  },
  {
   "cell_type": "code",
   "execution_count": 12,
   "metadata": {},
   "outputs": [
    {
     "name": "stdout",
     "output_type": "stream",
     "text": [
      "\n",
      "Condition counts per genotype:\n",
      "Condition  Oxy  Sal\n",
      "Genotype           \n",
      "SNI          4    4\n",
      "Sham         4    4\n"
     ]
    }
   ],
   "source": [
    "# How often do you have each condition per genotype?\n",
    "condition_genotype_counts = df1.groupby(['Genotype', 'Condition']).size().unstack(fill_value=0)\n",
    "print(\"\\nCondition counts per genotype:\")\n",
    "print(condition_genotype_counts)"
   ]
  },
  {
   "cell_type": "code",
   "execution_count": 19,
   "metadata": {},
   "outputs": [
    {
     "data": {
      "image/png": "[encoded data removed]",
      "text/plain": [
       "<Figure size 1000x600 with 1 Axes>"
      ]
     },
     "metadata": {},
     "output_type": "display_data"
    }
   ],
   "source": [
    "# Plot 3: Stacked bar plot for condition counts per genotype\n",
    "condition_genotype_counts.plot(kind='bar', stacked=True, figsize=(10, 6), colormap='tab10')\n",
    "plt.title('Condition Counts per Genotype')\n",
    "plt.xlabel('Genotype')\n",
    "plt.ylabel('Number of Samples')\n",
    "plt.xticks(rotation=45)\n",
    "plt.legend(title='Condition')\n",
    "plt.show()"
   ]
  },
  {
   "cell_type": "markdown",
   "metadata": {},
   "source": [
    "1. How many samples do you have per condition?\n",
    "- Sal: 8 samples, Oxy: 8 samples\n",
    "2. How many samples do you have per genotype?\n",
    "- SNI: 8 samples, Sham: 8 samples\n",
    "3. How often do you have each condition per genotype?\n",
    "- Oxy/ SNI: 4 samples, Oxy/Sham: 4 samples, Sal/SNI: 4 samples, Sal/Sham: 4 samples"
   ]
  },
  {
   "cell_type": "markdown",
   "metadata": {},
   "source": [
    "They were so kind to also provide you with the information of the number of bases per run, so that you can know how much space the data will take on your Cluster.<br>\n",
    "Add a new column to your fancy table with this information (base_counts.csv) and sort your dataframe according to this information and the condition.\n",
    "\n",
    "Then select the 2 smallest runs from your dataset and download them from SRA (maybe an nf-core pipeline can help here?...)"
   ]
  },
  {
   "cell_type": "code",
   "execution_count": 13,
   "metadata": {},
   "outputs": [
    {
     "name": "stdout",
     "output_type": "stream",
     "text": [
      "\n",
      "Merged DataFrame:\n",
      "   Patient          Run RNA-seq  DNA-seq Condition Genotype       Bases\n",
      "0        ?  SRR23195505       x      NaN       Sal      SNI  6922564500\n",
      "1        ?  SRR23195506       x      NaN       Oxy     Sham  7859530800\n",
      "2        ?  SRR23195507       x      NaN       Sal     Sham  8063298900\n",
      "3        ?  SRR23195508       x      NaN       Oxy      SNI  6927786900\n",
      "4        ?  SRR23195509       x      NaN       Oxy      SNI  7003550100\n",
      "5        ?  SRR23195510       x      NaN       Sal      SNI  7377388500\n",
      "6        ?  SRR23195511       x      NaN       Oxy     Sham  6456390900\n",
      "7        ?  SRR23195512       x      NaN       Sal     Sham  7462857900\n",
      "8        ?  SRR23195513       x      NaN       Sal      SNI  8099181600\n",
      "9        ?  SRR23195514       x      NaN       Oxy     Sham  7226808600\n",
      "10       ?  SRR23195515       x      NaN       Sal     Sham  8169101700\n",
      "11       ?  SRR23195516       x      NaN       Oxy      SNI  6203117700\n",
      "12       ?  SRR23195517       x      NaN       Oxy      SNI  6863840400\n",
      "13       ?  SRR23195518       x      NaN       Sal      SNI  7908500400\n",
      "14       ?  SRR23195519       x      NaN       Oxy     Sham  6996050100\n",
      "15       ?  SRR23195520       x      NaN       Sal     Sham  7858146000\n",
      "\n",
      "Sorted DataFrame by Bases:\n",
      "   Patient          Run RNA-seq  DNA-seq Condition Genotype       Bases\n",
      "11       ?  SRR23195516       x      NaN       Oxy      SNI  6203117700\n",
      "6        ?  SRR23195511       x      NaN       Oxy     Sham  6456390900\n",
      "12       ?  SRR23195517       x      NaN       Oxy      SNI  6863840400\n",
      "0        ?  SRR23195505       x      NaN       Sal      SNI  6922564500\n",
      "3        ?  SRR23195508       x      NaN       Oxy      SNI  6927786900\n",
      "14       ?  SRR23195519       x      NaN       Oxy     Sham  6996050100\n",
      "4        ?  SRR23195509       x      NaN       Oxy      SNI  7003550100\n",
      "9        ?  SRR23195514       x      NaN       Oxy     Sham  7226808600\n",
      "5        ?  SRR23195510       x      NaN       Sal      SNI  7377388500\n",
      "7        ?  SRR23195512       x      NaN       Sal     Sham  7462857900\n",
      "15       ?  SRR23195520       x      NaN       Sal     Sham  7858146000\n",
      "1        ?  SRR23195506       x      NaN       Oxy     Sham  7859530800\n",
      "13       ?  SRR23195518       x      NaN       Sal      SNI  7908500400\n",
      "2        ?  SRR23195507       x      NaN       Sal     Sham  8063298900\n",
      "8        ?  SRR23195513       x      NaN       Sal      SNI  8099181600\n",
      "10       ?  SRR23195515       x      NaN       Sal     Sham  8169101700\n",
      "\n",
      "Sorted DataFrame by Condition:\n",
      "   Patient          Run RNA-seq  DNA-seq Condition Genotype       Bases\n",
      "1        ?  SRR23195506       x      NaN       Oxy     Sham  7859530800\n",
      "3        ?  SRR23195508       x      NaN       Oxy      SNI  6927786900\n",
      "4        ?  SRR23195509       x      NaN       Oxy      SNI  7003550100\n",
      "6        ?  SRR23195511       x      NaN       Oxy     Sham  6456390900\n",
      "9        ?  SRR23195514       x      NaN       Oxy     Sham  7226808600\n",
      "11       ?  SRR23195516       x      NaN       Oxy      SNI  6203117700\n",
      "12       ?  SRR23195517       x      NaN       Oxy      SNI  6863840400\n",
      "14       ?  SRR23195519       x      NaN       Oxy     Sham  6996050100\n",
      "0        ?  SRR23195505       x      NaN       Sal      SNI  6922564500\n",
      "2        ?  SRR23195507       x      NaN       Sal     Sham  8063298900\n",
      "5        ?  SRR23195510       x      NaN       Sal      SNI  7377388500\n",
      "7        ?  SRR23195512       x      NaN       Sal     Sham  7462857900\n",
      "8        ?  SRR23195513       x      NaN       Sal      SNI  8099181600\n",
      "10       ?  SRR23195515       x      NaN       Sal     Sham  8169101700\n",
      "13       ?  SRR23195518       x      NaN       Sal      SNI  7908500400\n",
      "15       ?  SRR23195520       x      NaN       Sal     Sham  7858146000\n",
      "\n",
      "Two smallest runs:\n",
      "   Patient          Run RNA-seq  DNA-seq Condition Genotype       Bases\n",
      "11       ?  SRR23195516       x      NaN       Oxy      SNI  6203117700\n",
      "6        ?  SRR23195511       x      NaN       Oxy     Sham  6456390900\n"
     ]
    }
   ],
   "source": [
    "# Merge the base counts with df1\n",
    "df_merged = pd.merge(df1, df2, how='left', left_on='Run', right_on='Run')\n",
    "\n",
    "# Step 3: Sort the DataFrame by Bases and then by Condition\n",
    "df_sorted_by_bases = df_merged.sort_values(by='Bases')\n",
    "df_sorted_by_condition = df_merged.sort_values(by='Condition')\n",
    "\n",
    "# Step 4: Select the 2 smallest runs\n",
    "smallest_runs = df_merged.nsmallest(2, 'Bases')\n",
    "\n",
    "# Display the outputs\n",
    "print(\"\\nMerged DataFrame:\")\n",
    "print(df_merged)\n",
    "print(\"\\nSorted DataFrame by Bases:\")\n",
    "print(df_sorted_by_bases)\n",
    "print(\"\\nSorted DataFrame by Condition:\")\n",
    "print(df_sorted_by_condition)\n",
    "print(\"\\nTwo smallest runs:\")\n",
    "print(smallest_runs)\n",
    "\n",
    "# Extract the 'Run' column\n",
    "run_names = smallest_runs['Run']\n",
    "\n",
    "# Save to CSV, with each run name on a new line\n",
    "run_names.to_csv('smallest_runs.csv', index=False, header=False)\n",
    "\n"
   ]
  },
  {
   "cell_type": "code",
   "execution_count": 20,
   "metadata": {},
   "outputs": [
    {
     "data": {
      "image/png": "[encoded data removed]",
      "text/plain": [
       "<Figure size 1000x600 with 1 Axes>"
      ]
     },
     "metadata": {},
     "output_type": "display_data"
    }
   ],
   "source": [
    "# Distribution of 'Bases' for merged DataFrame\n",
    "plt.figure(figsize=(10, 6))\n",
    "sns.histplot(df_merged['Bases'], kde=True)\n",
    "plt.title('Distribution of Bases')\n",
    "plt.xlabel('Bases')\n",
    "plt.ylabel('Frequency')\n",
    "plt.show()\n"
   ]
  },
  {
   "cell_type": "code",
   "execution_count": 21,
   "metadata": {},
   "outputs": [
    {
     "name": "stdout",
     "output_type": "stream",
     "text": [
      "\u001b[33mNextflow 24.04.4 is available - Please consider updating your version to it\u001b[m\n",
      "N E X T F L O W  ~  version 23.10.0\n",
      "Launching `https://github.com/nf-core/fetchngs` [curious_becquerel] DSL2 - revision: 8ec2d934f9 [1.12.0]\n",
      "\u001b[33mWARN: Access to undefined parameter `monochromeLogs` -- Initialise it to a default value eg. `params.monochromeLogs = some_value`\u001b[39m\u001b[K\n",
      "\n",
      "\n",
      "-\u001b[2m----------------------------------------------------\u001b[0m-\n",
      "                                        \u001b[0;32m,--.\u001b[0;30m/\u001b[0;32m,-.\u001b[0m\n",
      "\u001b[0;34m        ___     __   __   __   ___     \u001b[0;32m/,-._.--~'\u001b[0m\n",
      "\u001b[0;34m  |\\ | |__  __ /  ` /  \\ |__) |__         \u001b[0;33m}  {\u001b[0m\n",
      "\u001b[0;34m  | \\| |       \\__, \\__/ |  \\ |___     \u001b[0;32m\\`-._,-`-,\u001b[0m\n",
      "                                        \u001b[0;32m`._,._,'\u001b[0m\n",
      "\u001b[0;35m  nf-core/fetchngs v1.12.0-g8ec2d93\u001b[0m\n",
      "-\u001b[2m----------------------------------------------------\u001b[0m-\n",
      "\u001b[1mCore Nextflow options\u001b[0m\n",
      "  \u001b[0;34mrevision       : \u001b[0;32m1.12.0\u001b[0m\n",
      "  \u001b[0;34mrunName        : \u001b[0;32mcurious_becquerel\u001b[0m\n",
      "  \u001b[0;34mcontainerEngine: \u001b[0;32mdocker\u001b[0m\n",
      "  \u001b[0;34mlaunchDir      : \u001b[0;32m/home/tabea/ComputationalWorkflows/Tag2/day2/day2\u001b[0m\n",
      "  \u001b[0;34mworkDir        : \u001b[0;32m/home/tabea/ComputationalWorkflows/Tag2/day2/day2/work\u001b[0m\n",
      "  \u001b[0;34mprojectDir     : \u001b[0;32m/home/tabea/.nextflow/assets/nf-core/fetchngs\u001b[0m\n",
      "  \u001b[0;34muserName       : \u001b[0;32mtabea\u001b[0m\n",
      "  \u001b[0;34mprofile        : \u001b[0;32mdocker\u001b[0m\n",
      "  \u001b[0;34mconfigFiles    : \u001b[0;32m\u001b[0m\n",
      "\n",
      "\u001b[1mInput/output options\u001b[0m\n",
      "  \u001b[0;34minput          : \u001b[0;32msmallest_runs.csv\u001b[0m\n",
      "  \u001b[0;34moutdir         : \u001b[0;32m/home/tabea/ComputationalWorkflows/Tag2/SRA_files\u001b[0m\n",
      "\n",
      "!! Only displaying parameters that differ from the pipeline defaults !!\n",
      "-\u001b[2m----------------------------------------------------\u001b[0m-\n",
      "If you use nf-core/fetchngs for your analysis please cite:\n",
      "\n",
      "* The pipeline\n",
      "  https://doi.org/10.5281/zenodo.5070524\n",
      "\n",
      "* The nf-core framework\n",
      "  https://doi.org/10.1038/s41587-020-0439-x\n",
      "\n",
      "* Software dependencies\n",
      "  https://github.com/nf-core/fetchngs/blob/master/CITATIONS.md\n",
      "-\u001b[2m----------------------------------------------------\u001b[0m-\n",
      "[-        ] process > NFCORE_FETCHNGS:SRA:SRA_IDS... -\u001b[K\n",
      "[-        ] process > NFCORE_FETCHNGS:SRA:SRA_RUN... -\u001b[K\n",
      "[-        ] process > NFCORE_FETCHNGS:SRA:SRA_FAS... -\u001b[K\n",
      "[-        ] process > NFCORE_FETCHNGS:SRA:FASTQ_D... -\u001b[K\n",
      "[-        ] process > NFCORE_FETCHNGS:SRA:FASTQ_D... -\u001b[K\n",
      "[-        ] process > NFCORE_FETCHNGS:SRA:FASTQ_D... -\u001b[K\n",
      "[-        ] process > NFCORE_FETCHNGS:SRA:ASPERA_CLI -\u001b[K\n",
      "[-        ] process > NFCORE_FETCHNGS:SRA:SRA_TO_... -\u001b[K\n",
      "[-        ] process > NFCORE_FETCHNGS:SRA:MULTIQC... -\u001b[K\n",
      "\u001b[10A\n",
      "executor >  local (2)\u001b[K\n",
      "[f6/5a4e53] process > NFCORE_FETCHNGS:SRA:SRA_IDS... [  0%] 0 of 2\u001b[K\n",
      "[-        ] process > NFCORE_FETCHNGS:SRA:SRA_RUN... -\u001b[K\n",
      "[-        ] process > NFCORE_FETCHNGS:SRA:SRA_FAS... -\u001b[K\n",
      "[-        ] process > NFCORE_FETCHNGS:SRA:FASTQ_D... -\u001b[K\n",
      "[-        ] process > NFCORE_FETCHNGS:SRA:FASTQ_D... -\u001b[K\n",
      "[-        ] process > NFCORE_FETCHNGS:SRA:FASTQ_D... -\u001b[K\n",
      "[-        ] process > NFCORE_FETCHNGS:SRA:ASPERA_CLI -\u001b[K\n",
      "[-        ] process > NFCORE_FETCHNGS:SRA:SRA_TO_... -\u001b[K\n",
      "[-        ] process > NFCORE_FETCHNGS:SRA:MULTIQC... -\u001b[K\n",
      "\u001b[11A\n",
      "executor >  local (2)\u001b[K\n",
      "[f6/5a4e53] process > NFCORE_FETCHNGS:SRA:SRA_IDS... [  0%] 0 of 2\u001b[K\n",
      "[-        ] process > NFCORE_FETCHNGS:SRA:SRA_RUN... -\u001b[K\n",
      "[-        ] process > NFCORE_FETCHNGS:SRA:SRA_FAS... -\u001b[K\n",
      "[-        ] process > NFCORE_FETCHNGS:SRA:FASTQ_D... -\u001b[K\n",
      "[-        ] process > NFCORE_FETCHNGS:SRA:FASTQ_D... -\u001b[K\n",
      "[-        ] process > NFCORE_FETCHNGS:SRA:FASTQ_D... -\u001b[K\n",
      "[-        ] process > NFCORE_FETCHNGS:SRA:ASPERA_CLI -\u001b[K\n",
      "[-        ] process > NFCORE_FETCHNGS:SRA:SRA_TO_... -\u001b[K\n",
      "[-        ] process > NFCORE_FETCHNGS:SRA:MULTIQC... -\u001b[K\n",
      "\u001b[11A\n",
      "executor >  local (3)\u001b[K\n",
      "[f6/5a4e53] process > NFCORE_FETCHNGS:SRA:SRA_IDS... [ 50%] 1 of 2\u001b[K\n",
      "[2e/5b34e6] process > NFCORE_FETCHNGS:SRA:SRA_RUN... [  0%] 0 of 1\u001b[K\n",
      "[-        ] process > NFCORE_FETCHNGS:SRA:SRA_FAS... -\u001b[K\n",
      "[-        ] process > NFCORE_FETCHNGS:SRA:FASTQ_D... -\u001b[K\n",
      "[-        ] process > NFCORE_FETCHNGS:SRA:FASTQ_D... -\u001b[K\n",
      "[-        ] process > NFCORE_FETCHNGS:SRA:FASTQ_D... -\u001b[K\n",
      "[-        ] process > NFCORE_FETCHNGS:SRA:ASPERA_CLI -\u001b[K\n",
      "[-        ] process > NFCORE_FETCHNGS:SRA:SRA_TO_... -\u001b[K\n",
      "[-        ] process > NFCORE_FETCHNGS:SRA:MULTIQC... -\u001b[K\n",
      "\u001b[11A\n",
      "executor >  local (4)\u001b[K\n",
      "[c4/9dad52] process > NFCORE_FETCHNGS:SRA:SRA_IDS... [100%] 2 of 2 ✔\u001b[K\n",
      "[fb/9c7e18] process > NFCORE_FETCHNGS:SRA:SRA_RUN... [  0%] 0 of 2\u001b[K\n",
      "[-        ] process > NFCORE_FETCHNGS:SRA:SRA_FAS... -\u001b[K\n",
      "[-        ] process > NFCORE_FETCHNGS:SRA:FASTQ_D... -\u001b[K\n",
      "[-        ] process > NFCORE_FETCHNGS:SRA:FASTQ_D... -\u001b[K\n",
      "[-        ] process > NFCORE_FETCHNGS:SRA:FASTQ_D... -\u001b[K\n",
      "[-        ] process > NFCORE_FETCHNGS:SRA:ASPERA_CLI -\u001b[K\n",
      "[-        ] process > NFCORE_FETCHNGS:SRA:SRA_TO_... -\u001b[K\n",
      "[-        ] process > NFCORE_FETCHNGS:SRA:MULTIQC... -\u001b[K\n",
      "\u001b[11A\n",
      "executor >  local (4)\u001b[K\n",
      "[c4/9dad52] process > NFCORE_FETCHNGS:SRA:SRA_IDS... [100%] 2 of 2 ✔\u001b[K\n",
      "[2e/5b34e6] process > NFCORE_FETCHNGS:SRA:SRA_RUN... [ 50%] 1 of 2\u001b[K\n",
      "[-        ] process > NFCORE_FETCHNGS:SRA:SRA_FAS... [  0%] 0 of 1\u001b[K\n",
      "[-        ] process > NFCORE_FETCHNGS:SRA:FASTQ_D... -\u001b[K\n",
      "[-        ] process > NFCORE_FETCHNGS:SRA:FASTQ_D... -\u001b[K\n",
      "[-        ] process > NFCORE_FETCHNGS:SRA:FASTQ_D... -\u001b[K\n",
      "[-        ] process > NFCORE_FETCHNGS:SRA:ASPERA_CLI -\u001b[K\n",
      "[-        ] process > NFCORE_FETCHNGS:SRA:SRA_TO_... -\u001b[K\n",
      "[-        ] process > NFCORE_FETCHNGS:SRA:MULTIQC... -\u001b[K\n",
      "\u001b[11A\n",
      "executor >  local (5)\u001b[K\n",
      "[c4/9dad52] process > NFCORE_FETCHNGS:SRA:SRA_IDS... [100%] 2 of 2 ✔\u001b[K\n",
      "[fb/9c7e18] process > NFCORE_FETCHNGS:SRA:SRA_RUN... [100%] 2 of 2 ✔\u001b[K\n",
      "[66/22ef8c] process > NFCORE_FETCHNGS:SRA:SRA_FAS... [  0%] 0 of 2\u001b[K\n",
      "[-        ] process > NFCORE_FETCHNGS:SRA:FASTQ_D... -\u001b[K\n",
      "[-        ] process > NFCORE_FETCHNGS:SRA:FASTQ_D... -\u001b[K\n",
      "[-        ] process > NFCORE_FETCHNGS:SRA:FASTQ_D... -\u001b[K\n",
      "[-        ] process > NFCORE_FETCHNGS:SRA:ASPERA_CLI -\u001b[K\n",
      "[-        ] process > NFCORE_FETCHNGS:SRA:SRA_TO_... -\u001b[K\n",
      "[-        ] process > NFCORE_FETCHNGS:SRA:MULTIQC... -\u001b[K\n",
      "\u001b[11A\n",
      "executor >  local (5)\u001b[K\n",
      "[c4/9dad52] process > NFCORE_FETCHNGS:SRA:SRA_IDS... [100%] 2 of 2 ✔\u001b[K\n",
      "[fb/9c7e18] process > NFCORE_FETCHNGS:SRA:SRA_RUN... [100%] 2 of 2 ✔\u001b[K\n",
      "[66/22ef8c] process > NFCORE_FETCHNGS:SRA:SRA_FAS... [  0%] 0 of 2\u001b[K\n",
      "[-        ] process > NFCORE_FETCHNGS:SRA:FASTQ_D... -\u001b[K\n",
      "[-        ] process > NFCORE_FETCHNGS:SRA:FASTQ_D... -\u001b[K\n",
      "[-        ] process > NFCORE_FETCHNGS:SRA:FASTQ_D... -\u001b[K\n",
      "[-        ] process > NFCORE_FETCHNGS:SRA:ASPERA_CLI -\u001b[K\n",
      "[-        ] process > NFCORE_FETCHNGS:SRA:SRA_TO_... -\u001b[K\n",
      "[-        ] process > NFCORE_FETCHNGS:SRA:MULTIQC... -\u001b[K\n",
      "\u001b[11A\n",
      "executor >  local (7)\u001b[K\n",
      "[c4/9dad52] process > NFCORE_FETCHNGS:SRA:SRA_IDS... [100%] 2 of 2 ✔\u001b[K\n",
      "[fb/9c7e18] process > NFCORE_FETCHNGS:SRA:SRA_RUN... [100%] 2 of 2 ✔\u001b[K\n",
      "[66/22ef8c] process > NFCORE_FETCHNGS:SRA:SRA_FAS... [ 50%] 1 of 2\u001b[K\n",
      "[-        ] process > NFCORE_FETCHNGS:SRA:FASTQ_D... -\u001b[K\n",
      "[-        ] process > NFCORE_FETCHNGS:SRA:FASTQ_D... -\u001b[K\n",
      "[-        ] process > NFCORE_FETCHNGS:SRA:FASTQ_D... -\u001b[K\n",
      "[-        ] process > NFCORE_FETCHNGS:SRA:ASPERA_CLI -\u001b[K\n",
      "[ec/9f63fe] process > NFCORE_FETCHNGS:SRA:SRA_TO_... [100%] 1 of 1\u001b[K\n",
      "[-        ] process > NFCORE_FETCHNGS:SRA:MULTIQC... -\u001b[K\n",
      "\u001b[11A\n",
      "executor >  local (8)\u001b[K\n",
      "[c4/9dad52] process > NFCORE_FETCHNGS:SRA:SRA_IDS... [100%] 2 of 2 ✔\u001b[K\n",
      "[fb/9c7e18] process > NFCORE_FETCHNGS:SRA:SRA_RUN... [100%] 2 of 2 ✔\u001b[K\n",
      "[26/a54dae] process > NFCORE_FETCHNGS:SRA:SRA_FAS... [100%] 2 of 2 ✔\u001b[K\n",
      "[-        ] process > NFCORE_FETCHNGS:SRA:FASTQ_D... -\u001b[K\n",
      "[-        ] process > NFCORE_FETCHNGS:SRA:FASTQ_D... -\u001b[K\n",
      "[-        ] process > NFCORE_FETCHNGS:SRA:FASTQ_D... -\u001b[K\n",
      "[-        ] process > NFCORE_FETCHNGS:SRA:ASPERA_CLI -\u001b[K\n",
      "[b2/519c63] process > NFCORE_FETCHNGS:SRA:SRA_TO_... [100%] 2 of 2 ✔\u001b[K\n",
      "[-        ] process > NFCORE_FETCHNGS:SRA:MULTIQC... -\u001b[K\n",
      "\u001b[11A\n",
      "executor >  local (9)\u001b[K\n",
      "[c4/9dad52] process > NFCORE_FETCHNGS:SRA:SRA_IDS... [100%] 2 of 2 ✔\u001b[K\n",
      "[fb/9c7e18] process > NFCORE_FETCHNGS:SRA:SRA_RUN... [100%] 2 of 2 ✔\u001b[K\n",
      "[26/a54dae] process > NFCORE_FETCHNGS:SRA:SRA_FAS... [100%] 2 of 2 ✔\u001b[K\n",
      "[-        ] process > NFCORE_FETCHNGS:SRA:FASTQ_D... -\u001b[K\n",
      "[-        ] process > NFCORE_FETCHNGS:SRA:FASTQ_D... -\u001b[K\n",
      "[-        ] process > NFCORE_FETCHNGS:SRA:FASTQ_D... -\u001b[K\n",
      "[-        ] process > NFCORE_FETCHNGS:SRA:ASPERA_CLI -\u001b[K\n",
      "[b2/519c63] process > NFCORE_FETCHNGS:SRA:SRA_TO_... [100%] 2 of 2 ✔\u001b[K\n",
      "[e5/2b065d] process > NFCORE_FETCHNGS:SRA:MULTIQC... [  0%] 0 of 1\u001b[K\n",
      "\u001b[11A\n",
      "executor >  local (9)\u001b[K\n",
      "[c4/9dad52] process > NFCORE_FETCHNGS:SRA:SRA_IDS... [100%] 2 of 2 ✔\u001b[K\n",
      "[fb/9c7e18] process > NFCORE_FETCHNGS:SRA:SRA_RUN... [100%] 2 of 2 ✔\u001b[K\n",
      "[26/a54dae] process > NFCORE_FETCHNGS:SRA:SRA_FAS... [100%] 2 of 2 ✔\u001b[K\n",
      "[-        ] process > NFCORE_FETCHNGS:SRA:FASTQ_D... -\u001b[K\n",
      "[-        ] process > NFCORE_FETCHNGS:SRA:FASTQ_D... -\u001b[K\n",
      "[-        ] process > NFCORE_FETCHNGS:SRA:FASTQ_D... -\u001b[K\n",
      "[-        ] process > NFCORE_FETCHNGS:SRA:ASPERA_CLI -\u001b[K\n",
      "[b2/519c63] process > NFCORE_FETCHNGS:SRA:SRA_TO_... [100%] 2 of 2 ✔\u001b[K\n",
      "[e5/2b065d] process > NFCORE_FETCHNGS:SRA:MULTIQC... [100%] 1 of 1 ✔\u001b[K\n",
      "\u001b[11A\n",
      "executor >  local (9)\u001b[K\n",
      "[c4/9dad52] process > NFCORE_FETCHNGS:SRA:SRA_IDS... [100%] 2 of 2 ✔\u001b[K\n",
      "[fb/9c7e18] process > NFCORE_FETCHNGS:SRA:SRA_RUN... [100%] 2 of 2 ✔\u001b[K\n",
      "[26/a54dae] process > NFCORE_FETCHNGS:SRA:SRA_FAS... [100%] 2 of 2 ✔\u001b[K\n",
      "[-        ] process > NFCORE_FETCHNGS:SRA:FASTQ_D... -\u001b[K\n",
      "[-        ] process > NFCORE_FETCHNGS:SRA:FASTQ_D... -\u001b[K\n",
      "[-        ] process > NFCORE_FETCHNGS:SRA:FASTQ_D... -\u001b[K\n",
      "[-        ] process > NFCORE_FETCHNGS:SRA:ASPERA_CLI -\u001b[K\n",
      "[b2/519c63] process > NFCORE_FETCHNGS:SRA:SRA_TO_... [100%] 2 of 2 ✔\u001b[K\n",
      "[e5/2b065d] process > NFCORE_FETCHNGS:SRA:MULTIQC... [100%] 1 of 1 ✔\u001b[K\n",
      "-\u001b[0;35m[nf-core/fetchngs]\u001b[0;32m Pipeline completed successfully\u001b[0m-\u001b[K\n",
      "\u001b[33mWARN: =============================================================================\u001b[K\n",
      "  Please double-check the samplesheet that has been auto-created by the pipeline.\u001b[K\n",
      "\u001b[K\n",
      "  Public databases don't reliably hold information such as strandedness\u001b[K\n",
      "  information, controls etc\u001b[K\n",
      "\u001b[K\n",
      "  All of the sample metadata obtained from the ENA has been appended\u001b[K\n",
      "  as additional columns to help you manually curate the samplesheet before\u001b[K\n",
      "  running nf-core/other pipelines.\u001b[K\n",
      "===================================================================================\u001b[39m\u001b[K\n",
      "\u001b[22A\n",
      "executor >  local (9)\u001b[K\n",
      "[c4/9dad52] process > NFCORE_FETCHNGS:SRA:SRA_IDS... [100%] 2 of 2 ✔\u001b[K\n",
      "[fb/9c7e18] process > NFCORE_FETCHNGS:SRA:SRA_RUN... [100%] 2 of 2 ✔\u001b[K\n",
      "[26/a54dae] process > NFCORE_FETCHNGS:SRA:SRA_FAS... [100%] 2 of 2 ✔\u001b[K\n",
      "[-        ] process > NFCORE_FETCHNGS:SRA:FASTQ_D... -\u001b[K\n",
      "[-        ] process > NFCORE_FETCHNGS:SRA:FASTQ_D... -\u001b[K\n",
      "[-        ] process > NFCORE_FETCHNGS:SRA:FASTQ_D... -\u001b[K\n",
      "[-        ] process > NFCORE_FETCHNGS:SRA:ASPERA_CLI -\u001b[K\n",
      "[b2/519c63] process > NFCORE_FETCHNGS:SRA:SRA_TO_... [100%] 2 of 2 ✔\u001b[K\n",
      "[e5/2b065d] process > NFCORE_FETCHNGS:SRA:MULTIQC... [100%] 1 of 1 ✔\u001b[K\n",
      "-\u001b[0;35m[nf-core/fetchngs]\u001b[0;32m Pipeline completed successfully\u001b[0m-\u001b[K\n",
      "\u001b[33mWARN: =============================================================================\u001b[K\n",
      "  Please double-check the samplesheet that has been auto-created by the pipeline.\u001b[K\n",
      "\u001b[K\n",
      "  Public databases don't reliably hold information such as strandedness\u001b[K\n",
      "  information, controls etc\u001b[K\n",
      "\u001b[K\n",
      "  All of the sample metadata obtained from the ENA has been appended\u001b[K\n",
      "  as additional columns to help you manually curate the samplesheet before\u001b[K\n",
      "  running nf-core/other pipelines.\u001b[K\n",
      "===================================================================================\u001b[39m\u001b[K\n",
      "\u001b[32;1mCompleted at: 01-Oct-2024 10:58:00\n",
      "Duration    : 52m 23s\n",
      "CPU hours   : 1.7\n",
      "Succeeded   : 9\n",
      "\u001b[22;39m\u001b[K\n",
      "\n"
     ]
    }
   ],
   "source": [
    "! nextflow run nf-core/fetchngs -r 1.12.0 -profile docker --input smallest_runs.csv --outdir /home/tabea/ComputationalWorkflows/Tag2/SRA_files"
   ]
  },
  {
   "cell_type": "markdown",
   "metadata": {},
   "source": [
    "While your files are downloading, get back to the paper and explain how you would try to reproduce the analysis.<br>\n",
    "When you are done with this shout, so we can discuss the different ideas."
   ]
  },
  {
   "cell_type": "markdown",
   "metadata": {},
   "source": [
    "After data acquisition and data preprocessing, we do the following steps:\n",
    "1. Differential Gene Expression Analysis: First, quantify the features (aligned reads) and generate counts for each gene. Afterwards, normalize the data.\n",
    "Identify differentially expressed genes between the different treatment groups (i.e. SNI-Oxy vs. SNI-Sal, Sham-Oxy vs. Sham-Sal, etc.).\n",
    "2. Perform Gene Ontology enrichment and pathway analysis to understand the biological processes affected. In this case, compare the differences between the genotypes and treatment conditions.\n",
    "3. Behavioral Data Analysis: Use different statistical analysis methods to analyze the behavioural data and to evaluate the interaction between conditions. You can plot the results.\n",
    "4. Correlation Analysis: Correlate the data from the behavioral analysis with the gene expression data.\n",
    "5. Replicate the experiments to verify the findings.\n",
    "6. Perform upstream analysis to identify key regulators (in this case HDAC1/HDAC2).\n",
    "7. Analyze how the treatment with the HDAC1/HDAC2 inhibitor affects transcriptional maladaptations.\n",
    "\n",
    "Automate certain processes using nf-core and nextflow."
   ]
  }
 ],
 "metadata": {
  "kernelspec": {
   "display_name": "work",
   "language": "python",
   "name": "python3"
  },
  "language_info": {
   "codemirror_mode": {
    "name": "ipython",
    "version": 3
   },
   "file_extension": ".py",
   "mimetype": "text/x-python",
   "name": "python",
   "nbconvert_exporter": "python",
   "pygments_lexer": "ipython3",
   "version": "3.10.14"
  }
 },
 "nbformat": 4,
 "nbformat_minor": 2
}
