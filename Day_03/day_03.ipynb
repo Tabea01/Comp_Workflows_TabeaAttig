{
 "cells": [
  {
   "cell_type": "markdown",
   "metadata": {},
   "source": [
    "# Differential expression analysis\n"
   ]
  },
  {
   "cell_type": "markdown",
   "metadata": {},
   "source": [
    "You have now successfully run the pipeline and checked the first quality control metrics of your fastq files. However, this is only primary analysis.\n",
    "\n",
    "We would now like to understand exactly the difference between our groups of mice. \n",
    "\n",
    "Which pipeline would you use for this?\n",
    "-> nf-core/differentialabundance"
   ]
  },
  {
   "cell_type": "markdown",
   "metadata": {},
   "source": [
    "Please paste here the command you used"
   ]
  },
  {
   "cell_type": "code",
   "execution_count": 76,
   "metadata": {
    "vscode": {
     "languageId": "shellscript"
    }
   },
   "outputs": [
    {
     "name": "stdout",
     "output_type": "stream",
     "text": [
      "/home/tabea/ComputationalWorkflows/Tag3\n"
     ]
    }
   ],
   "source": [
    "!pwd"
   ]
  },
  {
   "cell_type": "code",
   "execution_count": 77,
   "metadata": {
    "vscode": {
     "languageId": "shellscript"
    }
   },
   "outputs": [
    {
     "name": "stdout",
     "output_type": "stream",
     "text": [
      "        sample condition\n",
      "0   Sham_oxy_1  Sham_oxy\n",
      "1   Sham_oxy_2  Sham_oxy\n",
      "2   Sham_oxy_3  Sham_oxy\n",
      "3   Sham_oxy_4  Sham_oxy\n",
      "4   Sham_Sal_1  Sham_Sal\n",
      "5   Sham_Sal_2  Sham_Sal\n",
      "6   Sham_Sal_3  Sham_Sal\n",
      "7   Sham_Sal_4  Sham_Sal\n",
      "8    SNI_oxy_1   SNI_oxy\n",
      "9    SNI_oxy_2   SNI_oxy\n",
      "10   SNI_oxy_3   SNI_oxy\n",
      "11   SNI_oxy_4   SNI_oxy\n",
      "12   SNI_Sal_1   SNI_Sal\n",
      "13   SNI_Sal_2   SNI_Sal\n",
      "14   SNI_Sal_3   SNI_Sal\n",
      "15   SNI_Sal_4   SNI_Sal\n"
     ]
    }
   ],
   "source": [
    "import pandas as pd\n",
    "\n",
    "# Create a dictionary for the samplesheet with 'sample' and 'condition' columns\n",
    "samplesheet_data = {\n",
    "    \"sample\": [\n",
    "        'Sham_oxy_1', 'Sham_oxy_2', 'Sham_oxy_3', 'Sham_oxy_4',\n",
    "        'Sham_Sal_1', 'Sham_Sal_2', 'Sham_Sal_3', 'Sham_Sal_4',\n",
    "        'SNI_oxy_1', 'SNI_oxy_2', 'SNI_oxy_3', 'SNI_oxy_4',\n",
    "        'SNI_Sal_1', 'SNI_Sal_2', 'SNI_Sal_3', 'SNI_Sal_4'\n",
    "    ],\n",
    "    \"condition\": [\n",
    "        'Sham_oxy', 'Sham_oxy', 'Sham_oxy', 'Sham_oxy',\n",
    "        'Sham_Sal', 'Sham_Sal', 'Sham_Sal', 'Sham_Sal',\n",
    "        'SNI_oxy', 'SNI_oxy', 'SNI_oxy', 'SNI_oxy',\n",
    "        'SNI_Sal', 'SNI_Sal', 'SNI_Sal', 'SNI_Sal'\n",
    "    ]\n",
    "}\n",
    "\n",
    "# Convert the dictionary to a DataFrame\n",
    "samplesheet = pd.DataFrame(samplesheet_dict_2)\n",
    "\n",
    "# Save the samplesheet as a CSV file for nf-core pipeline\n",
    "samplesheet.to_csv('samplesheet.csv', index=False)\n",
    "\n",
    "# Display the samplesheet\n",
    "print(samplesheet)"
   ]
  },
  {
   "cell_type": "code",
   "execution_count": 78,
   "metadata": {
    "vscode": {
     "languageId": "shellscript"
    }
   },
   "outputs": [
    {
     "name": "stdout",
     "output_type": "stream",
     "text": [
      "                     id   variable reference    target\n",
      "0  Sham_oxy_vs_Sham_Sal  condition  Sham_Sal  Sham_oxy\n",
      "1       SNI_vs_Sham_Sal  condition  Sham_Sal   SNI_Sal\n",
      "2   SNI_oxy_vs_Sham_Sal  condition  Sham_Sal   SNI_oxy\n",
      "3    SNI_oxy_vs_SNI_Sal  condition   SNI_Sal   SNI_oxy\n"
     ]
    }
   ],
   "source": [
    "# Create the contrastsheet\n",
    "\n",
    "# Define contrasts as a list of dictionaries\n",
    "contrasts_data = [\n",
    "    {\n",
    "        \"id\": \"Sham_oxy_vs_Sham_Sal\",\n",
    "        \"variable\": \"condition\",\n",
    "        \"reference\": \"Sham_Sal\",\n",
    "        \"target\": \"Sham_oxy\"\n",
    "    },\n",
    "    {\n",
    "        \"id\": \"SNI_vs_Sham_Sal\",\n",
    "        \"variable\": \"condition\",\n",
    "        \"reference\": \"Sham_Sal\",\n",
    "        \"target\": \"SNI_Sal\"\n",
    "    },\n",
    "    {\n",
    "        \"id\": \"SNI_oxy_vs_Sham_Sal\",\n",
    "        \"variable\": \"condition\",\n",
    "        \"reference\": \"Sham_Sal\",\n",
    "        \"target\": \"SNI_oxy\"\n",
    "    },\n",
    "    {\n",
    "        \"id\": \"SNI_oxy_vs_SNI_Sal\",\n",
    "        \"variable\": \"condition\",\n",
    "        \"reference\": \"SNI_Sal\",\n",
    "        \"target\": \"SNI_oxy\"\n",
    "    }\n",
    "]\n",
    "\n",
    "# Convert the list of dictionaries to a DataFrame\n",
    "contrasts_df = pd.DataFrame(contrasts_data)\n",
    "\n",
    "# Save the contrasts file as a CSV\n",
    "contrasts_df.to_csv('contrasts.csv', index=False)\n",
    "\n",
    "print(contrasts_df)"
   ]
  },
  {
   "cell_type": "code",
   "execution_count": 79,
   "metadata": {
    "vscode": {
     "languageId": "shellscript"
    }
   },
   "outputs": [
    {
     "name": "stdout",
     "output_type": "stream",
     "text": [
      "/home/tabea/ComputationalWorkflows/Tag3\n"
     ]
    }
   ],
   "source": [
    "! pwd"
   ]
  },
  {
   "cell_type": "code",
   "execution_count": 80,
   "metadata": {
    "vscode": {
     "languageId": "shellscript"
    }
   },
   "outputs": [
    {
     "name": "stdout",
     "output_type": "stream",
     "text": [
      "Duplicate row names: Index([], dtype='object', name='gene_id')\n"
     ]
    }
   ],
   "source": [
    "# Load the TSV file\n",
    "df = pd.read_table(\"salmon.merged.gene_counts.tsv\", header=0, index_col=0)\n",
    "# Check for duplicate row names\n",
    "duplicate_rows = df.index[df.index.duplicated()].unique()\n",
    "print(\"Duplicate row names:\", duplicate_rows)\n",
    "\n",
    "# Make row names unique by appending a suffix\n",
    "#df_unique = df[~df.index.duplicated(keep='first')]\n",
    "#df_unique.to_csv(\"salmon.merged.gene_counts_unique.tsv\", sep='\\t', index=True)\n",
    "\n"
   ]
  },
  {
   "cell_type": "code",
   "execution_count": 81,
   "metadata": {
    "vscode": {
     "languageId": "shellscript"
    }
   },
   "outputs": [
    {
     "name": "stdout",
     "output_type": "stream",
     "text": [
      "\u001b[33mNextflow 24.04.4 is available - Please consider updating your version to it\u001b[m\n",
      "N E X T F L O W  ~  version 23.10.0\n",
      "Launching `https://github.com/nf-core/differentialabundance` [maniac_lamport] DSL2 - revision: 3dd360fed0 [1.5.0]\n",
      "\u001b[33mWARN: Access to undefined parameter `monochromeLogs` -- Initialise it to a default value eg. `params.monochromeLogs = some_value`\u001b[39m\u001b[K\n",
      "\n",
      "\n",
      "-\u001b[2m----------------------------------------------------\u001b[0m-\n",
      "                                        \u001b[0;32m,--.\u001b[0;30m/\u001b[0;32m,-.\u001b[0m\n",
      "\u001b[0;34m        ___     __   __   __   ___     \u001b[0;32m/,-._.--~'\u001b[0m\n",
      "\u001b[0;34m  |\\ | |__  __ /  ` /  \\ |__) |__         \u001b[0;33m}  {\u001b[0m\n",
      "\u001b[0;34m  | \\| |       \\__, \\__/ |  \\ |___     \u001b[0;32m\\`-._,-`-,\u001b[0m\n",
      "                                        \u001b[0;32m`._,._,'\u001b[0m\n",
      "\u001b[0;35m  nf-core/differentialabundance v1.5.0-g3dd360f\u001b[0m\n",
      "-\u001b[2m----------------------------------------------------\u001b[0m-\n",
      "\u001b[1mCore Nextflow options\u001b[0m\n",
      "  \u001b[0;34mrevision                    : \u001b[0;32m1.5.0\u001b[0m\n",
      "  \u001b[0;34mrunName                     : \u001b[0;32mmaniac_lamport\u001b[0m\n",
      "  \u001b[0;34mcontainerEngine             : \u001b[0;32mdocker\u001b[0m\n",
      "  \u001b[0;34mcontainer                   : \u001b[0;32m[RMARKDOWNNOTEBOOK:biocontainers/r-shinyngs:1.8.8--r43hdfd78af_0]\u001b[0m\n",
      "  \u001b[0;34mlaunchDir                   : \u001b[0;32m/home/tabea/ComputationalWorkflows/Tag3\u001b[0m\n",
      "  \u001b[0;34mworkDir                     : \u001b[0;32m/home/tabea/ComputationalWorkflows/Tag3/work\u001b[0m\n",
      "  \u001b[0;34mprojectDir                  : \u001b[0;32m/home/tabea/.nextflow/assets/nf-core/differentialabundance\u001b[0m\n",
      "  \u001b[0;34muserName                    : \u001b[0;32mtabea\u001b[0m\n",
      "  \u001b[0;34mprofile                     : \u001b[0;32mrnaseq,docker\u001b[0m\n",
      "  \u001b[0;34mconfigFiles                 : \u001b[0;32m\u001b[0m\n",
      "\n",
      "\u001b[1mInput/output options\u001b[0m\n",
      "  \u001b[0;34minput                       : \u001b[0;32msamplesheet.csv\u001b[0m\n",
      "  \u001b[0;34mcontrasts                   : \u001b[0;32mcontrasts.csv\u001b[0m\n",
      "  \u001b[0;34moutdir                      : \u001b[0;32mdifferentialabundance_results\u001b[0m\n",
      "\n",
      "\u001b[1mAbundance values\u001b[0m\n",
      "  \u001b[0;34mmatrix                      : \u001b[0;32msalmon.merged.gene_counts.tsv\u001b[0m\n",
      "  \u001b[0;34maffy_cel_files_archive      : \u001b[0;32mnull\u001b[0m\n",
      "  \u001b[0;34mquerygse                    : \u001b[0;32mnull\u001b[0m\n",
      "\n",
      "\u001b[1mAffy input options\u001b[0m\n",
      "  \u001b[0;34maffy_cdfname                : \u001b[0;32mnull\u001b[0m\n",
      "\n",
      "\u001b[1mExploratory analysis\u001b[0m\n",
      "  \u001b[0;34mexploratory_log2_assays     : \u001b[0;32mraw,normalised\u001b[0m\n",
      "\n",
      "\u001b[1mDifferential analysis\u001b[0m\n",
      "  \u001b[0;34mdifferential_file_suffix    : \u001b[0;32m.deseq2.results.tsv\u001b[0m\n",
      "\n",
      "\u001b[1mLimma specific options (microarray only)\u001b[0m\n",
      "  \u001b[0;34mlimma_spacing               : \u001b[0;32mnull\u001b[0m\n",
      "  \u001b[0;34mlimma_block                 : \u001b[0;32mnull\u001b[0m\n",
      "  \u001b[0;34mlimma_correlation           : \u001b[0;32mnull\u001b[0m\n",
      "\n",
      "\u001b[1mgprofiler2\u001b[0m\n",
      "  \u001b[0;34mgprofiler2_correction_method: \u001b[0;32mgSCS\u001b[0m\n",
      "  \u001b[0;34mgprofiler2_background_file  : \u001b[0;32mauto\u001b[0m\n",
      "\n",
      "\u001b[1mShiny app settings\u001b[0m\n",
      "  \u001b[0;34mshinyngs_shinyapps_account  : \u001b[0;32mnull\u001b[0m\n",
      "  \u001b[0;34mshinyngs_shinyapps_app_name : \u001b[0;32mnull\u001b[0m\n",
      "\n",
      "\u001b[1mOptions related to gene set analysis\u001b[0m\n",
      "  \u001b[0;34mgene_sets_files             : \u001b[0;32mnull\u001b[0m\n",
      "\n",
      "\u001b[1mReporting options\u001b[0m\n",
      "  \u001b[0;34mreport_title                : \u001b[0;32mnull\u001b[0m\n",
      "  \u001b[0;34mreport_author               : \u001b[0;32mnull\u001b[0m\n",
      "  \u001b[0;34mreport_description          : \u001b[0;32mnull\u001b[0m\n",
      "\n",
      "\u001b[1mReference genome options\u001b[0m\n",
      "  \u001b[0;34mgenome                      : \u001b[0;32mGRCm38\u001b[0m\n",
      "  \u001b[0;34mgtf                         : \u001b[0;32ms3://ngi-igenomes/igenomes//Mus_musculus/Ensembl/GRCm38/Annotation/Genes/genes.gtf\u001b[0m\n",
      "\n",
      "\u001b[1mInstitutional config options\u001b[0m\n",
      "  \u001b[0;34mconfig_profile_name         : \u001b[0;32mRNA-seq profile\u001b[0m\n",
      "  \u001b[0;34mconfig_profile_description  : \u001b[0;32mSettings for RNA-seq analysis\u001b[0m\n",
      "\n",
      "!! Only displaying parameters that differ from the pipeline defaults !!\n",
      "-\u001b[2m----------------------------------------------------\u001b[0m-\n",
      "If you use nf-core/differentialabundance for your analysis please cite:\n",
      "\n",
      "* The pipeline\n",
      "  https://doi.org/10.5281/zenodo.7568000\n",
      "\n",
      "* The nf-core framework\n",
      "  https://doi.org/10.1038/s41587-020-0439-x\n",
      "\n",
      "* Software dependencies\n",
      "  https://github.com/nf-core/differentialabundance/blob/master/CITATIONS.md\n",
      "-\u001b[2m----------------------------------------------------\u001b[0m-\n",
      "\u001b[33mWARN: Access to undefined parameter `gtf` -- Initialise it to a default value eg. `params.gtf = some_value`\u001b[39m\u001b[K\n",
      "[-        ] process > NFCORE_DIFFERENTIALABUNDANC... -\u001b[K\n",
      "[-        ] process > NFCORE_DIFFERENTIALABUNDANC... -\u001b[K\n",
      "[-        ] process > NFCORE_DIFFERENTIALABUNDANC... -\u001b[K\n",
      "[-        ] process > NFCORE_DIFFERENTIALABUNDANC... -\u001b[K\n",
      "[-        ] process > NFCORE_DIFFERENTIALABUNDANC... -\u001b[K\n",
      "[-        ] process > NFCORE_DIFFERENTIALABUNDANC... -\u001b[K\n",
      "\u001b[7A\n",
      "[-        ] process > NFCORE_DIFFERENTIALABUNDANC... -\u001b[K\n",
      "[-        ] process > NFCORE_DIFFERENTIALABUNDANC... -\u001b[K\n",
      "[-        ] process > NFCORE_DIFFERENTIALABUNDANC... -\u001b[K\n",
      "[-        ] process > NFCORE_DIFFERENTIALABUNDANC... -\u001b[K\n",
      "[-        ] process > NFCORE_DIFFERENTIALABUNDANC... -\u001b[K\n",
      "[-        ] process > NFCORE_DIFFERENTIALABUNDANC... -\u001b[K\n",
      "[-        ] process > NFCORE_DIFFERENTIALABUNDANC... -\u001b[K\n",
      "[-        ] process > NFCORE_DIFFERENTIALABUNDANC... -\u001b[K\n",
      "[-        ] process > NFCORE_DIFFERENTIALABUNDANC... -\u001b[K\n",
      "[-        ] process > NFCORE_DIFFERENTIALABUNDANC... -\u001b[K\n",
      "\u001b[11A\n",
      "executor >  local (1)\u001b[K\n",
      "[d0/ff4b07] process > NFCORE_DIFFERENTIALABUNDANC... [  0%] 0 of 1\u001b[K\n",
      "[-        ] process > NFCORE_DIFFERENTIALABUNDANC... -\u001b[K\n",
      "[-        ] process > NFCORE_DIFFERENTIALABUNDANC... -\u001b[K\n",
      "[-        ] process > NFCORE_DIFFERENTIALABUNDANC... -\u001b[K\n",
      "[-        ] process > NFCORE_DIFFERENTIALABUNDANC... -\u001b[K\n",
      "[-        ] process > NFCORE_DIFFERENTIALABUNDANC... -\u001b[K\n",
      "[-        ] process > NFCORE_DIFFERENTIALABUNDANC... -\u001b[K\n",
      "[-        ] process > NFCORE_DIFFERENTIALABUNDANC... -\u001b[K\n",
      "[-        ] process > NFCORE_DIFFERENTIALABUNDANC... -\u001b[K\n",
      "[-        ] process > NFCORE_DIFFERENTIALABUNDANC... -\u001b[K\n",
      "\u001b[12A\n",
      "executor >  local (2)\u001b[K\n",
      "[d0/ff4b07] process > NFCORE_DIFFERENTIALABUNDANC... [100%] 1 of 1 ✔\u001b[K\n",
      "[9e/d7d0c8] process > NFCORE_DIFFERENTIALABUNDANC... [  0%] 0 of 1\u001b[K\n",
      "[-        ] process > NFCORE_DIFFERENTIALABUNDANC... -\u001b[K\n",
      "[-        ] process > NFCORE_DIFFERENTIALABUNDANC... -\u001b[K\n",
      "[-        ] process > NFCORE_DIFFERENTIALABUNDANC... -\u001b[K\n",
      "[-        ] process > NFCORE_DIFFERENTIALABUNDANC... -\u001b[K\n",
      "[-        ] process > NFCORE_DIFFERENTIALABUNDANC... -\u001b[K\n",
      "[-        ] process > NFCORE_DIFFERENTIALABUNDANC... -\u001b[K\n",
      "[-        ] process > NFCORE_DIFFERENTIALABUNDANC... -\u001b[K\n",
      "[-        ] process > NFCORE_DIFFERENTIALABUNDANC... -\u001b[K\n",
      "\u001b[12A\n",
      "executor >  local (2)\u001b[K\n",
      "[d0/ff4b07] process > NFCORE_DIFFERENTIALABUNDANC... [100%] 1 of 1 ✔\u001b[K\n",
      "[9e/d7d0c8] process > NFCORE_DIFFERENTIALABUNDANC... [100%] 1 of 1 ✔\u001b[K\n",
      "[-        ] process > NFCORE_DIFFERENTIALABUNDANC... -\u001b[K\n",
      "[-        ] process > NFCORE_DIFFERENTIALABUNDANC... -\u001b[K\n",
      "[-        ] process > NFCORE_DIFFERENTIALABUNDANC... -\u001b[K\n",
      "[-        ] process > NFCORE_DIFFERENTIALABUNDANC... -\u001b[K\n",
      "[-        ] process > NFCORE_DIFFERENTIALABUNDANC... -\u001b[K\n",
      "[-        ] process > NFCORE_DIFFERENTIALABUNDANC... -\u001b[K\n",
      "[-        ] process > NFCORE_DIFFERENTIALABUNDANC... -\u001b[K\n",
      "[-        ] process > NFCORE_DIFFERENTIALABUNDANC... -\u001b[K\n",
      "\u001b[12A\n",
      "executor >  local (4)\u001b[K\n",
      "[d0/ff4b07] process > NFCORE_DIFFERENTIALABUNDANC... [100%] 1 of 1 ✔\u001b[K\n",
      "[9e/d7d0c8] process > NFCORE_DIFFERENTIALABUNDANC... [100%] 1 of 1 ✔\u001b[K\n",
      "[21/8a5f10] process > NFCORE_DIFFERENTIALABUNDANC... [  0%] 0 of 1\u001b[K\n",
      "[a2/519ddd] process > NFCORE_DIFFERENTIALABUNDANC... [  0%] 0 of 4\u001b[K\n",
      "[-        ] process > NFCORE_DIFFERENTIALABUNDANC... -\u001b[K\n",
      "[-        ] process > NFCORE_DIFFERENTIALABUNDANC... -\u001b[K\n",
      "[-        ] process > NFCORE_DIFFERENTIALABUNDANC... -\u001b[K\n",
      "[-        ] process > NFCORE_DIFFERENTIALABUNDANC... -\u001b[K\n",
      "[-        ] process > NFCORE_DIFFERENTIALABUNDANC... -\u001b[K\n",
      "[-        ] process > NFCORE_DIFFERENTIALABUNDANC... -\u001b[K\n",
      "\u001b[12A\n",
      "executor >  local (6)\u001b[K\n",
      "[d0/ff4b07] process > NFCORE_DIFFERENTIALABUNDANC... [100%] 1 of 1 ✔\u001b[K\n",
      "[9e/d7d0c8] process > NFCORE_DIFFERENTIALABUNDANC... [100%] 1 of 1 ✔\u001b[K\n",
      "[21/8a5f10] process > NFCORE_DIFFERENTIALABUNDANC... [100%] 1 of 1 ✔\u001b[K\n",
      "[df/565fbf] process > NFCORE_DIFFERENTIALABUNDANC... [ 25%] 1 of 4\u001b[K\n",
      "[-        ] process > NFCORE_DIFFERENTIALABUNDANC... [  0%] 0 of 1\u001b[K\n",
      "[-        ] process > NFCORE_DIFFERENTIALABUNDANC... [  0%] 0 of 1\u001b[K\n",
      "[-        ] process > NFCORE_DIFFERENTIALABUNDANC... [  0%] 0 of 1\u001b[K\n",
      "[-        ] process > NFCORE_DIFFERENTIALABUNDANC... -\u001b[K\n",
      "[-        ] process > NFCORE_DIFFERENTIALABUNDANC... -\u001b[K\n",
      "[-        ] process > NFCORE_DIFFERENTIALABUNDANC... -\u001b[K\n",
      "\u001b[12A\n",
      "executor >  local (6)\u001b[K\n",
      "[d0/ff4b07] process > NFCORE_DIFFERENTIALABUNDANC... [100%] 1 of 1 ✔\u001b[K\n",
      "[9e/d7d0c8] process > NFCORE_DIFFERENTIALABUNDANC... [100%] 1 of 1 ✔\u001b[K\n",
      "[21/8a5f10] process > NFCORE_DIFFERENTIALABUNDANC... [100%] 1 of 1 ✔\u001b[K\n",
      "[df/565fbf] process > NFCORE_DIFFERENTIALABUNDANC... [ 25%] 1 of 4\u001b[K\n",
      "[-        ] process > NFCORE_DIFFERENTIALABUNDANC... [  0%] 0 of 1\u001b[K\n",
      "[-        ] process > NFCORE_DIFFERENTIALABUNDANC... [  0%] 0 of 1\u001b[K\n",
      "[-        ] process > NFCORE_DIFFERENTIALABUNDANC... [  0%] 0 of 1\u001b[K\n",
      "[-        ] process > NFCORE_DIFFERENTIALABUNDANC... -\u001b[K\n",
      "[-        ] process > NFCORE_DIFFERENTIALABUNDANC... -\u001b[K\n",
      "[-        ] process > NFCORE_DIFFERENTIALABUNDANC... -\u001b[K\n",
      "\u001b[12A\n",
      "executor >  local (7)\u001b[K\n",
      "[d0/ff4b07] process > NFCORE_DIFFERENTIALABUNDANC... [100%] 1 of 1 ✔\u001b[K\n",
      "[9e/d7d0c8] process > NFCORE_DIFFERENTIALABUNDANC... [100%] 1 of 1 ✔\u001b[K\n",
      "[21/8a5f10] process > NFCORE_DIFFERENTIALABUNDANC... [100%] 1 of 1 ✔\u001b[K\n",
      "[51/8e5b39] process > NFCORE_DIFFERENTIALABUNDANC... [ 50%] 2 of 4\u001b[K\n",
      "[-        ] process > NFCORE_DIFFERENTIALABUNDANC... [  0%] 0 of 2\u001b[K\n",
      "[-        ] process > NFCORE_DIFFERENTIALABUNDANC... [  0%] 0 of 1\u001b[K\n",
      "[-        ] process > NFCORE_DIFFERENTIALABUNDANC... [  0%] 0 of 2\u001b[K\n",
      "[-        ] process > NFCORE_DIFFERENTIALABUNDANC... -\u001b[K\n",
      "[-        ] process > NFCORE_DIFFERENTIALABUNDANC... -\u001b[K\n",
      "[-        ] process > NFCORE_DIFFERENTIALABUNDANC... -\u001b[K\n",
      "\u001b[12A\n",
      "executor >  local (7)\u001b[K\n",
      "[d0/ff4b07] process > NFCORE_DIFFERENTIALABUNDANC... [100%] 1 of 1 ✔\u001b[K\n",
      "[9e/d7d0c8] process > NFCORE_DIFFERENTIALABUNDANC... [100%] 1 of 1 ✔\u001b[K\n",
      "[21/8a5f10] process > NFCORE_DIFFERENTIALABUNDANC... [100%] 1 of 1 ✔\u001b[K\n",
      "[51/8e5b39] process > NFCORE_DIFFERENTIALABUNDANC... [ 50%] 2 of 4\u001b[K\n",
      "[-        ] process > NFCORE_DIFFERENTIALABUNDANC... [  0%] 0 of 2\u001b[K\n",
      "[-        ] process > NFCORE_DIFFERENTIALABUNDANC... [  0%] 0 of 1\u001b[K\n",
      "[-        ] process > NFCORE_DIFFERENTIALABUNDANC... [  0%] 0 of 2\u001b[K\n",
      "[-        ] process > NFCORE_DIFFERENTIALABUNDANC... -\u001b[K\n",
      "[-        ] process > NFCORE_DIFFERENTIALABUNDANC... -\u001b[K\n",
      "[-        ] process > NFCORE_DIFFERENTIALABUNDANC... -\u001b[K\n",
      "\u001b[12A\n",
      "executor >  local (8)\u001b[K\n",
      "[d0/ff4b07] process > NFCORE_DIFFERENTIALABUNDANC... [100%] 1 of 1 ✔\u001b[K\n",
      "[9e/d7d0c8] process > NFCORE_DIFFERENTIALABUNDANC... [100%] 1 of 1 ✔\u001b[K\n",
      "[21/8a5f10] process > NFCORE_DIFFERENTIALABUNDANC... [100%] 1 of 1 ✔\u001b[K\n",
      "[df/565fbf] process > NFCORE_DIFFERENTIALABUNDANC... [ 75%] 3 of 4\u001b[K\n",
      "[60/4d35b1] process > NFCORE_DIFFERENTIALABUNDANC... [  0%] 0 of 3\u001b[K\n",
      "[-        ] process > NFCORE_DIFFERENTIALABUNDANC... [  0%] 0 of 1\u001b[K\n",
      "[-        ] process > NFCORE_DIFFERENTIALABUNDANC... [  0%] 0 of 3\u001b[K\n",
      "[-        ] process > NFCORE_DIFFERENTIALABUNDANC... -\u001b[K\n",
      "[-        ] process > NFCORE_DIFFERENTIALABUNDANC... -\u001b[K\n",
      "[-        ] process > NFCORE_DIFFERENTIALABUNDANC... -\u001b[K\n",
      "\u001b[12A\n",
      "executor >  local (9)\u001b[K\n",
      "[d0/ff4b07] process > NFCORE_DIFFERENTIALABUNDANC... [100%] 1 of 1 ✔\u001b[K\n",
      "[9e/d7d0c8] process > NFCORE_DIFFERENTIALABUNDANC... [100%] 1 of 1 ✔\u001b[K\n",
      "[21/8a5f10] process > NFCORE_DIFFERENTIALABUNDANC... [100%] 1 of 1 ✔\u001b[K\n",
      "[df/565fbf] process > NFCORE_DIFFERENTIALABUNDANC... [ 75%] 3 of 4\u001b[K\n",
      "[88/667f73] process > NFCORE_DIFFERENTIALABUNDANC... [ 33%] 1 of 3\u001b[K\n",
      "[-        ] process > NFCORE_DIFFERENTIALABUNDANC... [  0%] 0 of 1\u001b[K\n",
      "[-        ] process > NFCORE_DIFFERENTIALABUNDANC... [  0%] 0 of 3\u001b[K\n",
      "[-        ] process > NFCORE_DIFFERENTIALABUNDANC... -\u001b[K\n",
      "[-        ] process > NFCORE_DIFFERENTIALABUNDANC... -\u001b[K\n",
      "[-        ] process > NFCORE_DIFFERENTIALABUNDANC... -\u001b[K\n",
      "\u001b[12A\n",
      "executor >  local (9)\u001b[K\n",
      "[d0/ff4b07] process > NFCORE_DIFFERENTIALABUNDANC... [100%] 1 of 1 ✔\u001b[K\n",
      "[9e/d7d0c8] process > NFCORE_DIFFERENTIALABUNDANC... [100%] 1 of 1 ✔\u001b[K\n",
      "[21/8a5f10] process > NFCORE_DIFFERENTIALABUNDANC... [100%] 1 of 1 ✔\u001b[K\n",
      "[df/565fbf] process > NFCORE_DIFFERENTIALABUNDANC... [ 75%] 3 of 4\u001b[K\n",
      "[88/667f73] process > NFCORE_DIFFERENTIALABUNDANC... [ 33%] 1 of 3\u001b[K\n",
      "[-        ] process > NFCORE_DIFFERENTIALABUNDANC... [  0%] 0 of 1\u001b[K\n",
      "[-        ] process > NFCORE_DIFFERENTIALABUNDANC... [  0%] 0 of 3\u001b[K\n",
      "[-        ] process > NFCORE_DIFFERENTIALABUNDANC... -\u001b[K\n",
      "[-        ] process > NFCORE_DIFFERENTIALABUNDANC... -\u001b[K\n",
      "[-        ] process > NFCORE_DIFFERENTIALABUNDANC... -\u001b[K\n",
      "\u001b[12A\n",
      "executor >  local (10)\u001b[K\n",
      "[d0/ff4b07] process > NFCORE_DIFFERENTIALABUNDANC... [100%] 1 of 1 ✔\u001b[K\n",
      "[9e/d7d0c8] process > NFCORE_DIFFERENTIALABUNDANC... [100%] 1 of 1 ✔\u001b[K\n",
      "[21/8a5f10] process > NFCORE_DIFFERENTIALABUNDANC... [100%] 1 of 1 ✔\u001b[K\n",
      "[df/565fbf] process > NFCORE_DIFFERENTIALABUNDANC... [ 75%] 3 of 4\u001b[K\n",
      "[fe/7b69d5] process > NFCORE_DIFFERENTIALABUNDANC... [ 66%] 2 of 3\u001b[K\n",
      "[-        ] process > NFCORE_DIFFERENTIALABUNDANC... [  0%] 0 of 1\u001b[K\n",
      "[-        ] process > NFCORE_DIFFERENTIALABUNDANC... [  0%] 0 of 3\u001b[K\n",
      "[-        ] process > NFCORE_DIFFERENTIALABUNDANC... -\u001b[K\n",
      "[-        ] process > NFCORE_DIFFERENTIALABUNDANC... -\u001b[K\n",
      "[-        ] process > NFCORE_DIFFERENTIALABUNDANC... -\u001b[K\n",
      "\u001b[12A\n",
      "executor >  local (10)\u001b[K\n",
      "[d0/ff4b07] process > NFCORE_DIFFERENTIALABUNDANC... [100%] 1 of 1 ✔\u001b[K\n",
      "[9e/d7d0c8] process > NFCORE_DIFFERENTIALABUNDANC... [100%] 1 of 1 ✔\u001b[K\n",
      "[21/8a5f10] process > NFCORE_DIFFERENTIALABUNDANC... [100%] 1 of 1 ✔\u001b[K\n",
      "[df/565fbf] process > NFCORE_DIFFERENTIALABUNDANC... [ 75%] 3 of 4\u001b[K\n",
      "[fe/7b69d5] process > NFCORE_DIFFERENTIALABUNDANC... [ 66%] 2 of 3\u001b[K\n",
      "[-        ] process > NFCORE_DIFFERENTIALABUNDANC... [  0%] 0 of 1\u001b[K\n",
      "[-        ] process > NFCORE_DIFFERENTIALABUNDANC... [  0%] 0 of 3\u001b[K\n",
      "[-        ] process > NFCORE_DIFFERENTIALABUNDANC... -\u001b[K\n",
      "[-        ] process > NFCORE_DIFFERENTIALABUNDANC... -\u001b[K\n",
      "[-        ] process > NFCORE_DIFFERENTIALABUNDANC... -\u001b[K\n",
      "\u001b[12A\n",
      "executor >  local (10)\u001b[K\n",
      "[d0/ff4b07] process > NFCORE_DIFFERENTIALABUNDANC... [100%] 1 of 1 ✔\u001b[K\n",
      "[9e/d7d0c8] process > NFCORE_DIFFERENTIALABUNDANC... [100%] 1 of 1 ✔\u001b[K\n",
      "[21/8a5f10] process > NFCORE_DIFFERENTIALABUNDANC... [100%] 1 of 1 ✔\u001b[K\n",
      "[df/565fbf] process > NFCORE_DIFFERENTIALABUNDANC... [ 75%] 3 of 4\u001b[K\n",
      "[fe/7b69d5] process > NFCORE_DIFFERENTIALABUNDANC... [100%] 3 of 3\u001b[K\n",
      "[-        ] process > NFCORE_DIFFERENTIALABUNDANC... [  0%] 0 of 1\u001b[K\n",
      "[-        ] process > NFCORE_DIFFERENTIALABUNDANC... [  0%] 0 of 3\u001b[K\n",
      "[-        ] process > NFCORE_DIFFERENTIALABUNDANC... -\u001b[K\n",
      "[-        ] process > NFCORE_DIFFERENTIALABUNDANC... -\u001b[K\n",
      "[-        ] process > NFCORE_DIFFERENTIALABUNDANC... -\u001b[K\n",
      "\u001b[12A\n",
      "executor >  local (11)\u001b[K\n",
      "[d0/ff4b07] process > NFCORE_DIFFERENTIALABUNDANC... [100%] 1 of 1 ✔\u001b[K\n",
      "[9e/d7d0c8] process > NFCORE_DIFFERENTIALABUNDANC... [100%] 1 of 1 ✔\u001b[K\n",
      "[21/8a5f10] process > NFCORE_DIFFERENTIALABUNDANC... [100%] 1 of 1 ✔\u001b[K\n",
      "[1a/ae5b6a] process > NFCORE_DIFFERENTIALABUNDANC... [100%] 4 of 4 ✔\u001b[K\n",
      "[fe/7b69d5] process > NFCORE_DIFFERENTIALABUNDANC... [ 75%] 3 of 4\u001b[K\n",
      "[-        ] process > NFCORE_DIFFERENTIALABUNDANC... [  0%] 0 of 1\u001b[K\n",
      "[d9/063cd7] process > NFCORE_DIFFERENTIALABUNDANC... [  0%] 0 of 4\u001b[K\n",
      "[-        ] process > NFCORE_DIFFERENTIALABUNDANC... [  0%] 0 of 1\u001b[K\n",
      "[-        ] process > NFCORE_DIFFERENTIALABUNDANC... -\u001b[K\n",
      "[-        ] process > NFCORE_DIFFERENTIALABUNDANC... -\u001b[K\n",
      "\u001b[12A\n",
      "executor >  local (12)\u001b[K\n",
      "[d0/ff4b07] process > NFCORE_DIFFERENTIALABUNDANC... [100%] 1 of 1 ✔\u001b[K\n",
      "[9e/d7d0c8] process > NFCORE_DIFFERENTIALABUNDANC... [100%] 1 of 1 ✔\u001b[K\n",
      "[21/8a5f10] process > NFCORE_DIFFERENTIALABUNDANC... [100%] 1 of 1 ✔\u001b[K\n",
      "[1a/ae5b6a] process > NFCORE_DIFFERENTIALABUNDANC... [100%] 4 of 4 ✔\u001b[K\n",
      "[fe/7b69d5] process > NFCORE_DIFFERENTIALABUNDANC... [ 75%] 3 of 4\u001b[K\n",
      "[ab/026e52] process > NFCORE_DIFFERENTIALABUNDANC... [  0%] 0 of 1\u001b[K\n",
      "[d9/063cd7] process > NFCORE_DIFFERENTIALABUNDANC... [ 25%] 1 of 4\u001b[K\n",
      "[-        ] process > NFCORE_DIFFERENTIALABUNDANC... [  0%] 0 of 1\u001b[K\n",
      "[-        ] process > NFCORE_DIFFERENTIALABUNDANC... -\u001b[K\n",
      "[-        ] process > NFCORE_DIFFERENTIALABUNDANC... -\u001b[K\n",
      "\u001b[12A\n",
      "executor >  local (13)\u001b[K\n",
      "[d0/ff4b07] process > NFCORE_DIFFERENTIALABUNDANC... [100%] 1 of 1 ✔\u001b[K\n",
      "[9e/d7d0c8] process > NFCORE_DIFFERENTIALABUNDANC... [100%] 1 of 1 ✔\u001b[K\n",
      "[21/8a5f10] process > NFCORE_DIFFERENTIALABUNDANC... [100%] 1 of 1 ✔\u001b[K\n",
      "[1a/ae5b6a] process > NFCORE_DIFFERENTIALABUNDANC... [100%] 4 of 4 ✔\u001b[K\n",
      "[fe/7b69d5] process > NFCORE_DIFFERENTIALABUNDANC... [ 75%] 3 of 4\u001b[K\n",
      "[ab/026e52] process > NFCORE_DIFFERENTIALABUNDANC... [100%] 1 of 1 ✔\u001b[K\n",
      "[dd/4c2f9f] process > NFCORE_DIFFERENTIALABUNDANC... [ 25%] 1 of 4\u001b[K\n",
      "[-        ] process > NFCORE_DIFFERENTIALABUNDANC... [  0%] 0 of 1\u001b[K\n",
      "[-        ] process > NFCORE_DIFFERENTIALABUNDANC... -\u001b[K\n",
      "[-        ] process > NFCORE_DIFFERENTIALABUNDANC... -\u001b[K\n",
      "\u001b[12A\n",
      "executor >  local (14)\u001b[K\n",
      "[d0/ff4b07] process > NFCORE_DIFFERENTIALABUNDANC... [100%] 1 of 1 ✔\u001b[K\n",
      "[9e/d7d0c8] process > NFCORE_DIFFERENTIALABUNDANC... [100%] 1 of 1 ✔\u001b[K\n",
      "[21/8a5f10] process > NFCORE_DIFFERENTIALABUNDANC... [100%] 1 of 1 ✔\u001b[K\n",
      "[1a/ae5b6a] process > NFCORE_DIFFERENTIALABUNDANC... [100%] 4 of 4 ✔\u001b[K\n",
      "[fe/7b69d5] process > NFCORE_DIFFERENTIALABUNDANC... [ 75%] 3 of 4\u001b[K\n",
      "[ab/026e52] process > NFCORE_DIFFERENTIALABUNDANC... [100%] 1 of 1 ✔\u001b[K\n",
      "[97/16ae79] process > NFCORE_DIFFERENTIALABUNDANC... [ 50%] 2 of 4\u001b[K\n",
      "[-        ] process > NFCORE_DIFFERENTIALABUNDANC... [  0%] 0 of 1\u001b[K\n",
      "[-        ] process > NFCORE_DIFFERENTIALABUNDANC... -\u001b[K\n",
      "[-        ] process > NFCORE_DIFFERENTIALABUNDANC... -\u001b[K\n",
      "\u001b[12A\n",
      "executor >  local (14)\u001b[K\n",
      "[d0/ff4b07] process > NFCORE_DIFFERENTIALABUNDANC... [100%] 1 of 1 ✔\u001b[K\n",
      "[9e/d7d0c8] process > NFCORE_DIFFERENTIALABUNDANC... [100%] 1 of 1 ✔\u001b[K\n",
      "[21/8a5f10] process > NFCORE_DIFFERENTIALABUNDANC... [100%] 1 of 1 ✔\u001b[K\n",
      "[1a/ae5b6a] process > NFCORE_DIFFERENTIALABUNDANC... [100%] 4 of 4 ✔\u001b[K\n",
      "[fe/7b69d5] process > NFCORE_DIFFERENTIALABUNDANC... [ 75%] 3 of 4\u001b[K\n",
      "[ab/026e52] process > NFCORE_DIFFERENTIALABUNDANC... [100%] 1 of 1 ✔\u001b[K\n",
      "[97/16ae79] process > NFCORE_DIFFERENTIALABUNDANC... [ 50%] 2 of 4\u001b[K\n",
      "[-        ] process > NFCORE_DIFFERENTIALABUNDANC... [  0%] 0 of 1\u001b[K\n",
      "[-        ] process > NFCORE_DIFFERENTIALABUNDANC... -\u001b[K\n",
      "[-        ] process > NFCORE_DIFFERENTIALABUNDANC... -\u001b[K\n",
      "\u001b[12A\n",
      "executor >  local (15)\u001b[K\n",
      "[d0/ff4b07] process > NFCORE_DIFFERENTIALABUNDANC... [100%] 1 of 1 ✔\u001b[K\n",
      "[9e/d7d0c8] process > NFCORE_DIFFERENTIALABUNDANC... [100%] 1 of 1 ✔\u001b[K\n",
      "[21/8a5f10] process > NFCORE_DIFFERENTIALABUNDANC... [100%] 1 of 1 ✔\u001b[K\n",
      "[1a/ae5b6a] process > NFCORE_DIFFERENTIALABUNDANC... [100%] 4 of 4 ✔\u001b[K\n",
      "[fe/7b69d5] process > NFCORE_DIFFERENTIALABUNDANC... [ 75%] 3 of 4\u001b[K\n",
      "[ab/026e52] process > NFCORE_DIFFERENTIALABUNDANC... [100%] 1 of 1 ✔\u001b[K\n",
      "[0f/105608] process > NFCORE_DIFFERENTIALABUNDANC... [ 75%] 3 of 4\u001b[K\n",
      "[-        ] process > NFCORE_DIFFERENTIALABUNDANC... [  0%] 0 of 1\u001b[K\n",
      "[-        ] process > NFCORE_DIFFERENTIALABUNDANC... -\u001b[K\n",
      "[-        ] process > NFCORE_DIFFERENTIALABUNDANC... -\u001b[K\n",
      "\u001b[12A\n",
      "executor >  local (16)\u001b[K\n",
      "[d0/ff4b07] process > NFCORE_DIFFERENTIALABUNDANC... [100%] 1 of 1 ✔\u001b[K\n",
      "[9e/d7d0c8] process > NFCORE_DIFFERENTIALABUNDANC... [100%] 1 of 1 ✔\u001b[K\n",
      "[21/8a5f10] process > NFCORE_DIFFERENTIALABUNDANC... [100%] 1 of 1 ✔\u001b[K\n",
      "[1a/ae5b6a] process > NFCORE_DIFFERENTIALABUNDANC... [100%] 4 of 4 ✔\u001b[K\n",
      "[2d/070c2f] process > NFCORE_DIFFERENTIALABUNDANC... [ 75%] 3 of 4\u001b[K\n",
      "[ab/026e52] process > NFCORE_DIFFERENTIALABUNDANC... [100%] 1 of 1 ✔\u001b[K\n",
      "[0f/105608] process > NFCORE_DIFFERENTIALABUNDANC... [100%] 4 of 4 ✔\u001b[K\n",
      "[-        ] process > NFCORE_DIFFERENTIALABUNDANC... [  0%] 0 of 1\u001b[K\n",
      "[-        ] process > NFCORE_DIFFERENTIALABUNDANC... -\u001b[K\n",
      "[-        ] process > NFCORE_DIFFERENTIALABUNDANC... -\u001b[K\n",
      "\u001b[12A\n",
      "executor >  local (16)\u001b[K\n",
      "[d0/ff4b07] process > NFCORE_DIFFERENTIALABUNDANC... [100%] 1 of 1 ✔\u001b[K\n",
      "[9e/d7d0c8] process > NFCORE_DIFFERENTIALABUNDANC... [100%] 1 of 1 ✔\u001b[K\n",
      "[21/8a5f10] process > NFCORE_DIFFERENTIALABUNDANC... [100%] 1 of 1 ✔\u001b[K\n",
      "[1a/ae5b6a] process > NFCORE_DIFFERENTIALABUNDANC... [100%] 4 of 4 ✔\u001b[K\n",
      "[2d/070c2f] process > NFCORE_DIFFERENTIALABUNDANC... [ 75%] 3 of 4\u001b[K\n",
      "[ab/026e52] process > NFCORE_DIFFERENTIALABUNDANC... [100%] 1 of 1 ✔\u001b[K\n",
      "[0f/105608] process > NFCORE_DIFFERENTIALABUNDANC... [100%] 4 of 4 ✔\u001b[K\n",
      "[-        ] process > NFCORE_DIFFERENTIALABUNDANC... [  0%] 0 of 1\u001b[K\n",
      "[-        ] process > NFCORE_DIFFERENTIALABUNDANC... [  0%] 0 of 1\u001b[K\n",
      "[-        ] process > NFCORE_DIFFERENTIALABUNDANC... -\u001b[K\n",
      "\u001b[12A\n",
      "executor >  local (17)\u001b[K\n",
      "[d0/ff4b07] process > NFCORE_DIFFERENTIALABUNDANC... [100%] 1 of 1 ✔\u001b[K\n",
      "[9e/d7d0c8] process > NFCORE_DIFFERENTIALABUNDANC... [100%] 1 of 1 ✔\u001b[K\n",
      "[21/8a5f10] process > NFCORE_DIFFERENTIALABUNDANC... [100%] 1 of 1 ✔\u001b[K\n",
      "[1a/ae5b6a] process > NFCORE_DIFFERENTIALABUNDANC... [100%] 4 of 4 ✔\u001b[K\n",
      "[2d/070c2f] process > NFCORE_DIFFERENTIALABUNDANC... [100%] 4 of 4 ✔\u001b[K\n",
      "[ab/026e52] process > NFCORE_DIFFERENTIALABUNDANC... [100%] 1 of 1 ✔\u001b[K\n",
      "[0f/105608] process > NFCORE_DIFFERENTIALABUNDANC... [100%] 4 of 4 ✔\u001b[K\n",
      "[78/f72459] process > NFCORE_DIFFERENTIALABUNDANC... [  0%] 0 of 1\u001b[K\n",
      "[-        ] process > NFCORE_DIFFERENTIALABUNDANC... [  0%] 0 of 1\u001b[K\n",
      "[-        ] process > NFCORE_DIFFERENTIALABUNDANC... -\u001b[K\n",
      "\u001b[12A\n",
      "executor >  local (17)\u001b[K\n",
      "[d0/ff4b07] process > NFCORE_DIFFERENTIALABUNDANC... [100%] 1 of 1 ✔\u001b[K\n",
      "[9e/d7d0c8] process > NFCORE_DIFFERENTIALABUNDANC... [100%] 1 of 1 ✔\u001b[K\n",
      "[21/8a5f10] process > NFCORE_DIFFERENTIALABUNDANC... [100%] 1 of 1 ✔\u001b[K\n",
      "[1a/ae5b6a] process > NFCORE_DIFFERENTIALABUNDANC... [100%] 4 of 4 ✔\u001b[K\n",
      "[2d/070c2f] process > NFCORE_DIFFERENTIALABUNDANC... [100%] 4 of 4 ✔\u001b[K\n",
      "[ab/026e52] process > NFCORE_DIFFERENTIALABUNDANC... [100%] 1 of 1 ✔\u001b[K\n",
      "[0f/105608] process > NFCORE_DIFFERENTIALABUNDANC... [100%] 4 of 4 ✔\u001b[K\n",
      "[78/f72459] process > NFCORE_DIFFERENTIALABUNDANC... [  0%] 0 of 1\u001b[K\n",
      "[-        ] process > NFCORE_DIFFERENTIALABUNDANC... [  0%] 0 of 1\u001b[K\n",
      "[-        ] process > NFCORE_DIFFERENTIALABUNDANC... -\u001b[K\n",
      "\u001b[12A\n",
      "executor >  local (18)\u001b[K\n",
      "[d0/ff4b07] process > NFCORE_DIFFERENTIALABUNDANC... [100%] 1 of 1 ✔\u001b[K\n",
      "[9e/d7d0c8] process > NFCORE_DIFFERENTIALABUNDANC... [100%] 1 of 1 ✔\u001b[K\n",
      "[21/8a5f10] process > NFCORE_DIFFERENTIALABUNDANC... [100%] 1 of 1 ✔\u001b[K\n",
      "[1a/ae5b6a] process > NFCORE_DIFFERENTIALABUNDANC... [100%] 4 of 4 ✔\u001b[K\n",
      "[2d/070c2f] process > NFCORE_DIFFERENTIALABUNDANC... [100%] 4 of 4 ✔\u001b[K\n",
      "[ab/026e52] process > NFCORE_DIFFERENTIALABUNDANC... [100%] 1 of 1 ✔\u001b[K\n",
      "[0f/105608] process > NFCORE_DIFFERENTIALABUNDANC... [100%] 4 of 4 ✔\u001b[K\n",
      "[78/f72459] process > NFCORE_DIFFERENTIALABUNDANC... [100%] 1 of 1 ✔\u001b[K\n",
      "[52/e70a89] process > NFCORE_DIFFERENTIALABUNDANC... [  0%] 0 of 1\u001b[K\n",
      "[-        ] process > NFCORE_DIFFERENTIALABUNDANC... -\u001b[K\n",
      "\u001b[12A\n",
      "executor >  local (18)\u001b[K\n",
      "[d0/ff4b07] process > NFCORE_DIFFERENTIALABUNDANC... [100%] 1 of 1 ✔\u001b[K\n",
      "[9e/d7d0c8] process > NFCORE_DIFFERENTIALABUNDANC... [100%] 1 of 1 ✔\u001b[K\n",
      "[21/8a5f10] process > NFCORE_DIFFERENTIALABUNDANC... [100%] 1 of 1 ✔\u001b[K\n",
      "[1a/ae5b6a] process > NFCORE_DIFFERENTIALABUNDANC... [100%] 4 of 4 ✔\u001b[K\n",
      "[2d/070c2f] process > NFCORE_DIFFERENTIALABUNDANC... [100%] 4 of 4 ✔\u001b[K\n",
      "[ab/026e52] process > NFCORE_DIFFERENTIALABUNDANC... [100%] 1 of 1 ✔\u001b[K\n",
      "[0f/105608] process > NFCORE_DIFFERENTIALABUNDANC... [100%] 4 of 4 ✔\u001b[K\n",
      "[78/f72459] process > NFCORE_DIFFERENTIALABUNDANC... [100%] 1 of 1 ✔\u001b[K\n",
      "[52/e70a89] process > NFCORE_DIFFERENTIALABUNDANC... [  0%] 0 of 1\u001b[K\n",
      "[-        ] process > NFCORE_DIFFERENTIALABUNDANC... -\u001b[K\n",
      "\u001b[12A\n",
      "executor >  local (19)\u001b[K\n",
      "[d0/ff4b07] process > NFCORE_DIFFERENTIALABUNDANC... [100%] 1 of 1 ✔\u001b[K\n",
      "[9e/d7d0c8] process > NFCORE_DIFFERENTIALABUNDANC... [100%] 1 of 1 ✔\u001b[K\n",
      "[21/8a5f10] process > NFCORE_DIFFERENTIALABUNDANC... [100%] 1 of 1 ✔\u001b[K\n",
      "[1a/ae5b6a] process > NFCORE_DIFFERENTIALABUNDANC... [100%] 4 of 4 ✔\u001b[K\n",
      "[2d/070c2f] process > NFCORE_DIFFERENTIALABUNDANC... [100%] 4 of 4 ✔\u001b[K\n",
      "[ab/026e52] process > NFCORE_DIFFERENTIALABUNDANC... [100%] 1 of 1 ✔\u001b[K\n",
      "[0f/105608] process > NFCORE_DIFFERENTIALABUNDANC... [100%] 4 of 4 ✔\u001b[K\n",
      "[78/f72459] process > NFCORE_DIFFERENTIALABUNDANC... [100%] 1 of 1 ✔\u001b[K\n",
      "[52/e70a89] process > NFCORE_DIFFERENTIALABUNDANC... [100%] 1 of 1 ✔\u001b[K\n",
      "[9c/1c22e5] process > NFCORE_DIFFERENTIALABUNDANC... [  0%] 0 of 1\u001b[K\n",
      "\u001b[12A\n",
      "executor >  local (19)\u001b[K\n",
      "[d0/ff4b07] process > NFCORE_DIFFERENTIALABUNDANC... [100%] 1 of 1 ✔\u001b[K\n",
      "[9e/d7d0c8] process > NFCORE_DIFFERENTIALABUNDANC... [100%] 1 of 1 ✔\u001b[K\n",
      "[21/8a5f10] process > NFCORE_DIFFERENTIALABUNDANC... [100%] 1 of 1 ✔\u001b[K\n",
      "[1a/ae5b6a] process > NFCORE_DIFFERENTIALABUNDANC... [100%] 4 of 4 ✔\u001b[K\n",
      "[2d/070c2f] process > NFCORE_DIFFERENTIALABUNDANC... [100%] 4 of 4 ✔\u001b[K\n",
      "[ab/026e52] process > NFCORE_DIFFERENTIALABUNDANC... [100%] 1 of 1 ✔\u001b[K\n",
      "[0f/105608] process > NFCORE_DIFFERENTIALABUNDANC... [100%] 4 of 4 ✔\u001b[K\n",
      "[78/f72459] process > NFCORE_DIFFERENTIALABUNDANC... [100%] 1 of 1 ✔\u001b[K\n",
      "[52/e70a89] process > NFCORE_DIFFERENTIALABUNDANC... [100%] 1 of 1 ✔\u001b[K\n",
      "[9c/1c22e5] process > NFCORE_DIFFERENTIALABUNDANC... [100%] 1 of 1 ✔\u001b[K\n",
      "\u001b[12A\n",
      "executor >  local (19)\u001b[K\n",
      "[d0/ff4b07] process > NFCORE_DIFFERENTIALABUNDANC... [100%] 1 of 1 ✔\u001b[K\n",
      "[9e/d7d0c8] process > NFCORE_DIFFERENTIALABUNDANC... [100%] 1 of 1 ✔\u001b[K\n",
      "[21/8a5f10] process > NFCORE_DIFFERENTIALABUNDANC... [100%] 1 of 1 ✔\u001b[K\n",
      "[1a/ae5b6a] process > NFCORE_DIFFERENTIALABUNDANC... [100%] 4 of 4 ✔\u001b[K\n",
      "[2d/070c2f] process > NFCORE_DIFFERENTIALABUNDANC... [100%] 4 of 4 ✔\u001b[K\n",
      "[ab/026e52] process > NFCORE_DIFFERENTIALABUNDANC... [100%] 1 of 1 ✔\u001b[K\n",
      "[0f/105608] process > NFCORE_DIFFERENTIALABUNDANC... [100%] 4 of 4 ✔\u001b[K\n",
      "[78/f72459] process > NFCORE_DIFFERENTIALABUNDANC... [100%] 1 of 1 ✔\u001b[K\n",
      "[52/e70a89] process > NFCORE_DIFFERENTIALABUNDANC... [100%] 1 of 1 ✔\u001b[K\n",
      "[9c/1c22e5] process > NFCORE_DIFFERENTIALABUNDANC... [100%] 1 of 1 ✔\u001b[K\n",
      "\u001b[32;1mCompleted at: 02-Oct-2024 12:41:31\n",
      "Duration    : 2m 54s\n",
      "CPU hours   : 0.1\n",
      "Succeeded   : 19\n",
      "\u001b[22;39m\u001b[K\n",
      "\n"
     ]
    }
   ],
   "source": [
    "# post here the command you used to run nf-core/differentialabundance\n",
    "! nextflow run nf-core/differentialabundance \\\n",
    "     -r 1.5.0 \\\n",
    "     --input samplesheet.csv \\\n",
    "     --contrasts contrasts.csv \\\n",
    "     --matrix salmon.merged.gene_counts.tsv \\\n",
    "     --genome GRCm38 \\\n",
    "     --outdir differentialabundance_results  \\\n",
    "     -profile rnaseq,docker"
   ]
  },
  {
   "cell_type": "markdown",
   "metadata": {},
   "source": [
    "Explain all the parameters you set and why you set them in this way.\n"
   ]
  },
  {
   "cell_type": "markdown",
   "metadata": {},
   "source": [
    "\n",
    "- The -r 1.5.0 option specifies the version of the pipeline. The --input samplesheet.csv provides metadata about the samples, while --contrasts contrasts.csv defines the comparisons between sample groups. The --matrix salmon.merged.gene_counts.tsv specifies the gene count matrix from Salmon, and --gtf points to the gene annotation file. The --outdir differentialabundance_results sets the output directory for results, and -profile rnaseq,docker configures the workflow for RNA sequencing analysis using Docker."
   ]
  },
  {
   "cell_type": "markdown",
   "metadata": {},
   "source": [
    "How did the pipeline perform?"
   ]
  },
  {
   "cell_type": "markdown",
   "metadata": {},
   "source": [
    "- It wasn't time and source consuming. The duration was 2 min 54 sec. "
   ]
  },
  {
   "cell_type": "code",
   "execution_count": 82,
   "metadata": {},
   "outputs": [],
   "source": [
    "#!TODO"
   ]
  },
  {
   "cell_type": "markdown",
   "metadata": {},
   "source": [
    "Would you exclude any samples? If yes, which and why?"
   ]
  },
  {
   "cell_type": "markdown",
   "metadata": {},
   "source": [
    "- Based on the principal component plots, i.e. the one with variance stabilised (condition), we can see two points/ outliers which appear significantly separated from the rest. These two, SNI_Sal_4 and SNI_Sal_2, should be excluded."
   ]
  },
  {
   "cell_type": "markdown",
   "metadata": {},
   "source": [
    "How many genes were differentially expressed in each contrast? Does this confirm what the paper mentions?"
   ]
  },
  {
   "cell_type": "markdown",
   "metadata": {},
   "source": [
    "1. Sham_oxy versus Sham_Sal \n",
    "- 8 genes were upregulated (Slc6a3, Adcyap1, Khdrbs2, Ret, Cdh12, Cdr1, Gm37407, RP23-301C7.2), no genes were downregulated.\n",
    "- The paper indicates a much larger number of DEGs, with 2,609 genes altered (upregulated and downregulated combined) in the nucleus accumbens (NAc), 1,449 in the medial prefrontal cortex (mPFC), and 584 in the ventral tegmental area (VTA). This is significantly higher than the number of DEGs found in our results.\n",
    "\n",
    "2. SNI_Sal versus Sham_Sal \n",
    "- 72 genes were upregulated, 1 gene (Rsph4a) was downregulated.\n",
    "- The paper reports 1,457 DEGs in the NAc, 1,052 in the mPFC, and 425 in the VTA, which is again much higher than the number of DEGs we identified.\n",
    "\n",
    "3. SNI_oxy versus Sham_Sal\n",
    "- 1 gene was upregulated (Cdr1) and 1 was downregulated (Gm22614).\n",
    "- The paper reports 1,012 DEGs in the NAc, 1,116 in the mPFC, and 533 in the VTA for this comparison.\n",
    "\n",
    "4. SNI_oxy versus SNI_Sal\n",
    "- One gene was upregulated (Top2a) and 24 genes were downregulated.\n",
    "- The paper does not explicitly provide a total count of upregulated vs. downregulated genes for this comparison.\n",
    "\n",
    "Comparison to the results of the paper:\n",
    "- The paper has totally different results: They found a lot more differentially expressed genes in the paper than we did in our analysis. The numbers from the paper are mentioned above (2nd bullet point)."
   ]
  },
  {
   "cell_type": "markdown",
   "metadata": {},
   "source": [
    "The paper mentions differentially expressed genes in three brain regions : the NAc, mPFC and VTA. Briefly explain what these 3 regions are."
   ]
  },
  {
   "cell_type": "markdown",
   "metadata": {},
   "source": [
    "- Nucleus accumbens (NAc): The nucleus accumbens is a key part of the basal ganglia located in the ventral forebrain, sitting between the putamen and caudate nucleus. It plays a significant role in motivational and emotional processes, as well as the impact of certain psychoactive drugs. It is associated with various neurological and psychiatric disorders, i.e. depression or anxiety, and several neurodegenerative diseases. (https://www.frontiersin.org/journals/behavioral-neuroscience/articles/10.3389/fnbeh.2019.00227/full, https://pubmed.ncbi.nlm.nih.gov/25720819/)\n",
    "- Medial prefrontal cortex (mPFC): The medial prefrontal cortex (mPFC) regulates the HPA axis in a region-specific manner due to its distinct anatomical connections. The infralimbic cortex activates the HPA axis by projecting to areas like the BNST and amygdala, while the prelimbic cortex suppresses it through connections to the ventrolateral preoptic area and dorsomedial hypothalamus. Additionally, the presence of glucocorticoid receptors in the mPFC suggests it may also contribute to negative feedback regulation of the HPA axis. (https://www.sciencedirect.com/topics/medicine-and-dentistry/medial-prefrontal-cortex)\n",
    "- Ventral tegmental area (VTA): The vental tegmental area is a region located in the midbrain, which is important for regulating reward consumption, learning, memory, and addiction traits. It mediates dopamine (DA) release. (https://www.sciencedirect.com/topics/neuroscience/ventral-tegmental-area, https://www.frontiersin.org/journals/neural-circuits/articles/10.3389/fncir.2022.867053/full)"
   ]
  },
  {
   "cell_type": "markdown",
   "metadata": {},
   "source": [
    "Is there anyway from the paper and the material and methods for us to know which genes are included in these regions?"
   ]
  },
  {
   "cell_type": "markdown",
   "metadata": {},
   "source": [
    "- I only found that they mentioned how many DEGs where included in each region, but not which genes specifically. So the paper does not provide an explicit list of all genes included in each region. Instead, it describes differential expression and canonical pathways affected in each region under different conditions, and provides some examples of key genes involved in these pathways. To determine exactly which genes are included, we could search in the supplementary material of the paper.\n",
    "\n",
    "- \"The comparison of SNI-Oxy versus Sham-Sal groups resulted in 1,012 differentially expressed genes (DEGs) in the NAc, 1,116 genes in the mPFC and 533 genes in the VTA. SNI-Sal triggered 1,457 DEGs in the NAc, 1,052 DEGs in the mPFC and 425 DEGs in the VTA as compared to Sham-Sal controls. The Sham-Oxy condition altered 2,609 genes in the NAc, 1,449 genes in the mPFC and 584 genes in the VTA as compared to Sham-Sal controls.\" (see paper)"
   ]
  },
  {
   "cell_type": "markdown",
   "metadata": {},
   "source": [
    "Once you have your list of differentially expressed genes, do you think just communicating those to the biologists would be sufficient? What does the publication state?"
   ]
  },
  {
   "cell_type": "markdown",
   "metadata": {},
   "source": [
    "- Just giving biologists a list of differentially expressed genes (DEGs) isn't enough.\n",
    "- The publication suggests it's important to also explain how these genes affect biological processes and pathways, identify key regulators behind the changes, and connect these findings to any behavioral impacts seen in the study. This includes using tools like Gene Ontology (GO) analysis, ingenuity pathway analysis (IPA), and identifying key transcriptional regulators, which help explain the broader biological implications of the DEGs​.\n",
    "- This information gives biologists a clearer starting point for further experiments."
   ]
  },
  {
   "cell_type": "markdown",
   "metadata": {},
   "source": [
    "Please reproduce the Venn Diagram from Figure 3, not taking into account the brain regions but just the contrasts mentioned."
   ]
  },
  {
   "cell_type": "markdown",
   "metadata": {},
   "source": [
    "![alt text](/home/tabea/ComputationalWorkflows/Tag3/output.png \"Title\")"
   ]
  }
 ],
 "metadata": {
  "kernelspec": {
   "display_name": "work",
   "language": "python",
   "name": "python3"
  },
  "language_info": {
   "codemirror_mode": {
    "name": "ipython",
    "version": 3
   },
   "file_extension": ".py",
   "mimetype": "text/x-python",
   "name": "python",
   "nbconvert_exporter": "python",
   "pygments_lexer": "ipython3",
   "version": "3.10.14"
  }
 },
 "nbformat": 4,
 "nbformat_minor": 2
}
